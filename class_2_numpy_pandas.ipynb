{
 "cells": [
  {
   "cell_type": "code",
   "execution_count": 2,
   "metadata": {},
   "outputs": [],
   "source": [
    "%matplotlib inline\n",
    "%load_ext autoreload\n",
    "%autoreload 2\n",
    "\n",
    "import numpy as np\n",
    "import pandas as pd\n",
    "import matplotlib.pyplot as plt\n",
    "import seaborn as sns\n",
    "from IPython.display import Markdown, display, HTML\n",
    "\n",
    "# Fix the dying kernel problem (only a problem in some installations - you can remove it, if it works without it)\n",
    "import os\n",
    "os.environ['KMP_DUPLICATE_LIB_OK'] = 'True'"
   ]
  },
  {
   "cell_type": "markdown",
   "metadata": {},
   "source": [
    "# Numpy\n",
    "\n",
    "For a detailed reference check out: https://numpy.org/doc/stable/reference/arrays.indexing.html."
   ]
  },
  {
   "cell_type": "markdown",
   "metadata": {},
   "source": [
    "## Creating numpy arrays"
   ]
  },
  {
   "cell_type": "markdown",
   "metadata": {},
   "source": [
    "### Directly"
   ]
  },
  {
   "cell_type": "code",
   "execution_count": 3,
   "metadata": {},
   "outputs": [
    {
     "name": "stdout",
     "output_type": "stream",
     "text": [
      "[[1. 2. 3.]\n",
      " [4. 5. 6.]\n",
      " [7. 8. 9.]]\n"
     ]
    }
   ],
   "source": [
    "a = np.array(\n",
    "    [[1.0, 2.0, 3.0], \n",
    "     [4.0, 5.0, 6.0], \n",
    "     [7.0, 8.0, 9.0]]\n",
    ")\n",
    "\n",
    "print(a)"
   ]
  },
  {
   "cell_type": "markdown",
   "metadata": {},
   "source": [
    "### From a list"
   ]
  },
  {
   "cell_type": "code",
   "execution_count": 4,
   "metadata": {},
   "outputs": [
    {
     "name": "stdout",
     "output_type": "stream",
     "text": [
      "[[1.0, 2.0, 3.0], [4.0, 5.0, 6.0], [7.0, 8.0, 9.0]]\n",
      "\n",
      "[[1. 2. 3.]\n",
      " [4. 5. 6.]\n",
      " [7. 8. 9.]]\n"
     ]
    }
   ],
   "source": [
    "a = [[1.0, 2.0, 3.0], \n",
    "     [4.0, 5.0, 6.0], \n",
    "     [7.0, 8.0, 9.0]]\n",
    "\n",
    "print(a)\n",
    "print()\n",
    "\n",
    "a = np.array(a)\n",
    "\n",
    "print(a)"
   ]
  },
  {
   "cell_type": "markdown",
   "metadata": {},
   "source": [
    "### From a list comprehension"
   ]
  },
  {
   "cell_type": "code",
   "execution_count": null,
   "metadata": {},
   "outputs": [],
   "source": [
    "a = [i**2 for i in range(10)]\n",
    "\n",
    "print(a)\n",
    "print()\n",
    "print(np.array(a))"
   ]
  },
  {
   "cell_type": "markdown",
   "metadata": {},
   "source": [
    "### Ready-made functions in numpy"
   ]
  },
  {
   "cell_type": "code",
   "execution_count": null,
   "metadata": {},
   "outputs": [],
   "source": [
    "# All zeros\n",
    "a = np.zeros((3, 4))\n",
    "print(\"All zeros\")\n",
    "print(a)\n",
    "print()\n",
    "\n",
    "# All a chosen value\n",
    "a = np.full((3, 4), 7.0)\n",
    "print(\"All chosen value (variant 1)\")\n",
    "print(a)\n",
    "print()\n",
    "\n",
    "# or\n",
    "\n",
    "a = np.zeros((3, 4))\n",
    "a[:] = 7.0\n",
    "print(\"All chosen value (variant 2)\")\n",
    "print(a)\n",
    "print()\n",
    "\n",
    "# Random integers\n",
    "\n",
    "a = np.random.randint(low=0, high=10, size=(3, 2))\n",
    "print(\"Random integers\")\n",
    "print(a)\n",
    "print()\n",
    "\n",
    "# Random values from the normal distribution (Gaussian)\n",
    "\n",
    "print(\"Random values from the normal distribution\")\n",
    "a = np.random.normal(loc=0, scale=10, size=(3, 2))\n",
    "print(a)"
   ]
  },
  {
   "cell_type": "markdown",
   "metadata": {},
   "source": [
    "## Slicing numpy arrays"
   ]
  },
  {
   "cell_type": "markdown",
   "metadata": {},
   "source": [
    "### Slicing in 1D\n",
    "\n",
    "To obtain only specific values from a numpy array one can use so called slicing. It has the form\n",
    "\n",
    "**arr[low:high:step]**\n",
    "\n",
    "where low is the lowest index to be retrieved, high is the lowest index not to be retrieved and step indicates that every step element will be taken."
   ]
  },
  {
   "cell_type": "code",
   "execution_count": null,
   "metadata": {},
   "outputs": [],
   "source": [
    "a = [i**2 for i in range(10)]\n",
    "\n",
    "print(\"Original: \", a)\n",
    "print(\"First 5 elements:\", a[:5])\n",
    "print(\"Elements from index 3 to index 5:\", a[3:6])\n",
    "print(\"Last 3 elements (negative indexing):\", a[-3:])\n",
    "print(\"Printed in reverse order:\", a[::-1])\n",
    "print(\"Every second element:\", a[::2])"
   ]
  },
  {
   "cell_type": "markdown",
   "metadata": {},
   "source": [
    "### Slicing in 2D\n",
    "\n",
    "In two dimensions it works similarly, just the slicing is separate for every dimension."
   ]
  },
  {
   "cell_type": "code",
   "execution_count": null,
   "metadata": {},
   "outputs": [],
   "source": [
    "a = np.array([i for i in range(25)]).reshape(5, 5)\n",
    "\n",
    "print(\"Original: \")\n",
    "print(a)\n",
    "print()\n",
    "print(\"First 2 elements of the first 3 row:\")\n",
    "print(a[:3, :2])\n",
    "print()\n",
    "print(\"Middle 3 elements from the middle 3 rows:\")\n",
    "print(a[1:4, 1:4])\n",
    "print()\n",
    "print(\"Bottom-right 3 by 3 submatrix (negative indexing):\")\n",
    "print(a[-3:, -3:])\n",
    "print()\n",
    "print(\"Reversed columns:\")\n",
    "print(a[:, ::-1])\n",
    "print()"
   ]
  },
  {
   "cell_type": "markdown",
   "metadata": {},
   "source": [
    "### Setting numpy array field values"
   ]
  },
  {
   "cell_type": "code",
   "execution_count": null,
   "metadata": {},
   "outputs": [],
   "source": [
    "a = np.array([i for i in range(25)]).reshape(5, 5)\n",
    "\n",
    "print(\"Original: \")\n",
    "print(a)\n",
    "print()\n",
    "\n",
    "a[1:4, 1:4] = 5.0\n",
    "\n",
    "print(\"Middle values changed to 5\")\n",
    "print(a)\n",
    "print()\n",
    "\n",
    "b = np.array([i**2 - i for i in range(9)]).reshape(3, 3)\n",
    "\n",
    "print(\"Second matrix\")\n",
    "print(b)\n",
    "print()\n",
    "\n",
    "a[1:4, 1:4] = b\n",
    "\n",
    "print(\"Second matrix substituted into the middle of the first matrix\")\n",
    "print(a)"
   ]
  },
  {
   "cell_type": "markdown",
   "metadata": {},
   "source": [
    "## Operations on numpy arrays\n",
    "\n",
    "It is important to remember that arithmetic operations on numpy arrays are always element-wise."
   ]
  },
  {
   "cell_type": "code",
   "execution_count": null,
   "metadata": {},
   "outputs": [],
   "source": [
    "a = np.array([i**2 for i in range(9)]).reshape((3, 3))\n",
    "print(a)\n",
    "print()\n",
    "\n",
    "b = np.array([i**0.5 for i in range(9)]).reshape((3, 3))\n",
    "print(b)\n",
    "print()"
   ]
  },
  {
   "cell_type": "markdown",
   "metadata": {},
   "source": [
    "### Element-wise sum"
   ]
  },
  {
   "cell_type": "code",
   "execution_count": null,
   "metadata": {},
   "outputs": [],
   "source": [
    "print(a + b)"
   ]
  },
  {
   "cell_type": "markdown",
   "metadata": {},
   "source": [
    "### Element-wise multiplication"
   ]
  },
  {
   "cell_type": "code",
   "execution_count": null,
   "metadata": {},
   "outputs": [],
   "source": [
    "print(a * b)"
   ]
  },
  {
   "cell_type": "markdown",
   "metadata": {},
   "source": [
    "### Matrix multiplication"
   ]
  },
  {
   "cell_type": "code",
   "execution_count": null,
   "metadata": {},
   "outputs": [],
   "source": [
    "print(np.matmul(a, b))\n",
    "print()\n",
    "\n",
    "# Multiplication by the identity matrix (to check it works as expected)\n",
    "id_matrix = [[1.0, 0.0, 0.0], \n",
    "             [0.0, 1.0, 0.0], \n",
    "             [0.0, 0.0, 1.0]]\n",
    "\n",
    "print(np.matmul(id_matrix, a))"
   ]
  },
  {
   "cell_type": "markdown",
   "metadata": {},
   "source": [
    "### Calculating the mean"
   ]
  },
  {
   "cell_type": "code",
   "execution_count": null,
   "metadata": {},
   "outputs": [],
   "source": [
    "a = np.random.randint(low=0, high=10, size=(5))\n",
    "\n",
    "print(a)\n",
    "print()\n",
    "\n",
    "print(\"Mean: \", np.sum(a) / len(a))"
   ]
  },
  {
   "cell_type": "markdown",
   "metadata": {},
   "source": [
    "### Calculating the mean of every row"
   ]
  },
  {
   "cell_type": "code",
   "execution_count": null,
   "metadata": {},
   "outputs": [],
   "source": [
    "a = np.random.randint(low=0, high=10, size=(5, 3))\n",
    "\n",
    "print(a)\n",
    "print()\n",
    "\n",
    "print(\"Mean:\", np.sum(a, axis=1) / a.shape[1])\n",
    "\n",
    "print(\"Mean in the original matrix form:\")\n",
    "print((np.sum(a, axis=1) / a.shape[1]).reshape(-1, 1))  # -1 calculates the right size to use all elements"
   ]
  },
  {
   "cell_type": "markdown",
   "metadata": {},
   "source": [
    "### More complex operations"
   ]
  },
  {
   "cell_type": "code",
   "execution_count": null,
   "metadata": {},
   "outputs": [],
   "source": [
    "a = [1.0, 2.0, 3.0]\n",
    "\n",
    "print(\"Vector to power 2 (element-wise)\")\n",
    "print(np.power(a, 2))\n",
    "print()\n",
    "print(\"Euler number to the power a (element-wise)\")\n",
    "print(np.exp(a))\n",
    "print()\n",
    "print(\"An even more complex expression\")\n",
    "print((np.power(a, 2) + np.exp(a)) / np.sum(a))"
   ]
  },
  {
   "cell_type": "markdown",
   "metadata": {},
   "source": [
    "## Numpy tasks"
   ]
  },
  {
   "cell_type": "markdown",
   "metadata": {},
   "source": [
    "**Task 1.** Calculate the sigmoid (logistic) function on every element of the following numpy array [0.3, 1.2, -1.4, 0.2, -0.1, 0.1, 0.8, -0.25] and print the last 5 elements. Use only vector operations."
   ]
  },
  {
   "cell_type": "code",
   "execution_count": 8,
   "metadata": {},
   "outputs": [
    {
     "name": "stdout",
     "output_type": "stream",
     "text": [
      "[0.549834   0.47502081 0.52497919 0.68997448 0.4378235 ]\n"
     ]
    }
   ],
   "source": [
    "b = np.array([0.3, 1.2, -1.4, 0.2, -0.1, 0.1, 0.8, -0.25])\n",
    "a = np.array([1/(1 + np.exp(-i)) for i in b])\n",
    "print(a[-5:])"
   ]
  },
  {
   "cell_type": "markdown",
   "metadata": {},
   "source": [
    "**Task 2.** Calculate the dot product of the following two vectors:<br/>\n",
    "$x = [3, 1, 4, 2, 6, 1, 4, 8]$<br/>\n",
    "$y = [5, 2, 3, 12, 2, 4, 17, 11]$<br/>\n",
    "a) by using element-wise mutliplication and np.sum,<br/>\n",
    "b) by using np.dot,<br/>\n",
    "b) by using np.matmul and transposition (x.T)."
   ]
  },
  {
   "cell_type": "code",
   "execution_count": 10,
   "metadata": {},
   "outputs": [
    {
     "name": "stdout",
     "output_type": "stream",
     "text": [
      "225\n",
      "225\n",
      "225\n"
     ]
    }
   ],
   "source": [
    "x = np.array([3,1,4,2,6,1,4,8])\n",
    "y = np.array([5,2,3,12,2,4,17,11])\n",
    "a = np.sum(x*y)\n",
    "print(a)\n",
    "b = np.dot(x,y)\n",
    "print(b)\n",
    "c = np.matmul(x,y)\n",
    "print(c)"
   ]
  },
  {
   "cell_type": "markdown",
   "metadata": {},
   "source": [
    "**Task 3.** Calculate the following expression<br/>\n",
    "$$\\frac{1}{1 + e^{-x_0 \\theta_0 - \\ldots - x_9 \\theta_9 - \\theta_{10}}}$$\n",
    "for<br/>\n",
    "$x = [1.2, 2.3, 3.4, -0.7, 4.2, 2.7, -0.5, -2.1, -3.3, 0.2]$<br/>\n",
    "$\\theta = [7.7, 0.33, -2.12, -1.73, 2.9, -5.8, -0.9, 12.11, 3.43, -0.5, 1.65]$<br/>\n",
    "and print the result. Use only vector operations."
   ]
  },
  {
   "cell_type": "code",
   "execution_count": 22,
   "metadata": {},
   "outputs": [
    {
     "name": "stdout",
     "output_type": "stream",
     "text": [
      "1.3644840814871147e-15\n"
     ]
    }
   ],
   "source": [
    "𝑥=np.array([1.2,2.3,3.4,-0.7,4.2,2.7,-0.5,-2.1,-3.3,0.2, 1])\n",
    "t = np.array([7.7,0.33,-2.12,-1.73,2.9,-5.8,-0.9,12.11,3.43,-0.5,1.65])\n",
    "xt = -x*t\n",
    "epower = np.sum(np.array(xt))\n",
    "result = 1/(1 + np.exp(epower))\n",
    "print(result)"
   ]
  },
  {
   "cell_type": "markdown",
   "metadata": {},
   "source": [
    "# Pandas"
   ]
  },
  {
   "cell_type": "markdown",
   "metadata": {},
   "source": [
    "## Load datasets\n",
    "\n",
    "- Steam (https://www.kaggle.com/tamber/steam-video-games)\n",
    "\n",
    "- MovieLens (https://grouplens.org/datasets/movielens/)"
   ]
  },
  {
   "cell_type": "code",
   "execution_count": 3,
   "metadata": {},
   "outputs": [],
   "source": [
    "steam_df = pd.read_csv(os.path.join(\"data\", \"steam\", \"steam-200k.csv\"), \n",
    "                       names=['user-id', 'game-title', 'behavior-name', 'value', 'zero'])\n",
    "\n",
    "ml_ratings_df = pd.read_csv(os.path.join(\"data\", \"movielens_small\", \"ratings.csv\"))\n",
    "ml_movies_df = pd.read_csv(os.path.join(\"data\", \"movielens_small\", \"movies.csv\"))"
   ]
  },
  {
   "cell_type": "markdown",
   "metadata": {},
   "source": [
    "## Peek into the datasets"
   ]
  },
  {
   "cell_type": "code",
   "execution_count": 24,
   "metadata": {},
   "outputs": [
    {
     "data": {
      "text/html": [
       "<div>\n",
       "<style scoped>\n",
       "    .dataframe tbody tr th:only-of-type {\n",
       "        vertical-align: middle;\n",
       "    }\n",
       "\n",
       "    .dataframe tbody tr th {\n",
       "        vertical-align: top;\n",
       "    }\n",
       "\n",
       "    .dataframe thead th {\n",
       "        text-align: right;\n",
       "    }\n",
       "</style>\n",
       "<table border=\"1\" class=\"dataframe\">\n",
       "  <thead>\n",
       "    <tr style=\"text-align: right;\">\n",
       "      <th></th>\n",
       "      <th>user-id</th>\n",
       "      <th>game-title</th>\n",
       "      <th>behavior-name</th>\n",
       "      <th>value</th>\n",
       "      <th>zero</th>\n",
       "    </tr>\n",
       "  </thead>\n",
       "  <tbody>\n",
       "    <tr>\n",
       "      <th>0</th>\n",
       "      <td>151603712</td>\n",
       "      <td>The Elder Scrolls V Skyrim</td>\n",
       "      <td>purchase</td>\n",
       "      <td>1.0</td>\n",
       "      <td>0</td>\n",
       "    </tr>\n",
       "    <tr>\n",
       "      <th>1</th>\n",
       "      <td>151603712</td>\n",
       "      <td>The Elder Scrolls V Skyrim</td>\n",
       "      <td>play</td>\n",
       "      <td>273.0</td>\n",
       "      <td>0</td>\n",
       "    </tr>\n",
       "    <tr>\n",
       "      <th>2</th>\n",
       "      <td>151603712</td>\n",
       "      <td>Fallout 4</td>\n",
       "      <td>purchase</td>\n",
       "      <td>1.0</td>\n",
       "      <td>0</td>\n",
       "    </tr>\n",
       "    <tr>\n",
       "      <th>3</th>\n",
       "      <td>151603712</td>\n",
       "      <td>Fallout 4</td>\n",
       "      <td>play</td>\n",
       "      <td>87.0</td>\n",
       "      <td>0</td>\n",
       "    </tr>\n",
       "    <tr>\n",
       "      <th>4</th>\n",
       "      <td>151603712</td>\n",
       "      <td>Spore</td>\n",
       "      <td>purchase</td>\n",
       "      <td>1.0</td>\n",
       "      <td>0</td>\n",
       "    </tr>\n",
       "    <tr>\n",
       "      <th>5</th>\n",
       "      <td>151603712</td>\n",
       "      <td>Spore</td>\n",
       "      <td>play</td>\n",
       "      <td>14.9</td>\n",
       "      <td>0</td>\n",
       "    </tr>\n",
       "    <tr>\n",
       "      <th>6</th>\n",
       "      <td>151603712</td>\n",
       "      <td>Fallout New Vegas</td>\n",
       "      <td>purchase</td>\n",
       "      <td>1.0</td>\n",
       "      <td>0</td>\n",
       "    </tr>\n",
       "    <tr>\n",
       "      <th>7</th>\n",
       "      <td>151603712</td>\n",
       "      <td>Fallout New Vegas</td>\n",
       "      <td>play</td>\n",
       "      <td>12.1</td>\n",
       "      <td>0</td>\n",
       "    </tr>\n",
       "    <tr>\n",
       "      <th>8</th>\n",
       "      <td>151603712</td>\n",
       "      <td>Left 4 Dead 2</td>\n",
       "      <td>purchase</td>\n",
       "      <td>1.0</td>\n",
       "      <td>0</td>\n",
       "    </tr>\n",
       "    <tr>\n",
       "      <th>9</th>\n",
       "      <td>151603712</td>\n",
       "      <td>Left 4 Dead 2</td>\n",
       "      <td>play</td>\n",
       "      <td>8.9</td>\n",
       "      <td>0</td>\n",
       "    </tr>\n",
       "  </tbody>\n",
       "</table>\n",
       "</div>"
      ],
      "text/plain": [
       "     user-id                  game-title behavior-name  value  zero\n",
       "0  151603712  The Elder Scrolls V Skyrim      purchase    1.0     0\n",
       "1  151603712  The Elder Scrolls V Skyrim          play  273.0     0\n",
       "2  151603712                   Fallout 4      purchase    1.0     0\n",
       "3  151603712                   Fallout 4          play   87.0     0\n",
       "4  151603712                       Spore      purchase    1.0     0\n",
       "5  151603712                       Spore          play   14.9     0\n",
       "6  151603712           Fallout New Vegas      purchase    1.0     0\n",
       "7  151603712           Fallout New Vegas          play   12.1     0\n",
       "8  151603712               Left 4 Dead 2      purchase    1.0     0\n",
       "9  151603712               Left 4 Dead 2          play    8.9     0"
      ]
     },
     "execution_count": 24,
     "metadata": {},
     "output_type": "execute_result"
    }
   ],
   "source": [
    "steam_df.head(10)"
   ]
  },
  {
   "cell_type": "code",
   "execution_count": 25,
   "metadata": {},
   "outputs": [
    {
     "data": {
      "text/html": [
       "<div>\n",
       "<style scoped>\n",
       "    .dataframe tbody tr th:only-of-type {\n",
       "        vertical-align: middle;\n",
       "    }\n",
       "\n",
       "    .dataframe tbody tr th {\n",
       "        vertical-align: top;\n",
       "    }\n",
       "\n",
       "    .dataframe thead th {\n",
       "        text-align: right;\n",
       "    }\n",
       "</style>\n",
       "<table border=\"1\" class=\"dataframe\">\n",
       "  <thead>\n",
       "    <tr style=\"text-align: right;\">\n",
       "      <th></th>\n",
       "      <th>userId</th>\n",
       "      <th>movieId</th>\n",
       "      <th>rating</th>\n",
       "      <th>timestamp</th>\n",
       "    </tr>\n",
       "  </thead>\n",
       "  <tbody>\n",
       "    <tr>\n",
       "      <th>0</th>\n",
       "      <td>1</td>\n",
       "      <td>1</td>\n",
       "      <td>4.0</td>\n",
       "      <td>964982703</td>\n",
       "    </tr>\n",
       "    <tr>\n",
       "      <th>1</th>\n",
       "      <td>1</td>\n",
       "      <td>3</td>\n",
       "      <td>4.0</td>\n",
       "      <td>964981247</td>\n",
       "    </tr>\n",
       "    <tr>\n",
       "      <th>2</th>\n",
       "      <td>1</td>\n",
       "      <td>6</td>\n",
       "      <td>4.0</td>\n",
       "      <td>964982224</td>\n",
       "    </tr>\n",
       "    <tr>\n",
       "      <th>3</th>\n",
       "      <td>1</td>\n",
       "      <td>47</td>\n",
       "      <td>5.0</td>\n",
       "      <td>964983815</td>\n",
       "    </tr>\n",
       "    <tr>\n",
       "      <th>4</th>\n",
       "      <td>1</td>\n",
       "      <td>50</td>\n",
       "      <td>5.0</td>\n",
       "      <td>964982931</td>\n",
       "    </tr>\n",
       "    <tr>\n",
       "      <th>5</th>\n",
       "      <td>1</td>\n",
       "      <td>70</td>\n",
       "      <td>3.0</td>\n",
       "      <td>964982400</td>\n",
       "    </tr>\n",
       "    <tr>\n",
       "      <th>6</th>\n",
       "      <td>1</td>\n",
       "      <td>101</td>\n",
       "      <td>5.0</td>\n",
       "      <td>964980868</td>\n",
       "    </tr>\n",
       "    <tr>\n",
       "      <th>7</th>\n",
       "      <td>1</td>\n",
       "      <td>110</td>\n",
       "      <td>4.0</td>\n",
       "      <td>964982176</td>\n",
       "    </tr>\n",
       "    <tr>\n",
       "      <th>8</th>\n",
       "      <td>1</td>\n",
       "      <td>151</td>\n",
       "      <td>5.0</td>\n",
       "      <td>964984041</td>\n",
       "    </tr>\n",
       "    <tr>\n",
       "      <th>9</th>\n",
       "      <td>1</td>\n",
       "      <td>157</td>\n",
       "      <td>5.0</td>\n",
       "      <td>964984100</td>\n",
       "    </tr>\n",
       "  </tbody>\n",
       "</table>\n",
       "</div>"
      ],
      "text/plain": [
       "   userId  movieId  rating  timestamp\n",
       "0       1        1     4.0  964982703\n",
       "1       1        3     4.0  964981247\n",
       "2       1        6     4.0  964982224\n",
       "3       1       47     5.0  964983815\n",
       "4       1       50     5.0  964982931\n",
       "5       1       70     3.0  964982400\n",
       "6       1      101     5.0  964980868\n",
       "7       1      110     4.0  964982176\n",
       "8       1      151     5.0  964984041\n",
       "9       1      157     5.0  964984100"
      ]
     },
     "execution_count": 25,
     "metadata": {},
     "output_type": "execute_result"
    }
   ],
   "source": [
    "ml_ratings_df.head(10)"
   ]
  },
  {
   "cell_type": "code",
   "execution_count": 4,
   "metadata": {},
   "outputs": [
    {
     "data": {
      "text/html": [
       "<div>\n",
       "<style scoped>\n",
       "    .dataframe tbody tr th:only-of-type {\n",
       "        vertical-align: middle;\n",
       "    }\n",
       "\n",
       "    .dataframe tbody tr th {\n",
       "        vertical-align: top;\n",
       "    }\n",
       "\n",
       "    .dataframe thead th {\n",
       "        text-align: right;\n",
       "    }\n",
       "</style>\n",
       "<table border=\"1\" class=\"dataframe\">\n",
       "  <thead>\n",
       "    <tr style=\"text-align: right;\">\n",
       "      <th></th>\n",
       "      <th>movieId</th>\n",
       "      <th>title</th>\n",
       "      <th>genres</th>\n",
       "    </tr>\n",
       "  </thead>\n",
       "  <tbody>\n",
       "    <tr>\n",
       "      <th>0</th>\n",
       "      <td>1</td>\n",
       "      <td>Toy Story (1995)</td>\n",
       "      <td>Adventure|Animation|Children|Comedy|Fantasy</td>\n",
       "    </tr>\n",
       "    <tr>\n",
       "      <th>1</th>\n",
       "      <td>2</td>\n",
       "      <td>Jumanji (1995)</td>\n",
       "      <td>Adventure|Children|Fantasy</td>\n",
       "    </tr>\n",
       "    <tr>\n",
       "      <th>2</th>\n",
       "      <td>3</td>\n",
       "      <td>Grumpier Old Men (1995)</td>\n",
       "      <td>Comedy|Romance</td>\n",
       "    </tr>\n",
       "    <tr>\n",
       "      <th>3</th>\n",
       "      <td>4</td>\n",
       "      <td>Waiting to Exhale (1995)</td>\n",
       "      <td>Comedy|Drama|Romance</td>\n",
       "    </tr>\n",
       "    <tr>\n",
       "      <th>4</th>\n",
       "      <td>5</td>\n",
       "      <td>Father of the Bride Part II (1995)</td>\n",
       "      <td>Comedy</td>\n",
       "    </tr>\n",
       "  </tbody>\n",
       "</table>\n",
       "</div>"
      ],
      "text/plain": [
       "   movieId                               title  \\\n",
       "0        1                    Toy Story (1995)   \n",
       "1        2                      Jumanji (1995)   \n",
       "2        3             Grumpier Old Men (1995)   \n",
       "3        4            Waiting to Exhale (1995)   \n",
       "4        5  Father of the Bride Part II (1995)   \n",
       "\n",
       "                                        genres  \n",
       "0  Adventure|Animation|Children|Comedy|Fantasy  \n",
       "1                   Adventure|Children|Fantasy  \n",
       "2                               Comedy|Romance  \n",
       "3                         Comedy|Drama|Romance  \n",
       "4                                       Comedy  "
      ]
     },
     "execution_count": 4,
     "metadata": {},
     "output_type": "execute_result"
    }
   ],
   "source": [
    "ml_movies_df.head()"
   ]
  },
  {
   "cell_type": "markdown",
   "metadata": {},
   "source": [
    "## Merge both MovieLens DataFrames into one"
   ]
  },
  {
   "cell_type": "code",
   "execution_count": 27,
   "metadata": {},
   "outputs": [
    {
     "data": {
      "text/html": [
       "<div>\n",
       "<style scoped>\n",
       "    .dataframe tbody tr th:only-of-type {\n",
       "        vertical-align: middle;\n",
       "    }\n",
       "\n",
       "    .dataframe tbody tr th {\n",
       "        vertical-align: top;\n",
       "    }\n",
       "\n",
       "    .dataframe thead th {\n",
       "        text-align: right;\n",
       "    }\n",
       "</style>\n",
       "<table border=\"1\" class=\"dataframe\">\n",
       "  <thead>\n",
       "    <tr style=\"text-align: right;\">\n",
       "      <th></th>\n",
       "      <th>userId</th>\n",
       "      <th>movieId</th>\n",
       "      <th>rating</th>\n",
       "      <th>timestamp</th>\n",
       "      <th>title</th>\n",
       "      <th>genres</th>\n",
       "    </tr>\n",
       "  </thead>\n",
       "  <tbody>\n",
       "    <tr>\n",
       "      <th>0</th>\n",
       "      <td>1</td>\n",
       "      <td>1</td>\n",
       "      <td>4.0</td>\n",
       "      <td>964982703</td>\n",
       "      <td>Toy Story (1995)</td>\n",
       "      <td>Adventure|Animation|Children|Comedy|Fantasy</td>\n",
       "    </tr>\n",
       "    <tr>\n",
       "      <th>1</th>\n",
       "      <td>5</td>\n",
       "      <td>1</td>\n",
       "      <td>4.0</td>\n",
       "      <td>847434962</td>\n",
       "      <td>Toy Story (1995)</td>\n",
       "      <td>Adventure|Animation|Children|Comedy|Fantasy</td>\n",
       "    </tr>\n",
       "    <tr>\n",
       "      <th>2</th>\n",
       "      <td>7</td>\n",
       "      <td>1</td>\n",
       "      <td>4.5</td>\n",
       "      <td>1106635946</td>\n",
       "      <td>Toy Story (1995)</td>\n",
       "      <td>Adventure|Animation|Children|Comedy|Fantasy</td>\n",
       "    </tr>\n",
       "    <tr>\n",
       "      <th>3</th>\n",
       "      <td>15</td>\n",
       "      <td>1</td>\n",
       "      <td>2.5</td>\n",
       "      <td>1510577970</td>\n",
       "      <td>Toy Story (1995)</td>\n",
       "      <td>Adventure|Animation|Children|Comedy|Fantasy</td>\n",
       "    </tr>\n",
       "    <tr>\n",
       "      <th>4</th>\n",
       "      <td>17</td>\n",
       "      <td>1</td>\n",
       "      <td>4.5</td>\n",
       "      <td>1305696483</td>\n",
       "      <td>Toy Story (1995)</td>\n",
       "      <td>Adventure|Animation|Children|Comedy|Fantasy</td>\n",
       "    </tr>\n",
       "    <tr>\n",
       "      <th>5</th>\n",
       "      <td>18</td>\n",
       "      <td>1</td>\n",
       "      <td>3.5</td>\n",
       "      <td>1455209816</td>\n",
       "      <td>Toy Story (1995)</td>\n",
       "      <td>Adventure|Animation|Children|Comedy|Fantasy</td>\n",
       "    </tr>\n",
       "    <tr>\n",
       "      <th>6</th>\n",
       "      <td>19</td>\n",
       "      <td>1</td>\n",
       "      <td>4.0</td>\n",
       "      <td>965705637</td>\n",
       "      <td>Toy Story (1995)</td>\n",
       "      <td>Adventure|Animation|Children|Comedy|Fantasy</td>\n",
       "    </tr>\n",
       "    <tr>\n",
       "      <th>7</th>\n",
       "      <td>21</td>\n",
       "      <td>1</td>\n",
       "      <td>3.5</td>\n",
       "      <td>1407618878</td>\n",
       "      <td>Toy Story (1995)</td>\n",
       "      <td>Adventure|Animation|Children|Comedy|Fantasy</td>\n",
       "    </tr>\n",
       "    <tr>\n",
       "      <th>8</th>\n",
       "      <td>27</td>\n",
       "      <td>1</td>\n",
       "      <td>3.0</td>\n",
       "      <td>962685262</td>\n",
       "      <td>Toy Story (1995)</td>\n",
       "      <td>Adventure|Animation|Children|Comedy|Fantasy</td>\n",
       "    </tr>\n",
       "    <tr>\n",
       "      <th>9</th>\n",
       "      <td>31</td>\n",
       "      <td>1</td>\n",
       "      <td>5.0</td>\n",
       "      <td>850466616</td>\n",
       "      <td>Toy Story (1995)</td>\n",
       "      <td>Adventure|Animation|Children|Comedy|Fantasy</td>\n",
       "    </tr>\n",
       "  </tbody>\n",
       "</table>\n",
       "</div>"
      ],
      "text/plain": [
       "   userId  movieId  rating   timestamp             title  \\\n",
       "0       1        1     4.0   964982703  Toy Story (1995)   \n",
       "1       5        1     4.0   847434962  Toy Story (1995)   \n",
       "2       7        1     4.5  1106635946  Toy Story (1995)   \n",
       "3      15        1     2.5  1510577970  Toy Story (1995)   \n",
       "4      17        1     4.5  1305696483  Toy Story (1995)   \n",
       "5      18        1     3.5  1455209816  Toy Story (1995)   \n",
       "6      19        1     4.0   965705637  Toy Story (1995)   \n",
       "7      21        1     3.5  1407618878  Toy Story (1995)   \n",
       "8      27        1     3.0   962685262  Toy Story (1995)   \n",
       "9      31        1     5.0   850466616  Toy Story (1995)   \n",
       "\n",
       "                                        genres  \n",
       "0  Adventure|Animation|Children|Comedy|Fantasy  \n",
       "1  Adventure|Animation|Children|Comedy|Fantasy  \n",
       "2  Adventure|Animation|Children|Comedy|Fantasy  \n",
       "3  Adventure|Animation|Children|Comedy|Fantasy  \n",
       "4  Adventure|Animation|Children|Comedy|Fantasy  \n",
       "5  Adventure|Animation|Children|Comedy|Fantasy  \n",
       "6  Adventure|Animation|Children|Comedy|Fantasy  \n",
       "7  Adventure|Animation|Children|Comedy|Fantasy  \n",
       "8  Adventure|Animation|Children|Comedy|Fantasy  \n",
       "9  Adventure|Animation|Children|Comedy|Fantasy  "
      ]
     },
     "execution_count": 27,
     "metadata": {},
     "output_type": "execute_result"
    }
   ],
   "source": [
    "ml_df = pd.merge(ml_ratings_df, ml_movies_df, on='movieId')\n",
    "ml_df.head(10)"
   ]
  },
  {
   "cell_type": "markdown",
   "metadata": {},
   "source": [
    "## Choosing a row, a column or several columns"
   ]
  },
  {
   "cell_type": "code",
   "execution_count": 28,
   "metadata": {},
   "outputs": [
    {
     "data": {
      "text/html": [
       "<table border=\"1\" class=\"dataframe\">\n",
       "  <thead>\n",
       "    <tr style=\"text-align: right;\">\n",
       "      <th></th>\n",
       "      <th>user-id</th>\n",
       "      <th>game-title</th>\n",
       "      <th>behavior-name</th>\n",
       "      <th>value</th>\n",
       "      <th>zero</th>\n",
       "    </tr>\n",
       "  </thead>\n",
       "  <tbody>\n",
       "    <tr>\n",
       "      <th>0</th>\n",
       "      <td>151603712</td>\n",
       "      <td>The Elder Scrolls V Skyrim</td>\n",
       "      <td>purchase</td>\n",
       "      <td>1.0</td>\n",
       "      <td>0</td>\n",
       "    </tr>\n",
       "    <tr>\n",
       "      <th>1</th>\n",
       "      <td>151603712</td>\n",
       "      <td>The Elder Scrolls V Skyrim</td>\n",
       "      <td>play</td>\n",
       "      <td>273.0</td>\n",
       "      <td>0</td>\n",
       "    </tr>\n",
       "    <tr>\n",
       "      <th>2</th>\n",
       "      <td>151603712</td>\n",
       "      <td>Fallout 4</td>\n",
       "      <td>purchase</td>\n",
       "      <td>1.0</td>\n",
       "      <td>0</td>\n",
       "    </tr>\n",
       "    <tr>\n",
       "      <th>3</th>\n",
       "      <td>151603712</td>\n",
       "      <td>Fallout 4</td>\n",
       "      <td>play</td>\n",
       "      <td>87.0</td>\n",
       "      <td>0</td>\n",
       "    </tr>\n",
       "    <tr>\n",
       "      <th>4</th>\n",
       "      <td>151603712</td>\n",
       "      <td>Spore</td>\n",
       "      <td>purchase</td>\n",
       "      <td>1.0</td>\n",
       "      <td>0</td>\n",
       "    </tr>\n",
       "    <tr>\n",
       "      <th>5</th>\n",
       "      <td>151603712</td>\n",
       "      <td>Spore</td>\n",
       "      <td>play</td>\n",
       "      <td>14.9</td>\n",
       "      <td>0</td>\n",
       "    </tr>\n",
       "    <tr>\n",
       "      <th>6</th>\n",
       "      <td>151603712</td>\n",
       "      <td>Fallout New Vegas</td>\n",
       "      <td>purchase</td>\n",
       "      <td>1.0</td>\n",
       "      <td>0</td>\n",
       "    </tr>\n",
       "    <tr>\n",
       "      <th>7</th>\n",
       "      <td>151603712</td>\n",
       "      <td>Fallout New Vegas</td>\n",
       "      <td>play</td>\n",
       "      <td>12.1</td>\n",
       "      <td>0</td>\n",
       "    </tr>\n",
       "    <tr>\n",
       "      <th>8</th>\n",
       "      <td>151603712</td>\n",
       "      <td>Left 4 Dead 2</td>\n",
       "      <td>purchase</td>\n",
       "      <td>1.0</td>\n",
       "      <td>0</td>\n",
       "    </tr>\n",
       "    <tr>\n",
       "      <th>9</th>\n",
       "      <td>151603712</td>\n",
       "      <td>Left 4 Dead 2</td>\n",
       "      <td>play</td>\n",
       "      <td>8.9</td>\n",
       "      <td>0</td>\n",
       "    </tr>\n",
       "  </tbody>\n",
       "</table>"
      ],
      "text/plain": [
       "<IPython.core.display.HTML object>"
      ]
     },
     "metadata": {},
     "output_type": "display_data"
    },
    {
     "name": "stdout",
     "output_type": "stream",
     "text": [
      "Choosing rows by index\n"
     ]
    },
    {
     "data": {
      "text/html": [
       "<table border=\"1\" class=\"dataframe\">\n",
       "  <thead>\n",
       "    <tr style=\"text-align: right;\">\n",
       "      <th></th>\n",
       "      <th>user-id</th>\n",
       "      <th>game-title</th>\n",
       "      <th>behavior-name</th>\n",
       "      <th>value</th>\n",
       "      <th>zero</th>\n",
       "    </tr>\n",
       "  </thead>\n",
       "  <tbody>\n",
       "    <tr>\n",
       "      <th>3</th>\n",
       "      <td>151603712</td>\n",
       "      <td>Fallout 4</td>\n",
       "      <td>play</td>\n",
       "      <td>87.0</td>\n",
       "      <td>0</td>\n",
       "    </tr>\n",
       "    <tr>\n",
       "      <th>4</th>\n",
       "      <td>151603712</td>\n",
       "      <td>Spore</td>\n",
       "      <td>purchase</td>\n",
       "      <td>1.0</td>\n",
       "      <td>0</td>\n",
       "    </tr>\n",
       "    <tr>\n",
       "      <th>5</th>\n",
       "      <td>151603712</td>\n",
       "      <td>Spore</td>\n",
       "      <td>play</td>\n",
       "      <td>14.9</td>\n",
       "      <td>0</td>\n",
       "    </tr>\n",
       "  </tbody>\n",
       "</table>"
      ],
      "text/plain": [
       "<IPython.core.display.HTML object>"
      ]
     },
     "metadata": {},
     "output_type": "display_data"
    },
    {
     "name": "stdout",
     "output_type": "stream",
     "text": [
      "Choosing rows by position\n"
     ]
    },
    {
     "data": {
      "text/html": [
       "<table border=\"1\" class=\"dataframe\">\n",
       "  <thead>\n",
       "    <tr style=\"text-align: right;\">\n",
       "      <th></th>\n",
       "      <th>user-id</th>\n",
       "      <th>game-title</th>\n",
       "      <th>behavior-name</th>\n",
       "      <th>value</th>\n",
       "      <th>zero</th>\n",
       "    </tr>\n",
       "  </thead>\n",
       "  <tbody>\n",
       "    <tr>\n",
       "      <th>3</th>\n",
       "      <td>151603712</td>\n",
       "      <td>Fallout 4</td>\n",
       "      <td>play</td>\n",
       "      <td>87.0</td>\n",
       "      <td>0</td>\n",
       "    </tr>\n",
       "    <tr>\n",
       "      <th>4</th>\n",
       "      <td>151603712</td>\n",
       "      <td>Spore</td>\n",
       "      <td>purchase</td>\n",
       "      <td>1.0</td>\n",
       "      <td>0</td>\n",
       "    </tr>\n",
       "    <tr>\n",
       "      <th>5</th>\n",
       "      <td>151603712</td>\n",
       "      <td>Spore</td>\n",
       "      <td>play</td>\n",
       "      <td>14.9</td>\n",
       "      <td>0</td>\n",
       "    </tr>\n",
       "  </tbody>\n",
       "</table>"
      ],
      "text/plain": [
       "<IPython.core.display.HTML object>"
      ]
     },
     "metadata": {},
     "output_type": "display_data"
    }
   ],
   "source": [
    "display(HTML(steam_df.head(10).to_html()))\n",
    "\n",
    "# Choosing rows by index\n",
    "chosen_df = steam_df[3:6]\n",
    "\n",
    "print(\"Choosing rows by index\")\n",
    "display(HTML(chosen_df.head(10).to_html()))\n",
    "\n",
    "# Choosing rows by position\n",
    "chosen_df = steam_df.iloc[3:6]\n",
    "\n",
    "print(\"Choosing rows by position\")\n",
    "display(HTML(chosen_df.head(10).to_html()))"
   ]
  },
  {
   "cell_type": "code",
   "execution_count": null,
   "metadata": {},
   "outputs": [],
   "source": [
    "# Choosing a column\n",
    "chosen_df = steam_df[\"game-title\"]\n",
    "\n",
    "print(chosen_df.head(10))"
   ]
  },
  {
   "cell_type": "code",
   "execution_count": null,
   "metadata": {},
   "outputs": [],
   "source": [
    "# Choosing several columns\n",
    "chosen_df = steam_df[['user-id', 'game-title']]\n",
    "\n",
    "display(HTML(chosen_df.head(10).to_html()))"
   ]
  },
  {
   "cell_type": "markdown",
   "metadata": {},
   "source": [
    "### Splitting the dataset into training and test set"
   ]
  },
  {
   "cell_type": "code",
   "execution_count": 29,
   "metadata": {},
   "outputs": [
    {
     "name": "stdout",
     "output_type": "stream",
     "text": [
      "Shuffled range of indices\n",
      "[157311, 123582, 61897, 141814, 79799, 67226, 40624, 113174, 55163, 122777, 86265, 59561, 6537, 48352, 43983, 31875, 101324, 46158, 12922, 16565]\n",
      "\n"
     ]
    },
    {
     "data": {
      "text/html": [
       "<table border=\"1\" class=\"dataframe\">\n",
       "  <thead>\n",
       "    <tr style=\"text-align: right;\">\n",
       "      <th></th>\n",
       "      <th>user-id</th>\n",
       "      <th>game-title</th>\n",
       "      <th>behavior-name</th>\n",
       "      <th>value</th>\n",
       "      <th>zero</th>\n",
       "    </tr>\n",
       "  </thead>\n",
       "  <tbody>\n",
       "    <tr>\n",
       "      <th>157311</th>\n",
       "      <td>118971362</td>\n",
       "      <td>Thief Deadly Shadows</td>\n",
       "      <td>purchase</td>\n",
       "      <td>1.0</td>\n",
       "      <td>0</td>\n",
       "    </tr>\n",
       "    <tr>\n",
       "      <th>123582</th>\n",
       "      <td>65754991</td>\n",
       "      <td>Star Wars Jedi Knight Jedi Academy</td>\n",
       "      <td>purchase</td>\n",
       "      <td>1.0</td>\n",
       "      <td>0</td>\n",
       "    </tr>\n",
       "    <tr>\n",
       "      <th>61897</th>\n",
       "      <td>65398650</td>\n",
       "      <td>Jamestown</td>\n",
       "      <td>purchase</td>\n",
       "      <td>1.0</td>\n",
       "      <td>0</td>\n",
       "    </tr>\n",
       "    <tr>\n",
       "      <th>141814</th>\n",
       "      <td>16080105</td>\n",
       "      <td>Team Fortress Classic</td>\n",
       "      <td>purchase</td>\n",
       "      <td>1.0</td>\n",
       "      <td>0</td>\n",
       "    </tr>\n",
       "    <tr>\n",
       "      <th>79799</th>\n",
       "      <td>120523185</td>\n",
       "      <td>Bastion</td>\n",
       "      <td>play</td>\n",
       "      <td>0.5</td>\n",
       "      <td>0</td>\n",
       "    </tr>\n",
       "    <tr>\n",
       "      <th>67226</th>\n",
       "      <td>117949868</td>\n",
       "      <td>Emily is Away</td>\n",
       "      <td>purchase</td>\n",
       "      <td>1.0</td>\n",
       "      <td>0</td>\n",
       "    </tr>\n",
       "    <tr>\n",
       "      <th>40624</th>\n",
       "      <td>176590636</td>\n",
       "      <td>Counter-Strike Source</td>\n",
       "      <td>play</td>\n",
       "      <td>0.1</td>\n",
       "      <td>0</td>\n",
       "    </tr>\n",
       "    <tr>\n",
       "      <th>113174</th>\n",
       "      <td>196059860</td>\n",
       "      <td>Warframe</td>\n",
       "      <td>purchase</td>\n",
       "      <td>1.0</td>\n",
       "      <td>0</td>\n",
       "    </tr>\n",
       "    <tr>\n",
       "      <th>55163</th>\n",
       "      <td>33013552</td>\n",
       "      <td>GameMaker Studio Android</td>\n",
       "      <td>purchase</td>\n",
       "      <td>1.0</td>\n",
       "      <td>0</td>\n",
       "    </tr>\n",
       "    <tr>\n",
       "      <th>122777</th>\n",
       "      <td>76892907</td>\n",
       "      <td>Beyond Divinity</td>\n",
       "      <td>purchase</td>\n",
       "      <td>1.0</td>\n",
       "      <td>0</td>\n",
       "    </tr>\n",
       "  </tbody>\n",
       "</table>"
      ],
      "text/plain": [
       "<IPython.core.display.HTML object>"
      ]
     },
     "metadata": {},
     "output_type": "display_data"
    },
    {
     "data": {
      "text/html": [
       "<table border=\"1\" class=\"dataframe\">\n",
       "  <thead>\n",
       "    <tr style=\"text-align: right;\">\n",
       "      <th></th>\n",
       "      <th>user-id</th>\n",
       "      <th>game-title</th>\n",
       "      <th>behavior-name</th>\n",
       "      <th>value</th>\n",
       "      <th>zero</th>\n",
       "    </tr>\n",
       "  </thead>\n",
       "  <tbody>\n",
       "    <tr>\n",
       "      <th>141170</th>\n",
       "      <td>77127388</td>\n",
       "      <td>The Elder Scrolls IV Oblivion</td>\n",
       "      <td>play</td>\n",
       "      <td>56.0</td>\n",
       "      <td>0</td>\n",
       "    </tr>\n",
       "    <tr>\n",
       "      <th>90973</th>\n",
       "      <td>107913460</td>\n",
       "      <td>Mass Effect 2</td>\n",
       "      <td>play</td>\n",
       "      <td>79.0</td>\n",
       "      <td>0</td>\n",
       "    </tr>\n",
       "    <tr>\n",
       "      <th>120969</th>\n",
       "      <td>62990992</td>\n",
       "      <td>Aliens Colonial Marines</td>\n",
       "      <td>purchase</td>\n",
       "      <td>1.0</td>\n",
       "      <td>0</td>\n",
       "    </tr>\n",
       "    <tr>\n",
       "      <th>102601</th>\n",
       "      <td>107452765</td>\n",
       "      <td>Torchlight II</td>\n",
       "      <td>purchase</td>\n",
       "      <td>1.0</td>\n",
       "      <td>0</td>\n",
       "    </tr>\n",
       "    <tr>\n",
       "      <th>107023</th>\n",
       "      <td>7907686</td>\n",
       "      <td>Medal of Honor Pre-Order</td>\n",
       "      <td>purchase</td>\n",
       "      <td>1.0</td>\n",
       "      <td>0</td>\n",
       "    </tr>\n",
       "    <tr>\n",
       "      <th>173636</th>\n",
       "      <td>159800136</td>\n",
       "      <td>Arma 2 Operation Arrowhead</td>\n",
       "      <td>purchase</td>\n",
       "      <td>1.0</td>\n",
       "      <td>0</td>\n",
       "    </tr>\n",
       "    <tr>\n",
       "      <th>153759</th>\n",
       "      <td>11149819</td>\n",
       "      <td>Back to the Future Ep 3 - Citizen Brown</td>\n",
       "      <td>purchase</td>\n",
       "      <td>1.0</td>\n",
       "      <td>0</td>\n",
       "    </tr>\n",
       "    <tr>\n",
       "      <th>42834</th>\n",
       "      <td>36546868</td>\n",
       "      <td>Dungeon Defenders</td>\n",
       "      <td>play</td>\n",
       "      <td>0.7</td>\n",
       "      <td>0</td>\n",
       "    </tr>\n",
       "    <tr>\n",
       "      <th>187635</th>\n",
       "      <td>139171297</td>\n",
       "      <td>Dota 2</td>\n",
       "      <td>play</td>\n",
       "      <td>926.0</td>\n",
       "      <td>0</td>\n",
       "    </tr>\n",
       "    <tr>\n",
       "      <th>93604</th>\n",
       "      <td>103523221</td>\n",
       "      <td>Team Fortress 2</td>\n",
       "      <td>purchase</td>\n",
       "      <td>1.0</td>\n",
       "      <td>0</td>\n",
       "    </tr>\n",
       "  </tbody>\n",
       "</table>"
      ],
      "text/plain": [
       "<IPython.core.display.HTML object>"
      ]
     },
     "metadata": {},
     "output_type": "display_data"
    }
   ],
   "source": [
    "shuffle = np.array(list(range(len(steam_df))))\n",
    "\n",
    "# alternatively\n",
    "\n",
    "shuffle = np.arange(len(steam_df))\n",
    "\n",
    "np.random.shuffle(shuffle)\n",
    "shuffle = list(shuffle)\n",
    "print(\"Shuffled range of indices\")\n",
    "print(shuffle[:20])\n",
    "print()\n",
    "\n",
    "train_test_split = 0.8\n",
    "split_index = int(len(steam_df) * train_test_split)\n",
    "\n",
    "training_set = steam_df.iloc[shuffle[:split_index]]\n",
    "test_set = steam_df.iloc[shuffle[split_index:]]\n",
    "\n",
    "display(HTML(training_set.head(10).to_html()))\n",
    "\n",
    "display(HTML(test_set.head(10).to_html()))"
   ]
  },
  {
   "cell_type": "markdown",
   "metadata": {},
   "source": [
    "## Filtering"
   ]
  },
  {
   "cell_type": "markdown",
   "metadata": {},
   "source": [
    "### Filtering columns"
   ]
  },
  {
   "cell_type": "code",
   "execution_count": null,
   "metadata": {},
   "outputs": [],
   "source": [
    "chosen_df = steam_df.loc[:, ['user-id', 'game-title']]\n",
    "\n",
    "display(HTML(chosen_df.head(10).to_html()))"
   ]
  },
  {
   "cell_type": "markdown",
   "metadata": {},
   "source": [
    "### Filtering rows"
   ]
  },
  {
   "cell_type": "code",
   "execution_count": null,
   "metadata": {},
   "outputs": [],
   "source": [
    "condition = steam_df['game-title'] == 'Fallout 4'\n",
    "\n",
    "print(condition.head(10))\n",
    "\n",
    "chosen_df = steam_df.loc[condition]\n",
    "\n",
    "display(HTML(chosen_df.head(10).to_html()))"
   ]
  },
  {
   "cell_type": "markdown",
   "metadata": {},
   "source": [
    "### Filtering rows and columns at once"
   ]
  },
  {
   "cell_type": "code",
   "execution_count": null,
   "metadata": {},
   "outputs": [],
   "source": [
    "condition = (steam_df['game-title'] == 'Fallout 4') & (steam_df['behavior-name'] == 'play')\n",
    "\n",
    "chosen_df = steam_df.loc[condition, ['user-id', 'game-title', 'value']]\n",
    "\n",
    "display(HTML(chosen_df.head(10).to_html()))"
   ]
  },
  {
   "cell_type": "markdown",
   "metadata": {},
   "source": [
    "## Simple operations on columns"
   ]
  },
  {
   "cell_type": "markdown",
   "metadata": {},
   "source": [
    "### Multiply a column by 2"
   ]
  },
  {
   "cell_type": "code",
   "execution_count": null,
   "metadata": {},
   "outputs": [],
   "source": [
    "steam_df_copy = steam_df.copy()\n",
    "\n",
    "display(HTML(steam_df_copy.head(10).to_html()))\n",
    "\n",
    "steam_df_copy.loc[:, 'value'] = steam_df_copy['value'] * 2\n",
    "\n",
    "display(HTML(steam_df_copy.head(10).to_html()))"
   ]
  },
  {
   "cell_type": "markdown",
   "metadata": {},
   "source": [
    "### Choose the first n letters of a string"
   ]
  },
  {
   "cell_type": "code",
   "execution_count": null,
   "metadata": {},
   "outputs": [],
   "source": [
    "ml_movies_df_copy = ml_movies_df.copy()\n",
    "\n",
    "display(HTML(ml_movies_df_copy.head(10).to_html()))\n",
    "\n",
    "ml_movies_df_copy.loc[:, 'title'] = ml_movies_df_copy['title'].str[:6]\n",
    "\n",
    "display(HTML(ml_movies_df_copy.head(10).to_html()))"
   ]
  },
  {
   "cell_type": "markdown",
   "metadata": {},
   "source": [
    "### Take the mean of a column"
   ]
  },
  {
   "cell_type": "code",
   "execution_count": null,
   "metadata": {},
   "outputs": [],
   "source": [
    "# Option 1\n",
    "print(steam_df['value'].mean())\n",
    "\n",
    "# Option 2\n",
    "print(np.mean(steam_df['value']))"
   ]
  },
  {
   "cell_type": "markdown",
   "metadata": {},
   "source": [
    "### Simple operation on filtered data"
   ]
  },
  {
   "cell_type": "code",
   "execution_count": 38,
   "metadata": {},
   "outputs": [
    {
     "data": {
      "text/html": [
       "<table border=\"1\" class=\"dataframe\">\n",
       "  <thead>\n",
       "    <tr style=\"text-align: right;\">\n",
       "      <th></th>\n",
       "      <th>user-id</th>\n",
       "      <th>game-title</th>\n",
       "      <th>behavior-name</th>\n",
       "      <th>value</th>\n",
       "      <th>zero</th>\n",
       "    </tr>\n",
       "  </thead>\n",
       "  <tbody>\n",
       "    <tr>\n",
       "      <th>1</th>\n",
       "      <td>151603712</td>\n",
       "      <td>The Elder Scrolls V Skyrim</td>\n",
       "      <td>play</td>\n",
       "      <td>273.0</td>\n",
       "      <td>0</td>\n",
       "    </tr>\n",
       "    <tr>\n",
       "      <th>3</th>\n",
       "      <td>151603712</td>\n",
       "      <td>Fallout 4</td>\n",
       "      <td>play</td>\n",
       "      <td>87.0</td>\n",
       "      <td>0</td>\n",
       "    </tr>\n",
       "    <tr>\n",
       "      <th>73</th>\n",
       "      <td>59945701</td>\n",
       "      <td>The Elder Scrolls V Skyrim</td>\n",
       "      <td>play</td>\n",
       "      <td>58.0</td>\n",
       "      <td>0</td>\n",
       "    </tr>\n",
       "    <tr>\n",
       "      <th>1066</th>\n",
       "      <td>92107940</td>\n",
       "      <td>The Elder Scrolls V Skyrim</td>\n",
       "      <td>play</td>\n",
       "      <td>110.0</td>\n",
       "      <td>0</td>\n",
       "    </tr>\n",
       "    <tr>\n",
       "      <th>1168</th>\n",
       "      <td>250006052</td>\n",
       "      <td>The Elder Scrolls V Skyrim</td>\n",
       "      <td>play</td>\n",
       "      <td>465.0</td>\n",
       "      <td>0</td>\n",
       "    </tr>\n",
       "    <tr>\n",
       "      <th>1388</th>\n",
       "      <td>11373749</td>\n",
       "      <td>The Elder Scrolls V Skyrim</td>\n",
       "      <td>play</td>\n",
       "      <td>220.0</td>\n",
       "      <td>0</td>\n",
       "    </tr>\n",
       "    <tr>\n",
       "      <th>2065</th>\n",
       "      <td>54103616</td>\n",
       "      <td>The Elder Scrolls V Skyrim</td>\n",
       "      <td>play</td>\n",
       "      <td>35.0</td>\n",
       "      <td>0</td>\n",
       "    </tr>\n",
       "    <tr>\n",
       "      <th>2569</th>\n",
       "      <td>56038151</td>\n",
       "      <td>The Elder Scrolls V Skyrim</td>\n",
       "      <td>play</td>\n",
       "      <td>14.6</td>\n",
       "      <td>0</td>\n",
       "    </tr>\n",
       "    <tr>\n",
       "      <th>3188</th>\n",
       "      <td>87445402</td>\n",
       "      <td>Fallout 4</td>\n",
       "      <td>play</td>\n",
       "      <td>83.0</td>\n",
       "      <td>0</td>\n",
       "    </tr>\n",
       "    <tr>\n",
       "      <th>3233</th>\n",
       "      <td>94088853</td>\n",
       "      <td>The Elder Scrolls V Skyrim</td>\n",
       "      <td>play</td>\n",
       "      <td>320.0</td>\n",
       "      <td>0</td>\n",
       "    </tr>\n",
       "  </tbody>\n",
       "</table>"
      ],
      "text/plain": [
       "<IPython.core.display.HTML object>"
      ]
     },
     "metadata": {},
     "output_type": "display_data"
    },
    {
     "data": {
      "text/html": [
       "<table border=\"1\" class=\"dataframe\">\n",
       "  <thead>\n",
       "    <tr style=\"text-align: right;\">\n",
       "      <th></th>\n",
       "      <th>user-id</th>\n",
       "      <th>game-title</th>\n",
       "      <th>behavior-name</th>\n",
       "      <th>value</th>\n",
       "      <th>zero</th>\n",
       "    </tr>\n",
       "  </thead>\n",
       "  <tbody>\n",
       "    <tr>\n",
       "      <th>1</th>\n",
       "      <td>151603712</td>\n",
       "      <td>The Elder Scrolls V Skyrim</td>\n",
       "      <td>play</td>\n",
       "      <td>273.0</td>\n",
       "      <td>0</td>\n",
       "    </tr>\n",
       "    <tr>\n",
       "      <th>3</th>\n",
       "      <td>151603712</td>\n",
       "      <td>Fallout 4</td>\n",
       "      <td>play</td>\n",
       "      <td>174.0</td>\n",
       "      <td>0</td>\n",
       "    </tr>\n",
       "    <tr>\n",
       "      <th>73</th>\n",
       "      <td>59945701</td>\n",
       "      <td>The Elder Scrolls V Skyrim</td>\n",
       "      <td>play</td>\n",
       "      <td>58.0</td>\n",
       "      <td>0</td>\n",
       "    </tr>\n",
       "    <tr>\n",
       "      <th>1066</th>\n",
       "      <td>92107940</td>\n",
       "      <td>The Elder Scrolls V Skyrim</td>\n",
       "      <td>play</td>\n",
       "      <td>110.0</td>\n",
       "      <td>0</td>\n",
       "    </tr>\n",
       "    <tr>\n",
       "      <th>1168</th>\n",
       "      <td>250006052</td>\n",
       "      <td>The Elder Scrolls V Skyrim</td>\n",
       "      <td>play</td>\n",
       "      <td>465.0</td>\n",
       "      <td>0</td>\n",
       "    </tr>\n",
       "    <tr>\n",
       "      <th>1388</th>\n",
       "      <td>11373749</td>\n",
       "      <td>The Elder Scrolls V Skyrim</td>\n",
       "      <td>play</td>\n",
       "      <td>220.0</td>\n",
       "      <td>0</td>\n",
       "    </tr>\n",
       "    <tr>\n",
       "      <th>2065</th>\n",
       "      <td>54103616</td>\n",
       "      <td>The Elder Scrolls V Skyrim</td>\n",
       "      <td>play</td>\n",
       "      <td>35.0</td>\n",
       "      <td>0</td>\n",
       "    </tr>\n",
       "    <tr>\n",
       "      <th>2569</th>\n",
       "      <td>56038151</td>\n",
       "      <td>The Elder Scrolls V Skyrim</td>\n",
       "      <td>play</td>\n",
       "      <td>14.6</td>\n",
       "      <td>0</td>\n",
       "    </tr>\n",
       "    <tr>\n",
       "      <th>3188</th>\n",
       "      <td>87445402</td>\n",
       "      <td>Fallout 4</td>\n",
       "      <td>play</td>\n",
       "      <td>166.0</td>\n",
       "      <td>0</td>\n",
       "    </tr>\n",
       "    <tr>\n",
       "      <th>3233</th>\n",
       "      <td>94088853</td>\n",
       "      <td>The Elder Scrolls V Skyrim</td>\n",
       "      <td>play</td>\n",
       "      <td>320.0</td>\n",
       "      <td>0</td>\n",
       "    </tr>\n",
       "  </tbody>\n",
       "</table>"
      ],
      "text/plain": [
       "<IPython.core.display.HTML object>"
      ]
     },
     "metadata": {},
     "output_type": "display_data"
    }
   ],
   "source": [
    "steam_df_copy = steam_df.loc[((steam_df['game-title'] == 'Fallout 4') | (steam_df['game-title'] == 'The Elder Scrolls V Skyrim')) \n",
    "                             & (steam_df['behavior-name'] == 'play')].copy()\n",
    "\n",
    "display(HTML(steam_df_copy.head(10).to_html()))\n",
    "\n",
    "condition = (steam_df_copy['game-title'] == 'Fallout 4') & (steam_df_copy['behavior-name'] == 'play')\n",
    "\n",
    "steam_df_copy.loc[condition, 'value'] = steam_df_copy.loc[condition, 'value'] * 2\n",
    "\n",
    "display(HTML(steam_df_copy.head(10).to_html()))"
   ]
  },
  {
   "cell_type": "markdown",
   "metadata": {},
   "source": [
    "## Advanced operations on columns"
   ]
  },
  {
   "cell_type": "code",
   "execution_count": null,
   "metadata": {},
   "outputs": [],
   "source": [
    "def reduce_outliers(x):\n",
    "    return min(np.log(1 + x), 4)\n",
    "\n",
    "steam_df_copy = steam_df.loc[steam_df['behavior-name'] == 'play'].copy()\n",
    "\n",
    "display(HTML(steam_df_copy.head(10).to_html()))\n",
    "\n",
    "steam_df_copy.loc[:, 'value'] = steam_df_copy['value'].apply(reduce_outliers)\n",
    "\n",
    "display(HTML(steam_df_copy.head(10).to_html()))"
   ]
  },
  {
   "cell_type": "markdown",
   "metadata": {},
   "source": [
    "### The same apply operation can be achieved with the use of a lambda function"
   ]
  },
  {
   "cell_type": "code",
   "execution_count": null,
   "metadata": {},
   "outputs": [],
   "source": [
    "steam_df_copy = steam_df.loc[steam_df['behavior-name'] == 'play'].copy()\n",
    "\n",
    "display(HTML(steam_df_copy.head(10).to_html()))\n",
    "\n",
    "steam_df_copy.loc[:, 'value'] = steam_df_copy['value'].apply(lambda x: min(np.log(1 + x), 4))\n",
    "\n",
    "display(HTML(steam_df_copy.head(10).to_html()))"
   ]
  },
  {
   "cell_type": "markdown",
   "metadata": {},
   "source": [
    "### Apply on two columns at once"
   ]
  },
  {
   "cell_type": "code",
   "execution_count": 52,
   "metadata": {},
   "outputs": [
    {
     "data": {
      "text/html": [
       "<table border=\"1\" class=\"dataframe\">\n",
       "  <thead>\n",
       "    <tr style=\"text-align: right;\">\n",
       "      <th></th>\n",
       "      <th>user-id</th>\n",
       "      <th>game-title</th>\n",
       "      <th>behavior-name</th>\n",
       "      <th>value</th>\n",
       "      <th>zero</th>\n",
       "    </tr>\n",
       "  </thead>\n",
       "  <tbody>\n",
       "    <tr>\n",
       "      <th>1</th>\n",
       "      <td>151603712</td>\n",
       "      <td>The Elder Scrolls V Skyrim</td>\n",
       "      <td>play</td>\n",
       "      <td>273.0</td>\n",
       "      <td>0</td>\n",
       "    </tr>\n",
       "    <tr>\n",
       "      <th>3</th>\n",
       "      <td>151603712</td>\n",
       "      <td>Fallout 4</td>\n",
       "      <td>play</td>\n",
       "      <td>87.0</td>\n",
       "      <td>0</td>\n",
       "    </tr>\n",
       "    <tr>\n",
       "      <th>5</th>\n",
       "      <td>151603712</td>\n",
       "      <td>Spore</td>\n",
       "      <td>play</td>\n",
       "      <td>14.9</td>\n",
       "      <td>0</td>\n",
       "    </tr>\n",
       "    <tr>\n",
       "      <th>7</th>\n",
       "      <td>151603712</td>\n",
       "      <td>Fallout New Vegas</td>\n",
       "      <td>play</td>\n",
       "      <td>12.1</td>\n",
       "      <td>0</td>\n",
       "    </tr>\n",
       "    <tr>\n",
       "      <th>9</th>\n",
       "      <td>151603712</td>\n",
       "      <td>Left 4 Dead 2</td>\n",
       "      <td>play</td>\n",
       "      <td>8.9</td>\n",
       "      <td>0</td>\n",
       "    </tr>\n",
       "    <tr>\n",
       "      <th>11</th>\n",
       "      <td>151603712</td>\n",
       "      <td>HuniePop</td>\n",
       "      <td>play</td>\n",
       "      <td>8.5</td>\n",
       "      <td>0</td>\n",
       "    </tr>\n",
       "    <tr>\n",
       "      <th>13</th>\n",
       "      <td>151603712</td>\n",
       "      <td>Path of Exile</td>\n",
       "      <td>play</td>\n",
       "      <td>8.1</td>\n",
       "      <td>0</td>\n",
       "    </tr>\n",
       "    <tr>\n",
       "      <th>15</th>\n",
       "      <td>151603712</td>\n",
       "      <td>Poly Bridge</td>\n",
       "      <td>play</td>\n",
       "      <td>7.5</td>\n",
       "      <td>0</td>\n",
       "    </tr>\n",
       "    <tr>\n",
       "      <th>17</th>\n",
       "      <td>151603712</td>\n",
       "      <td>Left 4 Dead</td>\n",
       "      <td>play</td>\n",
       "      <td>3.3</td>\n",
       "      <td>0</td>\n",
       "    </tr>\n",
       "    <tr>\n",
       "      <th>19</th>\n",
       "      <td>151603712</td>\n",
       "      <td>Team Fortress 2</td>\n",
       "      <td>play</td>\n",
       "      <td>2.8</td>\n",
       "      <td>0</td>\n",
       "    </tr>\n",
       "  </tbody>\n",
       "</table>"
      ],
      "text/plain": [
       "<IPython.core.display.HTML object>"
      ]
     },
     "metadata": {},
     "output_type": "display_data"
    },
    {
     "data": {
      "text/html": [
       "<table border=\"1\" class=\"dataframe\">\n",
       "  <thead>\n",
       "    <tr style=\"text-align: right;\">\n",
       "      <th></th>\n",
       "      <th>user-id</th>\n",
       "      <th>game-title</th>\n",
       "      <th>behavior-name</th>\n",
       "      <th>value</th>\n",
       "      <th>zero</th>\n",
       "      <th>value_2</th>\n",
       "    </tr>\n",
       "  </thead>\n",
       "  <tbody>\n",
       "    <tr>\n",
       "      <th>1</th>\n",
       "      <td>151603712</td>\n",
       "      <td>The Elder Scrolls V Skyrim</td>\n",
       "      <td>play</td>\n",
       "      <td>273.0</td>\n",
       "      <td>0</td>\n",
       "      <td>4.000000</td>\n",
       "    </tr>\n",
       "    <tr>\n",
       "      <th>3</th>\n",
       "      <td>151603712</td>\n",
       "      <td>Fallout 4</td>\n",
       "      <td>play</td>\n",
       "      <td>87.0</td>\n",
       "      <td>0</td>\n",
       "      <td>4.000000</td>\n",
       "    </tr>\n",
       "    <tr>\n",
       "      <th>5</th>\n",
       "      <td>151603712</td>\n",
       "      <td>Spore</td>\n",
       "      <td>play</td>\n",
       "      <td>14.9</td>\n",
       "      <td>0</td>\n",
       "      <td>2.766319</td>\n",
       "    </tr>\n",
       "    <tr>\n",
       "      <th>7</th>\n",
       "      <td>151603712</td>\n",
       "      <td>Fallout New Vegas</td>\n",
       "      <td>play</td>\n",
       "      <td>12.1</td>\n",
       "      <td>0</td>\n",
       "      <td>2.572612</td>\n",
       "    </tr>\n",
       "    <tr>\n",
       "      <th>9</th>\n",
       "      <td>151603712</td>\n",
       "      <td>Left 4 Dead 2</td>\n",
       "      <td>play</td>\n",
       "      <td>8.9</td>\n",
       "      <td>0</td>\n",
       "      <td>2.292535</td>\n",
       "    </tr>\n",
       "    <tr>\n",
       "      <th>11</th>\n",
       "      <td>151603712</td>\n",
       "      <td>HuniePop</td>\n",
       "      <td>play</td>\n",
       "      <td>8.5</td>\n",
       "      <td>0</td>\n",
       "      <td>2.251292</td>\n",
       "    </tr>\n",
       "    <tr>\n",
       "      <th>13</th>\n",
       "      <td>151603712</td>\n",
       "      <td>Path of Exile</td>\n",
       "      <td>play</td>\n",
       "      <td>8.1</td>\n",
       "      <td>0</td>\n",
       "      <td>2.208274</td>\n",
       "    </tr>\n",
       "    <tr>\n",
       "      <th>15</th>\n",
       "      <td>151603712</td>\n",
       "      <td>Poly Bridge</td>\n",
       "      <td>play</td>\n",
       "      <td>7.5</td>\n",
       "      <td>0</td>\n",
       "      <td>2.140066</td>\n",
       "    </tr>\n",
       "    <tr>\n",
       "      <th>17</th>\n",
       "      <td>151603712</td>\n",
       "      <td>Left 4 Dead</td>\n",
       "      <td>play</td>\n",
       "      <td>3.3</td>\n",
       "      <td>0</td>\n",
       "      <td>1.458615</td>\n",
       "    </tr>\n",
       "    <tr>\n",
       "      <th>19</th>\n",
       "      <td>151603712</td>\n",
       "      <td>Team Fortress 2</td>\n",
       "      <td>play</td>\n",
       "      <td>2.8</td>\n",
       "      <td>0</td>\n",
       "      <td>1.335001</td>\n",
       "    </tr>\n",
       "  </tbody>\n",
       "</table>"
      ],
      "text/plain": [
       "<IPython.core.display.HTML object>"
      ]
     },
     "metadata": {},
     "output_type": "display_data"
    },
    {
     "data": {
      "text/html": [
       "<table border=\"1\" class=\"dataframe\">\n",
       "  <thead>\n",
       "    <tr style=\"text-align: right;\">\n",
       "      <th></th>\n",
       "      <th>user-id</th>\n",
       "      <th>game-title</th>\n",
       "      <th>behavior-name</th>\n",
       "      <th>value</th>\n",
       "      <th>zero</th>\n",
       "      <th>value_2</th>\n",
       "    </tr>\n",
       "  </thead>\n",
       "  <tbody>\n",
       "    <tr>\n",
       "      <th>1</th>\n",
       "      <td>151603712</td>\n",
       "      <td>The Elder Scrolls V Skyrim</td>\n",
       "      <td>play</td>\n",
       "      <td>1092.000000</td>\n",
       "      <td>0</td>\n",
       "      <td>4.000000</td>\n",
       "    </tr>\n",
       "    <tr>\n",
       "      <th>3</th>\n",
       "      <td>151603712</td>\n",
       "      <td>Fallout 4</td>\n",
       "      <td>play</td>\n",
       "      <td>348.000000</td>\n",
       "      <td>0</td>\n",
       "      <td>4.000000</td>\n",
       "    </tr>\n",
       "    <tr>\n",
       "      <th>5</th>\n",
       "      <td>151603712</td>\n",
       "      <td>Spore</td>\n",
       "      <td>play</td>\n",
       "      <td>41.218155</td>\n",
       "      <td>0</td>\n",
       "      <td>2.766319</td>\n",
       "    </tr>\n",
       "    <tr>\n",
       "      <th>7</th>\n",
       "      <td>151603712</td>\n",
       "      <td>Fallout New Vegas</td>\n",
       "      <td>play</td>\n",
       "      <td>31.128608</td>\n",
       "      <td>0</td>\n",
       "      <td>2.572612</td>\n",
       "    </tr>\n",
       "    <tr>\n",
       "      <th>9</th>\n",
       "      <td>151603712</td>\n",
       "      <td>Left 4 Dead 2</td>\n",
       "      <td>play</td>\n",
       "      <td>20.403559</td>\n",
       "      <td>0</td>\n",
       "      <td>2.292535</td>\n",
       "    </tr>\n",
       "    <tr>\n",
       "      <th>11</th>\n",
       "      <td>151603712</td>\n",
       "      <td>HuniePop</td>\n",
       "      <td>play</td>\n",
       "      <td>19.135980</td>\n",
       "      <td>0</td>\n",
       "      <td>2.251292</td>\n",
       "    </tr>\n",
       "    <tr>\n",
       "      <th>13</th>\n",
       "      <td>151603712</td>\n",
       "      <td>Path of Exile</td>\n",
       "      <td>play</td>\n",
       "      <td>17.887023</td>\n",
       "      <td>0</td>\n",
       "      <td>2.208274</td>\n",
       "    </tr>\n",
       "    <tr>\n",
       "      <th>15</th>\n",
       "      <td>151603712</td>\n",
       "      <td>Poly Bridge</td>\n",
       "      <td>play</td>\n",
       "      <td>16.050496</td>\n",
       "      <td>0</td>\n",
       "      <td>2.140066</td>\n",
       "    </tr>\n",
       "    <tr>\n",
       "      <th>17</th>\n",
       "      <td>151603712</td>\n",
       "      <td>Left 4 Dead</td>\n",
       "      <td>play</td>\n",
       "      <td>4.813430</td>\n",
       "      <td>0</td>\n",
       "      <td>1.458615</td>\n",
       "    </tr>\n",
       "    <tr>\n",
       "      <th>19</th>\n",
       "      <td>151603712</td>\n",
       "      <td>Team Fortress 2</td>\n",
       "      <td>play</td>\n",
       "      <td>3.738003</td>\n",
       "      <td>0</td>\n",
       "      <td>1.335001</td>\n",
       "    </tr>\n",
       "  </tbody>\n",
       "</table>"
      ],
      "text/plain": [
       "<IPython.core.display.HTML object>"
      ]
     },
     "metadata": {},
     "output_type": "display_data"
    }
   ],
   "source": [
    "steam_df_copy = steam_df.loc[steam_df['behavior-name'] == 'play'].copy()\n",
    "\n",
    "display(HTML(steam_df_copy.head(10).to_html()))\n",
    "\n",
    "steam_df_copy.loc[:, 'value_2'] = steam_df_copy['value'].apply(lambda x: min(np.log(1 + x), 4))\n",
    "\n",
    "display(HTML(steam_df_copy.head(10).to_html()))\n",
    "\n",
    "steam_df_copy.loc[:, 'value'] = steam_df_copy[['value', 'value_2']].apply(lambda x: x[0] * x[1], axis=1)\n",
    "\n",
    "display(HTML(steam_df_copy.head(10).to_html()))"
   ]
  },
  {
   "cell_type": "code",
   "execution_count": null,
   "metadata": {},
   "outputs": [],
   "source": [
    "ml_movies_df_copy = ml_movies_df.copy()\n",
    "\n",
    "display(HTML(ml_movies_df_copy.head(10).to_html()))\n",
    "\n",
    "ml_movies_df_copy.loc[:, 'title|genres'] = ml_movies_df_copy[['title', 'genres']].apply(lambda x: x[0] + \"|\" + x[1], axis=1)\n",
    "\n",
    "display(HTML(ml_movies_df_copy.head(10).to_html()))"
   ]
  },
  {
   "cell_type": "markdown",
   "metadata": {},
   "source": [
    "## Grouping and aggregating"
   ]
  },
  {
   "cell_type": "markdown",
   "metadata": {},
   "source": [
    "### Find the most popular games (in terms of purchases)"
   ]
  },
  {
   "cell_type": "code",
   "execution_count": 40,
   "metadata": {},
   "outputs": [
    {
     "data": {
      "text/html": [
       "<table border=\"1\" class=\"dataframe\">\n",
       "  <thead>\n",
       "    <tr style=\"text-align: right;\">\n",
       "      <th></th>\n",
       "      <th>game-title</th>\n",
       "      <th>value</th>\n",
       "    </tr>\n",
       "  </thead>\n",
       "  <tbody>\n",
       "    <tr>\n",
       "      <th>0</th>\n",
       "      <td>Dota 2</td>\n",
       "      <td>4841.0</td>\n",
       "    </tr>\n",
       "    <tr>\n",
       "      <th>1</th>\n",
       "      <td>Team Fortress 2</td>\n",
       "      <td>2323.0</td>\n",
       "    </tr>\n",
       "    <tr>\n",
       "      <th>2</th>\n",
       "      <td>Unturned</td>\n",
       "      <td>1563.0</td>\n",
       "    </tr>\n",
       "    <tr>\n",
       "      <th>3</th>\n",
       "      <td>Counter-Strike Global Offensive</td>\n",
       "      <td>1412.0</td>\n",
       "    </tr>\n",
       "    <tr>\n",
       "      <th>4</th>\n",
       "      <td>Half-Life 2 Lost Coast</td>\n",
       "      <td>981.0</td>\n",
       "    </tr>\n",
       "    <tr>\n",
       "      <th>5</th>\n",
       "      <td>Counter-Strike Source</td>\n",
       "      <td>978.0</td>\n",
       "    </tr>\n",
       "    <tr>\n",
       "      <th>6</th>\n",
       "      <td>Left 4 Dead 2</td>\n",
       "      <td>951.0</td>\n",
       "    </tr>\n",
       "    <tr>\n",
       "      <th>7</th>\n",
       "      <td>Counter-Strike</td>\n",
       "      <td>856.0</td>\n",
       "    </tr>\n",
       "    <tr>\n",
       "      <th>8</th>\n",
       "      <td>Warframe</td>\n",
       "      <td>847.0</td>\n",
       "    </tr>\n",
       "    <tr>\n",
       "      <th>9</th>\n",
       "      <td>Half-Life 2 Deathmatch</td>\n",
       "      <td>823.0</td>\n",
       "    </tr>\n",
       "  </tbody>\n",
       "</table>"
      ],
      "text/plain": [
       "<IPython.core.display.HTML object>"
      ]
     },
     "metadata": {},
     "output_type": "display_data"
    }
   ],
   "source": [
    "steam_grouped = steam_df.loc[steam_df['behavior-name'] == 'purchase', ['game-title', 'value']]\n",
    "steam_grouped = steam_grouped.groupby('game-title').sum()\n",
    "steam_grouped = steam_grouped.sort_values(by='value', ascending=False).reset_index()\n",
    "\n",
    "display(HTML(steam_grouped.head(10).to_html()))"
   ]
  },
  {
   "cell_type": "markdown",
   "metadata": {},
   "source": [
    "## Iterating over a DataFrame (if possible, use column operations instead)"
   ]
  },
  {
   "cell_type": "code",
   "execution_count": 31,
   "metadata": {},
   "outputs": [
    {
     "name": "stdout",
     "output_type": "stream",
     "text": [
      "[151603712, The Elder Scrolls V Skyrim, purchase]\n",
      "[151603712, The Elder Scrolls V Skyrim, play]\n",
      "[151603712, Fallout 4, purchase]\n",
      "[151603712, Fallout 4, play]\n",
      "[151603712, Spore, purchase]\n",
      "[151603712, Spore, play]\n",
      "[151603712, Fallout New Vegas, purchase]\n",
      "[151603712, Fallout New Vegas, play]\n",
      "[151603712, Left 4 Dead 2, purchase]\n",
      "[151603712, Left 4 Dead 2, play]\n"
     ]
    }
   ],
   "source": [
    "i = 0\n",
    "for idx, row in steam_df.iterrows():\n",
    "    print(\"[{}, {}, {}]\".format(row['user-id'], row['game-title'], row['behavior-name']))\n",
    "    i += 1\n",
    "    if i == 10:\n",
    "        break"
   ]
  },
  {
   "cell_type": "markdown",
   "metadata": {},
   "source": [
    "## Pandas tasks - Steam dataset"
   ]
  },
  {
   "cell_type": "markdown",
   "metadata": {},
   "source": [
    "**Task 4.** How many people made a purchase in the Steam dataset? Remember that a person could by many games, but you need to count every person once."
   ]
  },
  {
   "cell_type": "code",
   "execution_count": 53,
   "metadata": {},
   "outputs": [
    {
     "name": "stdout",
     "output_type": "stream",
     "text": [
      "12393\n"
     ]
    }
   ],
   "source": [
    "steam_grouped = steam_df.loc[steam_df['behavior-name'] == 'purchase', ['user-id', 'game-title']]\n",
    "steam_grouped = steam_grouped.groupby('user-id').sum()\n",
    "steam_grouped = steam_grouped.sort_values(by='user-id', ascending=False).reset_index()\n",
    "result = len(steam_grouped)\n",
    "print(result)\n",
    "#display(HTML(steam_grouped.tail(3).to_html()))"
   ]
  },
  {
   "cell_type": "markdown",
   "metadata": {},
   "source": [
    "**Task 5.** How many people made a purchase of \"The Elder Scrolls V Skyrim\"?"
   ]
  },
  {
   "cell_type": "code",
   "execution_count": 46,
   "metadata": {},
   "outputs": [
    {
     "name": "stdout",
     "output_type": "stream",
     "text": [
      "717\n"
     ]
    }
   ],
   "source": [
    "condition = (steam_df['game-title'] == 'The Elder Scrolls V Skyrim') & (steam_df['behavior-name'] == 'purchase')\n",
    "steam_grouped = steam_df.loc[condition, ['user-id', 'game-title']]\n",
    "steam_grouped = steam_grouped.groupby('user-id').sum()\n",
    "steam_grouped = steam_grouped.sort_values(by='user-id', ascending=False).reset_index()\n",
    "result = len(steam_grouped)\n",
    "print(result)"
   ]
  },
  {
   "cell_type": "markdown",
   "metadata": {},
   "source": [
    "**Task 6.** How many purchases people made on average?"
   ]
  },
  {
   "cell_type": "code",
   "execution_count": 90,
   "metadata": {},
   "outputs": [
    {
     "name": "stdout",
     "output_type": "stream",
     "text": [
      "10.45033486645687\n"
     ]
    }
   ],
   "source": [
    "steam_grouped = steam_df.loc[steam_df['behavior-name'] == 'purchase', ['user-id', 'game-title']]\n",
    "steam_grouped.loc[:, 'game-title'] = steam_grouped[['game-title']].apply(lambda x: x + \"nast-\", axis=0)\n",
    "steam_grouped = steam_grouped.groupby('user-id').sum()\n",
    "steam_grouped = steam_grouped.sort_values(by='game-title', ascending=False).reset_index()\n",
    "\n",
    "i = 0\n",
    "arr = list()\n",
    "for idx, row in steam_grouped.iterrows():\n",
    "    arr.append(len(str(row['game-title']).split(\"nast-\")) - 1)\n",
    "    i += 1\n",
    "\n",
    "result = np.mean(np.array(arr))\n",
    "print(result)\n",
    "#display(HTML(steam_grouped.head(10).to_html()))"
   ]
  },
  {
   "cell_type": "markdown",
   "metadata": {},
   "source": [
    "**Task 7.** Who bought the most games?"
   ]
  },
  {
   "cell_type": "code",
   "execution_count": 96,
   "metadata": {},
   "outputs": [
    {
     "name": "stdout",
     "output_type": "stream",
     "text": [
      "1075\n",
      "[62990992, Counter-Strike Global Offensivenast-Sid Meier's Civilization Vnast-Total War SHOGUN 2nast-Total War ROME II - Emperor Editionnast-Dungeon Defendersnast-Age of Empires Onlinenast-XCOM Enemy Unknownnast-Empire Total Warnast-Might & Magic Heroes VInast-Assassin's Creed IV Black Flagnast-Alien Swarmnast-Assassin's Creed IInast-Assassin's Creed Brotherhoodnast-Terra Incognita ~ Chapter One The Descendantnast-Warlock - Master of the Arcanenast-Phantom Breaker Battle Groundsnast-Soul Gamblernast-Supreme Commandernast-The Incredible Adventures of Van Helsing IInast-Titan Quest Immortal Thronenast-Orcs Must Die! 2nast-Assassin's Creed Revelationsnast-Relic Hunters Zeronast-Tom Clancy's Ghost Recon Advanced Warfighternast-Warhammer 40,000 Dawn of War II - Chaos Risingnast-Napoleon Total Warnast-Warhammer 40,000 Dawn of War II  Retributionnast-Uncrowdednast-Alan Wakenast-Ancient Spacenast-R.U.S.Enast-Sometimes Success Requires Sacrificenast-Dead Islandnast-Terrarianast-Why So Evilnast-Fearless Fantasynast-Hitman Absolutionnast-Sacred Citadelnast-Supreme Commander Forged Alliancenast-Killing Floornast-Port Royale 3nast-Sweet Lily Dreamsnast-Left 4 Dead 2nast-Stardust Vanguardsnast-Squirreltopianast-Viking Battle for Asgardnast-Greyfoxnast-Batman Arkham City GOTYnast-Secret Of Magianast-Borderlandsnast-The Bureau XCOM Declassifiednast-The Lord of the Rings War in the Northnast-Woodle Tree Adventuresnast-The Incredible Adventures of Van Helsingnast-Endless Legendnast-Defense Grid The Awakeningnast-Fable IIInast-Torchlight IInast-Batman Arkham Originsnast-Anno 2070nast-Cities XL Platinumnast-Batman Arkham Asylum GOTY Editionnast-Portal 2nast-E.Y.E Divine Cybermancynast-Tom Clancy's Ghost Recon Future Soldiernast-Magickanast-Minimonnast-Pongonast-AirMechnast-Supreme Commander 2nast-Absconding Zatwornast-Burnout Paradise The Ultimate Boxnast-Prime World Defendersnast-Warhammer 40,000 Space Marinenast-Assassin's Creednast-Mercenary Kingsnast-Brilliant Bobnast-Tea Party Simulator 2015nast-No Time To Explain Remasterednast-GemCraft - Chasing Shadowsnast-Metal Planetnast-Age of Empires II HD Editionnast-Resident Evil 5 / Biohazard 5nast-Team Fortress 2nast-DmC Devil May Crynast-Onikennast-12 Labours of Hercules III Girl Powernast-Saints Row IVnast-Gravilonnast-Spec Ops The Linenast-Keen Dreamsnast-The Campaign Series Fall Weissnast-Fortix 2nast-Warhammer 40,000 Dawn of War - Game of the Year Editionnast-Despairnast-Borderlands 2nast-NARUTO SHIPPUDEN Ultimate Ninja STORM 3 Full Burstnast-Tiny Bridge Ratventurenast-Robot Roller-Derby Disco Dodgeballnast-Warframenast-Knights of Pen and Paper +1nast-The Hat Man Shadow Wardnast-Depth Hunter 2 Deep Divenast-Serious Sam 3 BFEnast-Merchants of Kaidannast-Anoxemianast-12 Labours of Hercules II The Cretan Bullnast-Oddworld Abe's Oddyseenast-Red Faction Guerrilla Steam Editionnast-12 Labours of Herculesnast-Half-Life 2nast-Shadowgatenast-Endless Spacenast-Sniper Elite V2nast-Letter Quest Grimm's Journeynast-Risennast-Sid Meier's Ace Patrolnast-Frankenstein Master of Deathnast-Sengokunast-Jack Lumbernast-Starlaxis Supernova Editionnast-Super 3-D Noah's Arknast-Robotexnast-Company of Heroes 2nast-Overcast - Walden and the Werewolfnast-Gun Metalnast-Dota 2nast-Letter Quest Grimm's Journey Remasterednast-Spiritsnast-Tropico 4nast-SUPER DISTROnast-Hearts of Iron IIInast-Voxelizednast-Incoming Forcesnast-Fallen Enchantress Legendary Heroesnast-Command and Conquer 3 Tiberium Warsnast-Rochardnast-Cast of the Seven Godsendsnast-Resident Evil Revelations / Biohazard Revelationsnast-Lichdom Battlemagenast-Awesomenautsnast-Lilly and Sasha Curse of the Immortalsnast-Temper Tantrumnast-RAW - Realms of Ancient Warnast-PAYDAY The Heistnast-Screencheatnast-Lost Planet 3nast-Coin Cryptnast-Warlock 2 the Exilednast-War, the Gamenast-Sid Meier's Ace Patrol Pacific Skiesnast-Doorways The Underworldnast-Polaritynast-Labyronia RPGnast-Colin McRae Rallynast-Trinenast-Squishy the Suicidal Pignast-Outlandnast-Monaconast-Strategic War in Europenast-1953 NATO vs Warsaw Pactnast-BIT.TRIP RUNNERnast-Journey Of The Lightnast-The Slaughtering Groundsnast-Warhammer 40,000 Dawn of War IInast-Into the Darknast-Planetary Annihilationnast-Pressurednast-Guacamelee! Gold Editionnast-Antichambernast-Battlepathsnast-Penguins Arena Sedna's Worldnast-Star Wars Empire at War Goldnast-Rising Storm/Red Orchestra 2 Multiplayernast-Painkiller Hell & Damnationnast-Chainsaw Warriornast-Nuclear Dawnnast-Speed Killsnast-Rise of Nations Extended Editionnast-Battle vs Chessnast-Bloodbath Kavkaznast-Homefrontnast-Marble Mayhem Fragile Ballnast-Project Explorenast-The Fewnast-Chipnast-16bit Tradernast-Dustforcenast-Orcs Must Die!nast-Remember Menast-Pool Nationnast-Hostile Waters Antaeus Risingnast-Stridernast-F1 Race Starsnast-It came from space, and ate our brainsnast-Starion Tacticsnast-Scourge Outbreaknast-Terrorhedronnast-Primordianast-3DMarknast-resident evil 4 / biohazard 4nast-The Howlernast-Chainsaw Warrior Lords of the Nightnast-Two Worlds Epic Editionnast-Risen 2 - Dark Watersnast-Talisman Digital Editionnast-DiRT 3 Complete Editionnast-Deadbreednast-War of the Human Tanksnast-Costume Questnast-Dungeon Defenders Eternitynast-GoD Factory Wingmennast-GunWorldnast-Stackingnast-Skybornnast-The Samaritan Paradoxnast-Sleeping Dogsnast-Freedom Planetnast-GooCubeletsnast-THE KING OF FIGHTERS XIII STEAM EDITIONnast-Shank 2nast-Call of Juareznast-Cytonast-Alan Wake's American Nightmarenast-Alpha Kimori Episode One nast-Deadly Profitsnast-Age of Empires III Complete Collectionnast-Thiefnast-Little Racers STREETnast-MURDERED SOUL SUSPECTnast-Narco Terrornast-Echelonnast-Hero of the Kingdomnast-Injustice Gods Among Us Ultimate Editionnast-The Elder Scrolls V Skyrimnast-Revolution Acenast-Worms Revolutionnast-Zombie Driver HDnast-How To Survive Third Personnast-Call of Juarez Gunslingernast-Cargo Commandernast-Hacker Evolution - Untoldnast-Dead Bitsnast-Sun Blastnast-BloodRayne Betrayalnast-Ionball 2  Ionstormnast-The Darkness IInast-The Shipnast-Anomaly Warzone Earthnast-Flower Shop Winter In Fairbrooknast-Cities in Motion 2nast-METAL SLUG 3nast-Shadow Warriornast-Racer 8nast-Gratuitous Space Battlesnast-HOARDnast-Sinister Citynast-Saints Row The Thirdnast-Residue Final Cutnast-Blob From Spacenast-Orbital Gearnast-Garry's Modnast-Total War Battles SHOGUNnast-Natural Selection 2nast-Space Pirates and Zombiesnast-Intergalactic Bubblesnast-Pixel Piracynast-Medieval II Total Warnast-1Questnast-Counter-Strike Sourcenast-F1 2013nast-Wicklandnast-Power-Upnast-StarDrivenast-The Albino Hunternast-Trine 2nast-Boson Xnast-AI War Fleet Commandnast-BlazBlue Calamity Triggernast-Deus Ex Human Revolution - Director's Cutnast-Rise of Venicenast-Smooth Operatorsnast-Voxnast-Enclavenast-BioShocknast-Why So Evil 2 Dystopianast-Farming Worldnast-Tomb Raidernast-Breach & Clearnast-FX Football - The Manager for Every Football Fannast-Heavy Fire Afghanistannast-Dust An Elysian Tailnast-Nation Rednast-The Culling Of The Cowsnast-KickBeat Steam Editionnast-The Witcher 2 Assassins of Kings Enhanced Editionnast-Ichinast-The Journey Down Chapter Onenast-Contraption Makernast-Skulls of the Shogunnast-Batman Arkham Origins Blackgate - Deluxe Editionnast-SpellForce 2 - Demons of the Pastnast-Tinboynast-Always Sometimes Monstersnast-Star Wolves 3 Civil Warnast-BioShock Infinitenast-Urban Trial Freestylenast-Circuitsnast-Euro Truck Simulator 2nast-Section 8nast-Stealth Bastard Deluxenast-Cortex Commandnast-Franchise Hockey Manager 2014nast-Lunar Flightnast-GRID 2nast-Galcon Legendsnast-Morphopolisnast-Shadowgrounds Survivornast-Break Into Zatwornast-Crazy Machines 2nast-Cthulhu Saves the World nast-Jazzpunknast-Giana Sisters Twisted Dreamsnast-Not The Robotsnast-Full Mojo Rampagenast-Afterfall InSanity Extended Editionnast-Draconian Warsnast-ORION Preludenast-SCHAR Blue Shield Alliancenast-Ballpoint Universe Infinitenast-The Sun at Nightnast-Pacific Stormnast-Crusader Kings IInast-Hotline Miaminast-Talisman Prologuenast-Resident Evil Revelations 2 / Biohazard Revelations 2nast-A Game of Thrones - Genesisnast-Sanctum 2nast-T.E.C. 3001nast-A Bird Storynast-Dino D-Daynast-Retro/Gradenast-Paranormal State Poison Spring Collector's Editionnast-Arma Tacticsnast-Skara - The Blade Remainsnast-Vanguard Princessnast-Double Dragon Neonnast-Anna - Extended Editionnast-Commander Conquest of the Americasnast-Grimmnast-Paper Sorcerernast-Horizon Shiftnast-Alchemy Mysteries Prague Legendsnast-Zombie Zoedsnast-Day of Defeat Sourcenast-Frozen Hearthnast-Guilty Gear Isukanast-Magicka Wizard Warsnast-Major Mayhemnast-Legend of Mysterianast-Psychonautsnast-RADical ROACH Deluxe Editionnast-Super Killer Hornet Resurrectionnast-Tower Warsnast-Sonic & All-Stars Racing Transformednast-Demise of Nations Romenast-Guardians of Middle-earthnast-Gas Guzzlers Extremenast-Wizorbnast-Escape Goatnast-SpaceChemnast-Jamestownnast-Deadly 30nast-Guncraftnast-Far Cry 3 Blood Dragonnast-Blackguardsnast-Hacker Evolutionnast-BEEPnast-Counter-Strikenast-Europa Universalis IIInast-Dysan the Shapeshifternast-Counter-Strike Condition Zero Deleted Scenesnast-Magnetic By Naturenast-Luciusnast-Frozen Synapsenast-Skyward Collapsenast-Gunpointnast-Zeno Clashnast-Deadlightnast-Rhythm Destructionnast-Blaster Shooter GunGuy!nast-Party of Sinnast-Loadoutnast-Ittle Dewnast-Uriel's Chasmnast-Castle Crashersnast-Post Master nast-Strife Veteran Editionnast-System Shock 2nast-SteamWorld Dignast-Sakura Clickernast-Dracula's Legacynast-Deponianast-Nightmares from the Deep The Cursed Heartnast-Epigenesisnast-March of the Eaglesnast-Shadows of Warnast-Gun Monkeysnast-How to Survivenast-Survivor Squadnast-Hammerwatchnast-Shadowgroundsnast-Shadowgate MacVenture Seriesnast-Particulanast-Gray Matternast-Constant Cnast-Horizonnast-Fairy Bloom Freesianast-Superfrog HDnast-Freedom Fallnast-DiRT 3nast-AirBuccaneersnast-Beatbuddy Tale of the Guardiansnast-Bloody Traplandnast-Street Racing Syndicatenast-Deus Ex Human Revolutionnast-Gunslugs 2nast-Nosferatu The Wrath of Malachinast-Teleglitch Die More Editionnast-Super Sanctum TDnast-The Lost Crownnast-Ring Runner Flight of the Sagesnast-Insurgencynast-Sparkle 2 Evonast-Bunch Of Heroesnast-Rome Total Warnast-Final Dusknast-STORM Frontline Nationnast-Borealisnast-Casternast-Slam Bolt Scrappersnast-The Swappernast-Super Motherloadnast-Bermudanast-DETOURnast-Mortal Kombat Komplete Editionnast-Knights and Merchantsnast-Draw a Stickman EPICnast-Tiny and Big Grandpa's Leftoversnast-Jet Gunnernast-RPG Maker VX Acenast-Day One Garry's Incidentnast-Kaironast-Platypusnast-Wargame AirLand Battlenast-To the Moonnast-Voltnast-Dungeons The Eye of Draconusnast-99 Levels To Hellnast-Enemy Mindnast-Camera Obscuranast-Waveformnast-Snuggle Trucknast-Yet Another Zombie Defensenast-Eleusisnast-Grimindnast-Defy Gravitynast-Dead Hordenast-I, Zombienast-Dreaming Sarahnast-Command and Conquer 3 Kane's Wrathnast-Out There Somewherenast-Mirror's Edgenast-Torchlightnast-Far Cry 3nast-Wargame European Escalationnast-Alien Breed 3 Descentnast-Total War Battles KINGDOMnast-Assassin's Creed IIInast-Hitman Sniper Challengenast-Just Cause 2nast-Death Rallynast-Tom Clancy's Ghost Recon Phantoms - EUnast-Max Payne 3nast-Operation Flashpoint Red Rivernast-Sanctumnast-DiRT 2nast-Europa Universalis Rome - Gold Editionnast-Elven Legacynast-Sunrider Mask of Arcadiusnast-Fractured Spacenast-Warhammer 40,000 Dawn of War  Winter Assaultnast-King Arthur II - The Role-playing Wargamenast-Crysis Warsnast-Crysis 2 Maximum Editionnast-Crysisnast-Company of Heroes (New Steam Version)nast-Blades of Timenast-Medieval II Total War Kingdomsnast-Grand Theft Auto IVnast-FlatOut Ultimate Carnagenast-Warhammer 40,000 Dawn of War  Dark Crusadenast-Hearts of Iron II Completenast-BioShock 2nast-Command and Conquer Red Alert 3nast-Crysis Warheadnast-The Kings' Crusadenast-Knights of Honornast-Company of Heroesnast-Titan Questnast-Command and Conquer Red Alert 3 - Uprisingnast-Vesselnast-Dungeon Siege IIInast-King Arthur Collectionnast-DiRT Showdownnast-Hocus Pocusnast-East India Companynast-DarkStar Onenast-Thunder Wolvesnast-Company of Heroes Tales of Valornast-Wacky Wheelsnast-Kung Furynast-Planets Under Attacknast-METAL SLUG DEFENSEnast-Sacred 2 Goldnast-The Witcher Enhanced Editionnast-Captain Morgane and the Golden Turtlenast-Worms Crazy Golfnast-TERAnast-Metro 2033nast-Rome Total War - Alexandernast-Lead and Gold - Gangs of the Wild Westnast-Majesty 2nast-Grand Theft Auto San Andreasnast-Grand Theft Auto Episodes from Liberty Citynast-1000 Ampsnast-Blood Bowl Legendary Editionnast-Warhammer 40,000 Dawn of War  Soulstormnast-3DMark API Overhead feature testnast-3DMark Cloud Gate benchmarknast-3DMark Fire Strike benchmarknast-3DMark Ice Storm benchmarknast-3DMark Sky Diver benchmarknast-8BitBoynast-8BitMMOnast-A.I.M.2 Clan Warsnast-AaaaaAAaaaAAAaaAAAAaAAAAA!!! for the Awesomenast-ACE - Arena Cyber Evolutionnast-Adventures of Shuggynast-Age of Empires II HD The Forgottennast-Air Conflicts Pacific Carriersnast-Alien Breed 2 Assaultnast-Alien Breed Impactnast-Alien Carnage / Halloween Harrynast-Alien Rage - Unlimitednast-Aliens Colonial Marinesnast-Aliens vs. Predatornast-Alpha Primenast-American Conquestnast-Amnesia The Dark Descentnast-And Yet It Movesnast-AquaNoxnast-AquaNox 2 Revelationnast-ArcaniAnast-Archebladenast-Arctic Adventurenast-Arma 2nast-Arma Cold War Assaultnast-Arma Gold Editionnast-Arms Dealernast-Arsenal of Democracynast-Avadon 2 The Corruptionnast-Avencastnast-Aveyond 3-2 Gates of Nightnast-Back to the Future Ep 1 - It's About Timenast-Back to the Future Ep 2 - Get Tannen!nast-Back to the Future Ep 3 - Citizen Brownnast-Back to the Future Ep 4 - Double Visionsnast-Back to the Future Ep 5 - OUTATIMEnast-Ballads of Reemus When the Bed Bitesnast-Balls of Steelnast-Batman Arkham Origins - Infinite Earths Skins Packnast-Batman Arkham Origins - Initiationnast-Batman Arkham Origins - New Millennium Skins Packnast-Batman Arkham Origins -  Online Supply Drop 1nast-Batman Arkham Origins - Online Supply Drop 2nast-Bio Menacenast-Bionic Commando Rearmednast-Bird Assassinnast-Black Mirrornast-Blake Stone Aliens of Goldnast-Blake Stone Planet Strikenast-Bloopnast-Blue Toad Murder Files - The Mysteries of Little Riddlenast-Borderlands 2 Headhunter 1 Bloody Harvestnast-Borderlands 2 Headhunter 2 Wattle Gobblernast-Borderlands 2 Headhunter 3 Mercenary Daynast-Borderlands 2 Headhunter 4 Wedding Day Massacrenast-Borderlands DLC Claptraps New Robot Revolutionnast-Borderlands DLC Mad Moxxi's Underdome Riotnast-Borderlands DLC The Secret Armory of General Knoxxnast-Borderlands DLC The Zombie Island of Dr. Nednast-Brawlhallanast-Breath of Death VII nast-Bumbledorenast-C-RUSHnast-Capsizednast-Car Mechanic Simulator 2014nast-Castlevania Lords of Shadow  Mirror of Fate HDnast-Cast of the Seven Godsends - Soundtracknast-Chainsnast-Chaos Domainnast-Clicker Heroesnast-Clive Barker's Jerichonast-Cogsnast-COH2 - The Western Front Armies Oberkommando Westnast-Coldfire Keepnast-Color Symphonynast-Command and Conquer 4 Tiberian Twilightnast-Commandos 2 Men of Couragenast-Commandos 3 Destination Berlinnast-Commandos Behind Enemy Linesnast-Commandos Beyond the Call of Dutynast-Company of Heroes Opposing Frontsnast-Confrontationnast-Construction Machines 2014nast-Corona MotorSportnast-Cosmo's Cosmic Adventurenast-Cossacks European Warsnast-Cossacks II Napoleonic Warsnast-Counter-Strike Condition Zeronast-Counter-Strike Nexon Zombiesnast-Crash Time IInast-Crayon Physics Deluxenast-Crazy Taxinast-CrossCodenast-Crystal Cavesnast-Cube & Star An Arbitrary Lovenast-Cubesisnast-Damnationnast-Dark Agesnast-Darkest Hour A Hearts of Iron Gamenast-Darkest Hour Europe '44-'45nast-Darwinianast-Day of Defeatnast-Dead Island Epidemicnast-Deadlight Original Soundtracknast-Dead Spacenast-Dear Esthernast-Deathmatch Classicnast-Death Rally (Classic)nast-DEFCONnast-Defenders of Ardanianast-Demigodnast-Demolition, Inc.nast-Depth Hunter 2 Ocean Mysteriesnast-Disciples III Reincarnationnast-Dismal Swamp DLCnast-Divinity II Developer's Cutnast-Dogs of War Online - Betanast-Dracula 2 The Last Sanctuarynast-Dracula 3 The Path of the Dragonnast-Dracula The Resurrectionnast-Dragon's Prophet (EU)nast-Dragon Age Originsnast-Drakensangnast-Dreaming Sarah OSTnast-Duke Nukemnast-Duke Nukem 2nast-Duke Nukem 3Dnast-Duke Nukem Manhattan Projectnast-Dungeon Siegenast-Dungeon Siege 2nast-Dwarfs!?nast-Earth 2150 The Moon Projectnast-East India Company Goldnast-English Country Tunenast-Etherlordsnast-Etherlords IInast-Europa Universalis Rome - Vae Victisnast-Europa Universalis III Divine Windnast-Europa Universalis III Heir to the Thronenast-F.E.A.R.nast-F.E.A.R. 2 Project Originnast-F.E.A.R. 3nast-F.E.A.R. Extraction Pointnast-F.E.A.R. Perseus Mandatenast-Fable - The Lost Chaptersnast-Far Crynast-Far Cry 2nast-Far Cry 2 Fortunes Packnast-Farm Machines Championships 2014nast-FEZnast-Fieldrunnersnast-Fieldrunners 2nast-Firefallnast-FlatOutnast-FlatOut 2nast-Flatout 3nast-FLYING TIGERS SHADOWS OVER CHINAnast-FreeStyle2 Street Basketballnast-Free to Playnast-Future Warsnast-FX Football 3D Matchnast-Galactic Civilizations I Ultimate Editionnast-Galactic Civilizations II Ultimate Editionnast-Galaxy on Fire 2 Full HDnast-Galcon Fusionnast-Game of Thrones nast-Garshasp The Monster Slayernast-Gettysburg Armored Warfarenast-Grand Theft Auto San Andreasnast-Grand Theft Auto Vice Citynast-Grand Theft Auto Vice Citynast-Grand Theft Auto IIInast-Grand Theft Auto IIInast-Gratuitous Tank Battlesnast-GRIDnast-GT Legendsnast-GT Power Expansionnast-GTR 2 - FIA GT Racing Gamenast-GTR Evolutionnast-Hacker Evolution Dualitynast-Half-Lifenast-Half-Life 2 Deathmatchnast-Half-Life 2 Episode Onenast-Half-Life 2 Episode Twonast-Half-Life 2 Lost Coastnast-Half-Life Blue Shiftnast-Half-Life Opposing Forcenast-Half-Life Sourcenast-Half-Life Deathmatch Sourcenast-Half Minute Hero Super Mega Neo Climax Ultimate Boynast-Hammerfightnast-HAWKENnast-Hazard Opsnast-Hector Ep 1nast-Hector Ep 2nast-Hector Ep 3nast-Helicopter Simulator 2014 Search and Rescuenast-Heroes of Annihilated Empiresnast-Huntsman - The Orphanage Halloween Editionnast-Hyper Fightersnast-I Am Vegendnast-iBomber Defense Pacificnast-Iesabelnast-Ignitenast-Impirenast-Infinity Wars - Animated Trading Card Gamenast-International Snookernast-Into The Warnast-Intrusion 2nast-Iron Grip Warlordnast-Isaac the Adventurernast-Jagged Alliance Goldnast-Jagged Alliance Online Raven Packnast-Jet Car Stuntsnast-Judge Dredd Dredd vs Deathnast-Just Causenast-Kane & Lynch 2 Dog Daysnast-Kane & Lynch Dead Mennast-Karateka nast-Karmaflow The Rock Opera Videogamenast-Killing Floor - Toy Masternast-Killing Floor Mod Defence Alliance 2nast-King Arthur's Goldnast-Kingdom Elementalnast-Kingdom Warsnast-KnightShiftnast-Koya Riftnast-Lara Croft and the Guardian of Lightnast-Left 4 Deadnast-Legends of Aethereusnast-Legions of Ashworldnast-Leviathan Warshipsnast-Limited Editionnast-Litil Divilnast-Little Infernonast-Lucidnast-Mafia IInast-Magicka Vietnamnast-Majesty Gold Editionnast-Majesty Gold HDnast-Major Strykernast-Mare Nostrumnast-Math Rescuenast-Max Paynenast-Max Payne 2 The Fall of Max Paynenast-Max Payne 3 Season Passnast-Mayhem Intergalacticnast-Medal of Honor(TM) Multiplayernast-Medal of Honor(TM) Single Playernast-Medal of Honor Pre-Ordernast-Men of Warnast-Might & Magic Duel of Championsnast-Miner Wars Arena nast-Monster Bashnast-Monstrum nast-Monuments of Marsnast-Motte Islandnast-Mount & Blade With Fire and Swordnast-Muffin Knightnast-Multiwinianast-Mutant Storm Reloadednast-Mystic Towersnast-Naval War Arctic Circlenast-Naval Warfarenast-NBA 2K13nast-NBA 2K14nast-NecroVisioN Lost Companynast-NiGHTS into Dreams...nast-Ninja Guynast-No More Room in Hellnast-Of Orcs And Mennast-Oil Rushnast-OlliOllinast-Omegalodonnast-Operation Flashpoint Dragon Risingnast-Osmosnast-Out of the Park Baseball 14nast-Overcast - Walden and the Werewolf - Soundtracknast-Overlordnast-Overlord IInast-Paganitzunast-Patrician IIInast-Patrician IV Rise of a Dynastynast-Patrician IV Steam Special Editionnast-Penny Arcade's On the Rain-Slick Precipice of Darkness 3nast-Pharaoh's Tombnast-Pid nast-Pilot Crusadernast-Pirates of Black Cove Goldnast-Pirates vs Corsairs Davy Jones's Goldnast-Pixel Hunternast-Poker Night 2nast-Poker Night at the Inventorynast-Portalnast-Port Royale 2nast-Praetoriansnast-Proteusnast-Protocolnast-Psychonauts Demonast-Puzzle Agentnast-Puzzle Agent 2nast-Quake Livenast-Qvadriganast-R.U.S.E.nast-RACE 07nast-RACE 07 - Formula RaceRoom Add-Onnast-RACE Caterham Expansionnast-Race The WTCC Gamenast-RACE Onnast-Ragnarok Online 2nast-Raptor Call of the Shadows (1994 Classic Edition)nast-Realms of Chaosnast-Realms of the Hauntingnast-Real Warfarenast-Receivernast-Red Factionnast-Red Faction Armageddonnast-Red Faction IInast-Red Orchestra 2 Heroes of Stalingrad - Single Playernast-Red Orchestra Ostfront 41-45nast-Rescue Everyday Heroesnast-Ricochetnast-RIPnast-RIP 2 Strike Backnast-RIP 3 The Last Heronast-Rise of the Triad Dark Warnast-Robocraftnast-Robowarsnast-Rochard - Hard Timesnast-Roogoonast-Rotieernast-Royal Questnast-RPG Maker Royal Tiles Resource Packnast-RPG Maker Tyler Warren First 50 Battler Packnast-Ruzh Delta Znast-S.T.A.L.K.E.R. Call of Pripyatnast-S.T.A.L.K.E.R. Shadow of Chernobylnast-Sacraboarnast-Sacred Goldnast-Saints Row 2nast-Sam & Max 301 The Penal Zonenast-Sam & Max 302 The Tomb of Sammun-Maknast-Sam & Max 303 They Stole Max's Brain!nast-Sam & Max 304 Beyond the Alley of the Dollsnast-Sam & Max 305 The City that Dares not Sleepnast-Scourge Outbreak - Blindsidenast-Scourge Outbreak Fan Packnast-Secret Agentnast-SEGA Bass Fishingnast-Serious Sam 2nast-Serious Sam The Random Encounternast-Serious Sam Classic The First Encounternast-Serious Sam Classic The Second Encounternast-Serious Sam Classics Revolutionnast-Serious Sam Double D XXLnast-Serious Sam HD The First Encounternast-Shadow Warrior (Classic)nast-Shatternast-Shattered Havennast-SHOGUN Total War - Gold Editionnast-Sid Meier's Civilization III Completenast-Sid Meier's Civilization IVnast-Sid Meier's Civilization IVnast-Sid Meier's Civilization IV Beyond the Swordnast-Sid Meier's Civilization IV Beyond the Swordnast-Sid Meier's Civilization IV Colonizationnast-Sid Meier's Civilization IV Colonizationnast-Sid Meier's Civilization IV Warlordsnast-Sid Meier's Civilization IV Warlordsnast-Sid Meier's Civilization V Brave New Worldnast-Sid Meier's Civilization V Scrambled Continents Map Packnast-Sid Meier's Railroads!nast-Siege of Turtle Enclavenast-Silence of the Sleepnast-Sine Moranast-Sins of a Dark Agenast-Sky Battlesnast-SkyDriftnast-Skyrim High Resolution Texture Packnast-Sniper Ghost Warriornast-Sniper Ghost Warrior 2nast-Sniper Ghost Warrior 2 Multiplayer Expansion Packnast-SOL Exodusnast-Sonic Adventure DXnast-Sonic Generationsnast-Space Channel 5 Part 2nast-Space Giraffenast-Space Hacknast-Space Station Alphanast-Spark Risingnast-SpellForce 2 - Demons of the Past - Soundtracknast-SpellForce 2 - Faith in Destinynast-SpellForce 2 Gold Editionnast-SpellForce Platinum Editionnast-Sportsfriendsnast-Stargunnernast-StarMadenast-Star Rulernast-Starseed Pilgrimnast-Startopianast-Star Wars - Battlefront IInast-Star Wars - Jedi Knight II Jedi Outcastnast-Star Wars Dark Forcesnast-Star Wars Knights of the Old Republicnast-Star Wars The Force Unleashed IInast-Star Wars The Force Unleashed Ultimate Sith Editionnast-Star Wars Jedi Knight Dark Forces IInast-Star Wars Jedi Knight Jedi Academynast-Star Wars Republic Commandonast-Star Wars Starfighternast-STAR WARS Knights of the Old Republic II The Sith Lordsnast-STCC The Gamenast-STCC IInast-Steam Bandits Outpostnast-Steel & Steam Episode 1nast-Storm over the Pacificnast-Subject 9nast-Summonernast-Super Hexagonnast-Supreme Commander 2 - Infinite War Battle Pack Onenast-Supreme Ruler Cold Warnast-Survivalistnast-Sword of the Stars Complete Collectionnast-Symphonynast-Take On Helicoptersnast-Team Fortress Classicnast-Terminal Velocitynast-Tesla Effectnast-Thank You The Gamenast-The Bard's Talenast-The Basement Collectionnast-The Book of Unwritten Talesnast-The Book of Unwritten Tales Extrasnast-The Bureau XCOM Declassified - Code Breakersnast-The Bureau XCOM Declassified - Light Plasma Pistolnast-The Bureau XCOM Hangar 6 R&Dnast-The Cameron Files The Secret at Loch Nessnast-The Chronicles of Narnia - Prince Caspiannast-The Elder Scrolls III Morrowindnast-The Elder Scrolls IV Oblivion nast-The Elder Scrolls V Skyrim - Dawnguardnast-The Elder Scrolls V Skyrim - Dragonbornnast-The Elder Scrolls V Skyrim - Hearthfirenast-The Great Art Racenast-The Great Jitters Pudding Panicnast-The Guild Gold Editionnast-The Guild IInast-The Guild II - Pirates of the European Seasnast-The Guild II Renaissancenast-The Incredible Adventures of Van Helsing Thaumaturgenast-The Mighty Quest For Epic Lootnast-The Retro Expansionnast-The Scourge Project Episode 1 and 2nast-The Ship Single Playernast-The Ship Tutorialnast-The Stanley Parablenast-The UnderGardennast-The WTCC 2010 Packnast-Thief Goldnast-Third Eye Crimenast-Thomas Was Alonenast-Tomb Raider (VI) The Angel of Darknessnast-Tomb Raider Anniversarynast-Tomb Raider Chroniclesnast-Tomb Raider Legendnast-Tomb Raider The Last Revelationnast-Tomb Raider Underworldnast-Tomb Raider Inast-Tomb Raider IInast-Tomb Raider III Adventures of Lara Croftnast-Tom Clancy's Ghost Reconnast-Tom Clancy's Ghost Recon Advanced Warfighter 2nast-Tom Clancy's Ghost Recon Desert Siegenast-Tom Clancy's Ghost Recon Island Thundernast-Tom Clancy's Ghost Recon Phantoms - EU Looks and Power (Assault)nast-Tom Clancy's Ghost Recon Phantoms - EU Looks and Power (Recon)nast-Tom Clancy's Ghost Recon Phantoms - EU Looks and Power (Support)nast-Tom Clancy's Ghost Recon Phantoms - EU Substance with Style pack (Assault)nast-Tom Clancy's Ghost Recon Phantoms - EU Substance with Style pack (Recon)nast-Tom Clancy's Ghost Recon Phantoms - EU Substance with Style pack (Support)nast-Tom Clancy's Ghost Recon Phantoms - EU Support Starter Packnast-Tom Clancy's Ghost Recon Phantoms - EU The Thrill of the Surprisenast-Tom Clancy's Ghost Recon Phantoms - EU WAR Madness pack (Assault)nast-Tom Clancy's Ghost Recon Phantoms - EU WAR Madness pack (Recon)nast-Tom Clancy's Ghost Recon Phantoms - EU WAR Madness pack (Support)nast-Total Pro Golf 3nast-Total War SHOGUN 2 - Fall of the Samurainast-Tropiconast-Tropico 2 Pirate Covenast-Tropico 3 - Steam Special Editionnast-Trovenast-UFO Afterlightnast-Uplinknast-Vanguard Princess Director's Cutnast-Vertiginous Golfnast-Victory Commandnast-Viscera Cleanup Detail Santa's Rampagenast-Viscera Cleanup Detail Shadow Warriornast-VVVVVVnast-Wallace & Gromit Ep 1 Fright of the Bumblebeesnast-Wallace & Gromit Ep 2 The Last Resortnast-Wallace & Gromit Ep 3 Muzzled!nast-Wallace & Gromit Ep 4 The Bogey Mannast-Warfacenast-Warhammer 40,000 Kill Teamnast-Warlock - Master of the Arcane Powerful Lordsnast-War on Folvosnast-War Thundernast-Weird Worlds Return to Infinite Spacenast-Witch's Pranks Frog's Fortune Collector's Editionnast-Woody Two-Legs Attack of the Zombie Piratesnast-Word Rescuenast-World Basketball Tycoonnast-World War 2 Time of Wrathnast-World War II Panzer Clawsnast-World War III Black Goldnast-Worms Armageddonnast-Worms Blastnast-Worms Pinballnast-Worms Ultimate Mayhemnast-WRC 4 FIA WORLD RALLY CHAMPIONSHIPnast-X-COM Apocalypsenast-X-COM Enforcernast-X-COM Interceptornast-X-COM Terror from the Deepnast-X-COM UFO Defensenast-XCOM Enemy Withinnast-Xenophagenast-Xpand Rally Xtremenast-Zen Bound 2nast-Zombie Driver HD Apocalypse Packnast-Zoo Parknast-]\n"
     ]
    }
   ],
   "source": [
    "steam_grouped = steam_df.loc[steam_df['behavior-name'] == 'purchase', ['user-id', 'game-title']]\n",
    "steam_grouped.loc[:, 'game-title'] = steam_grouped[['game-title']].apply(lambda x: x + \"nast-\", axis=0)\n",
    "steam_grouped = steam_grouped.groupby('user-id').sum()\n",
    "steam_grouped = steam_grouped.sort_values(by='game-title', ascending=False).reset_index()\n",
    "\n",
    "i = 0\n",
    "arr = list()\n",
    "for idx, row in steam_grouped.iterrows():\n",
    "    arr.append(len(str(row['game-title']).split(\"nast-\")) - 1)\n",
    "    i += 1\n",
    "\n",
    "ind = arr.index(max(arr))\n",
    "print(arr[ind])\n",
    "i = 0\n",
    "for idx, row in steam_grouped.iterrows():\n",
    "    if i == ind:\n",
    "        print(\"[{}, {}]\".format(row['user-id'], row['game-title']))\n",
    "    i += 1\n"
   ]
  },
  {
   "cell_type": "markdown",
   "metadata": {},
   "source": [
    "**Task 8.** How many hours on average people played in \"The Elder Scrolls V Skyrim\"?"
   ]
  },
  {
   "cell_type": "code",
   "execution_count": 98,
   "metadata": {},
   "outputs": [
    {
     "name": "stdout",
     "output_type": "stream",
     "text": [
      "104.71093057607091\n"
     ]
    },
    {
     "data": {
      "text/html": [
       "<table border=\"1\" class=\"dataframe\">\n",
       "  <thead>\n",
       "    <tr style=\"text-align: right;\">\n",
       "      <th></th>\n",
       "      <th>user-id</th>\n",
       "      <th>value</th>\n",
       "    </tr>\n",
       "  </thead>\n",
       "  <tbody>\n",
       "    <tr>\n",
       "      <th>0</th>\n",
       "      <td>58761868</td>\n",
       "      <td>1986.0</td>\n",
       "    </tr>\n",
       "    <tr>\n",
       "      <th>1</th>\n",
       "      <td>98624963</td>\n",
       "      <td>1336.0</td>\n",
       "    </tr>\n",
       "    <tr>\n",
       "      <th>2</th>\n",
       "      <td>92639430</td>\n",
       "      <td>1111.0</td>\n",
       "    </tr>\n",
       "    <tr>\n",
       "      <th>3</th>\n",
       "      <td>26762388</td>\n",
       "      <td>1090.0</td>\n",
       "    </tr>\n",
       "    <tr>\n",
       "      <th>4</th>\n",
       "      <td>96696864</td>\n",
       "      <td>1042.0</td>\n",
       "    </tr>\n",
       "    <tr>\n",
       "      <th>5</th>\n",
       "      <td>92612763</td>\n",
       "      <td>946.0</td>\n",
       "    </tr>\n",
       "    <tr>\n",
       "      <th>6</th>\n",
       "      <td>11161178</td>\n",
       "      <td>918.0</td>\n",
       "    </tr>\n",
       "    <tr>\n",
       "      <th>7</th>\n",
       "      <td>77127388</td>\n",
       "      <td>898.0</td>\n",
       "    </tr>\n",
       "    <tr>\n",
       "      <th>8</th>\n",
       "      <td>96400571</td>\n",
       "      <td>732.0</td>\n",
       "    </tr>\n",
       "    <tr>\n",
       "      <th>9</th>\n",
       "      <td>8776918</td>\n",
       "      <td>729.0</td>\n",
       "    </tr>\n",
       "  </tbody>\n",
       "</table>"
      ],
      "text/plain": [
       "<IPython.core.display.HTML object>"
      ]
     },
     "metadata": {},
     "output_type": "display_data"
    }
   ],
   "source": [
    "condition = (steam_df['game-title'] == 'The Elder Scrolls V Skyrim') & (steam_df['behavior-name'] == 'play')\n",
    "steam_grouped = steam_df.loc[condition, ['user-id', 'value']]\n",
    "steam_grouped = steam_grouped.groupby('user-id').sum()\n",
    "steam_grouped = steam_grouped.sort_values(by='value', ascending=False).reset_index()\n",
    "\n",
    "print(steam_grouped['value'].mean())\n",
    "\n",
    "display(HTML(steam_grouped.head(10).to_html()))"
   ]
  },
  {
   "cell_type": "markdown",
   "metadata": {},
   "source": [
    "**Task 9.** Which games were played the most (in terms of the number of hours played)? Print the first 10 titles and respective numbers of hours."
   ]
  },
  {
   "cell_type": "code",
   "execution_count": 44,
   "metadata": {},
   "outputs": [
    {
     "data": {
      "text/html": [
       "<table border=\"1\" class=\"dataframe\">\n",
       "  <thead>\n",
       "    <tr style=\"text-align: right;\">\n",
       "      <th></th>\n",
       "      <th>game-title</th>\n",
       "      <th>value</th>\n",
       "    </tr>\n",
       "  </thead>\n",
       "  <tbody>\n",
       "    <tr>\n",
       "      <th>0</th>\n",
       "      <td>Dota 2</td>\n",
       "      <td>981684.6</td>\n",
       "    </tr>\n",
       "    <tr>\n",
       "      <th>1</th>\n",
       "      <td>Counter-Strike Global Offensive</td>\n",
       "      <td>322771.6</td>\n",
       "    </tr>\n",
       "    <tr>\n",
       "      <th>2</th>\n",
       "      <td>Team Fortress 2</td>\n",
       "      <td>173673.3</td>\n",
       "    </tr>\n",
       "    <tr>\n",
       "      <th>3</th>\n",
       "      <td>Counter-Strike</td>\n",
       "      <td>134261.1</td>\n",
       "    </tr>\n",
       "    <tr>\n",
       "      <th>4</th>\n",
       "      <td>Sid Meier's Civilization V</td>\n",
       "      <td>99821.3</td>\n",
       "    </tr>\n",
       "    <tr>\n",
       "      <th>5</th>\n",
       "      <td>Counter-Strike Source</td>\n",
       "      <td>96075.5</td>\n",
       "    </tr>\n",
       "    <tr>\n",
       "      <th>6</th>\n",
       "      <td>The Elder Scrolls V Skyrim</td>\n",
       "      <td>70889.3</td>\n",
       "    </tr>\n",
       "    <tr>\n",
       "      <th>7</th>\n",
       "      <td>Garry's Mod</td>\n",
       "      <td>49725.3</td>\n",
       "    </tr>\n",
       "    <tr>\n",
       "      <th>8</th>\n",
       "      <td>Call of Duty Modern Warfare 2 - Multiplayer</td>\n",
       "      <td>42009.9</td>\n",
       "    </tr>\n",
       "    <tr>\n",
       "      <th>9</th>\n",
       "      <td>Left 4 Dead 2</td>\n",
       "      <td>33596.7</td>\n",
       "    </tr>\n",
       "  </tbody>\n",
       "</table>"
      ],
      "text/plain": [
       "<IPython.core.display.HTML object>"
      ]
     },
     "metadata": {},
     "output_type": "display_data"
    }
   ],
   "source": [
    "steam_grouped = steam_df.loc[steam_df['behavior-name'] == 'play', ['game-title', 'value']]\n",
    "steam_grouped = steam_grouped.groupby('game-title').sum()\n",
    "steam_grouped = steam_grouped.sort_values(by='value', ascending=False).reset_index()\n",
    "\n",
    "display(HTML(steam_grouped.head(10).to_html()))"
   ]
  },
  {
   "cell_type": "markdown",
   "metadata": {},
   "source": [
    "**Task 10.** Which games are the most consistently played (in terms of the average number of hours played)? Print the first 10 titles and respective numbers of hours."
   ]
  },
  {
   "cell_type": "code",
   "execution_count": 103,
   "metadata": {},
   "outputs": [
    {
     "ename": "KeyboardInterrupt",
     "evalue": "",
     "output_type": "error",
     "traceback": [
      "\u001b[0;31m---------------------------------------------------------------------------\u001b[0m",
      "\u001b[0;31mKeyboardInterrupt\u001b[0m                         Traceback (most recent call last)",
      "\u001b[0;32m<ipython-input-103-6a1c5b8f1398>\u001b[0m in \u001b[0;36m<module>\u001b[0;34m\u001b[0m\n\u001b[1;32m      5\u001b[0m \u001b[0;34m\u001b[0m\u001b[0m\n\u001b[1;32m      6\u001b[0m \u001b[0;32mfor\u001b[0m \u001b[0mtitle\u001b[0m \u001b[0;32min\u001b[0m \u001b[0mgames\u001b[0m\u001b[0;34m:\u001b[0m\u001b[0;34m\u001b[0m\u001b[0;34m\u001b[0m\u001b[0m\n\u001b[0;32m----> 7\u001b[0;31m     \u001b[0mcondition\u001b[0m \u001b[0;34m=\u001b[0m \u001b[0;34m(\u001b[0m\u001b[0msteam_df\u001b[0m\u001b[0;34m[\u001b[0m\u001b[0;34m'game-title'\u001b[0m\u001b[0;34m]\u001b[0m \u001b[0;34m==\u001b[0m \u001b[0mtitle\u001b[0m\u001b[0;34m[\u001b[0m\u001b[0;36m0\u001b[0m\u001b[0;34m]\u001b[0m\u001b[0;34m)\u001b[0m \u001b[0;34m&\u001b[0m \u001b[0;34m(\u001b[0m\u001b[0msteam_df\u001b[0m\u001b[0;34m[\u001b[0m\u001b[0;34m'behavior-name'\u001b[0m\u001b[0;34m]\u001b[0m \u001b[0;34m==\u001b[0m \u001b[0;34m'play'\u001b[0m\u001b[0;34m)\u001b[0m\u001b[0;34m\u001b[0m\u001b[0;34m\u001b[0m\u001b[0m\n\u001b[0m\u001b[1;32m      8\u001b[0m     \u001b[0msteam_grouped\u001b[0m \u001b[0;34m=\u001b[0m \u001b[0msteam_df\u001b[0m\u001b[0;34m.\u001b[0m\u001b[0mloc\u001b[0m\u001b[0;34m[\u001b[0m\u001b[0mcondition\u001b[0m\u001b[0;34m,\u001b[0m \u001b[0;34m[\u001b[0m\u001b[0;34m'user-id'\u001b[0m\u001b[0;34m,\u001b[0m \u001b[0;34m'value'\u001b[0m\u001b[0;34m]\u001b[0m\u001b[0;34m]\u001b[0m\u001b[0;34m\u001b[0m\u001b[0;34m\u001b[0m\u001b[0m\n\u001b[1;32m      9\u001b[0m     \u001b[0msteam_grouped\u001b[0m \u001b[0;34m=\u001b[0m \u001b[0msteam_grouped\u001b[0m\u001b[0;34m.\u001b[0m\u001b[0mgroupby\u001b[0m\u001b[0;34m(\u001b[0m\u001b[0;34m'user-id'\u001b[0m\u001b[0;34m)\u001b[0m\u001b[0;34m.\u001b[0m\u001b[0msum\u001b[0m\u001b[0;34m(\u001b[0m\u001b[0;34m)\u001b[0m\u001b[0;34m\u001b[0m\u001b[0;34m\u001b[0m\u001b[0m\n",
      "\u001b[0;32m~/anaconda3/lib/python3.8/site-packages/pandas/core/ops/common.py\u001b[0m in \u001b[0;36mnew_method\u001b[0;34m(self, other)\u001b[0m\n\u001b[1;32m     62\u001b[0m         \u001b[0mother\u001b[0m \u001b[0;34m=\u001b[0m \u001b[0mitem_from_zerodim\u001b[0m\u001b[0;34m(\u001b[0m\u001b[0mother\u001b[0m\u001b[0;34m)\u001b[0m\u001b[0;34m\u001b[0m\u001b[0;34m\u001b[0m\u001b[0m\n\u001b[1;32m     63\u001b[0m \u001b[0;34m\u001b[0m\u001b[0m\n\u001b[0;32m---> 64\u001b[0;31m         \u001b[0;32mreturn\u001b[0m \u001b[0mmethod\u001b[0m\u001b[0;34m(\u001b[0m\u001b[0mself\u001b[0m\u001b[0;34m,\u001b[0m \u001b[0mother\u001b[0m\u001b[0;34m)\u001b[0m\u001b[0;34m\u001b[0m\u001b[0;34m\u001b[0m\u001b[0m\n\u001b[0m\u001b[1;32m     65\u001b[0m \u001b[0;34m\u001b[0m\u001b[0m\n\u001b[1;32m     66\u001b[0m     \u001b[0;32mreturn\u001b[0m \u001b[0mnew_method\u001b[0m\u001b[0;34m\u001b[0m\u001b[0;34m\u001b[0m\u001b[0m\n",
      "\u001b[0;32m~/anaconda3/lib/python3.8/site-packages/pandas/core/ops/__init__.py\u001b[0m in \u001b[0;36mwrapper\u001b[0;34m(self, other)\u001b[0m\n\u001b[1;32m    527\u001b[0m         \u001b[0mrvalues\u001b[0m \u001b[0;34m=\u001b[0m \u001b[0mextract_array\u001b[0m\u001b[0;34m(\u001b[0m\u001b[0mother\u001b[0m\u001b[0;34m,\u001b[0m \u001b[0mextract_numpy\u001b[0m\u001b[0;34m=\u001b[0m\u001b[0;32mTrue\u001b[0m\u001b[0;34m)\u001b[0m\u001b[0;34m\u001b[0m\u001b[0;34m\u001b[0m\u001b[0m\n\u001b[1;32m    528\u001b[0m \u001b[0;34m\u001b[0m\u001b[0m\n\u001b[0;32m--> 529\u001b[0;31m         \u001b[0mres_values\u001b[0m \u001b[0;34m=\u001b[0m \u001b[0mcomparison_op\u001b[0m\u001b[0;34m(\u001b[0m\u001b[0mlvalues\u001b[0m\u001b[0;34m,\u001b[0m \u001b[0mrvalues\u001b[0m\u001b[0;34m,\u001b[0m \u001b[0mop\u001b[0m\u001b[0;34m)\u001b[0m\u001b[0;34m\u001b[0m\u001b[0;34m\u001b[0m\u001b[0m\n\u001b[0m\u001b[1;32m    530\u001b[0m \u001b[0;34m\u001b[0m\u001b[0m\n\u001b[1;32m    531\u001b[0m         \u001b[0;32mreturn\u001b[0m \u001b[0m_construct_result\u001b[0m\u001b[0;34m(\u001b[0m\u001b[0mself\u001b[0m\u001b[0;34m,\u001b[0m \u001b[0mres_values\u001b[0m\u001b[0;34m,\u001b[0m \u001b[0mindex\u001b[0m\u001b[0;34m=\u001b[0m\u001b[0mself\u001b[0m\u001b[0;34m.\u001b[0m\u001b[0mindex\u001b[0m\u001b[0;34m,\u001b[0m \u001b[0mname\u001b[0m\u001b[0;34m=\u001b[0m\u001b[0mres_name\u001b[0m\u001b[0;34m)\u001b[0m\u001b[0;34m\u001b[0m\u001b[0;34m\u001b[0m\u001b[0m\n",
      "\u001b[0;32m~/anaconda3/lib/python3.8/site-packages/pandas/core/ops/array_ops.py\u001b[0m in \u001b[0;36mcomparison_op\u001b[0;34m(left, right, op)\u001b[0m\n\u001b[1;32m    245\u001b[0m \u001b[0;34m\u001b[0m\u001b[0m\n\u001b[1;32m    246\u001b[0m     \u001b[0;32melif\u001b[0m \u001b[0mis_object_dtype\u001b[0m\u001b[0;34m(\u001b[0m\u001b[0mlvalues\u001b[0m\u001b[0;34m.\u001b[0m\u001b[0mdtype\u001b[0m\u001b[0;34m)\u001b[0m\u001b[0;34m:\u001b[0m\u001b[0;34m\u001b[0m\u001b[0;34m\u001b[0m\u001b[0m\n\u001b[0;32m--> 247\u001b[0;31m         \u001b[0mres_values\u001b[0m \u001b[0;34m=\u001b[0m \u001b[0mcomp_method_OBJECT_ARRAY\u001b[0m\u001b[0;34m(\u001b[0m\u001b[0mop\u001b[0m\u001b[0;34m,\u001b[0m \u001b[0mlvalues\u001b[0m\u001b[0;34m,\u001b[0m \u001b[0mrvalues\u001b[0m\u001b[0;34m)\u001b[0m\u001b[0;34m\u001b[0m\u001b[0;34m\u001b[0m\u001b[0m\n\u001b[0m\u001b[1;32m    248\u001b[0m \u001b[0;34m\u001b[0m\u001b[0m\n\u001b[1;32m    249\u001b[0m     \u001b[0;32melse\u001b[0m\u001b[0;34m:\u001b[0m\u001b[0;34m\u001b[0m\u001b[0;34m\u001b[0m\u001b[0m\n",
      "\u001b[0;32m~/anaconda3/lib/python3.8/site-packages/pandas/core/ops/array_ops.py\u001b[0m in \u001b[0;36mcomp_method_OBJECT_ARRAY\u001b[0;34m(op, x, y)\u001b[0m\n\u001b[1;32m     55\u001b[0m         \u001b[0mresult\u001b[0m \u001b[0;34m=\u001b[0m \u001b[0mlibops\u001b[0m\u001b[0;34m.\u001b[0m\u001b[0mvec_compare\u001b[0m\u001b[0;34m(\u001b[0m\u001b[0mx\u001b[0m\u001b[0;34m.\u001b[0m\u001b[0mravel\u001b[0m\u001b[0;34m(\u001b[0m\u001b[0;34m)\u001b[0m\u001b[0;34m,\u001b[0m \u001b[0my\u001b[0m\u001b[0;34m,\u001b[0m \u001b[0mop\u001b[0m\u001b[0;34m)\u001b[0m\u001b[0;34m\u001b[0m\u001b[0;34m\u001b[0m\u001b[0m\n\u001b[1;32m     56\u001b[0m     \u001b[0;32melse\u001b[0m\u001b[0;34m:\u001b[0m\u001b[0;34m\u001b[0m\u001b[0;34m\u001b[0m\u001b[0m\n\u001b[0;32m---> 57\u001b[0;31m         \u001b[0mresult\u001b[0m \u001b[0;34m=\u001b[0m \u001b[0mlibops\u001b[0m\u001b[0;34m.\u001b[0m\u001b[0mscalar_compare\u001b[0m\u001b[0;34m(\u001b[0m\u001b[0mx\u001b[0m\u001b[0;34m.\u001b[0m\u001b[0mravel\u001b[0m\u001b[0;34m(\u001b[0m\u001b[0;34m)\u001b[0m\u001b[0;34m,\u001b[0m \u001b[0my\u001b[0m\u001b[0;34m,\u001b[0m \u001b[0mop\u001b[0m\u001b[0;34m)\u001b[0m\u001b[0;34m\u001b[0m\u001b[0;34m\u001b[0m\u001b[0m\n\u001b[0m\u001b[1;32m     58\u001b[0m     \u001b[0;32mreturn\u001b[0m \u001b[0mresult\u001b[0m\u001b[0;34m.\u001b[0m\u001b[0mreshape\u001b[0m\u001b[0;34m(\u001b[0m\u001b[0mx\u001b[0m\u001b[0;34m.\u001b[0m\u001b[0mshape\u001b[0m\u001b[0;34m)\u001b[0m\u001b[0;34m\u001b[0m\u001b[0;34m\u001b[0m\u001b[0m\n\u001b[1;32m     59\u001b[0m \u001b[0;34m\u001b[0m\u001b[0m\n",
      "\u001b[0;31mKeyboardInterrupt\u001b[0m: "
     ]
    }
   ],
   "source": [
    "means = list()\n",
    "condition = (steam_df['behavior-name'] == 'play')\n",
    "steam_grouped = steam_df.loc[condition, ['game-title']]\n",
    "games = np.array(steam_grouped)\n",
    "\n",
    "for title in games:\n",
    "    condition = (steam_df['game-title'] == title[0]) & (steam_df['behavior-name'] == 'play')\n",
    "    steam_grouped = steam_df.loc[condition, ['user-id', 'value']]\n",
    "    steam_grouped = steam_grouped.groupby('user-id').sum()\n",
    "    steam_grouped = steam_grouped.sort_values(by='value', ascending=False).reset_index()\n",
    "    means.append((title, steam_grouped['value'].mean()))\n",
    "\n",
    "means.sort(key= lambda x:x[1])\n",
    "print(means)\n",
    "#display(HTML(steam_grouped.head(10).to_html()))"
   ]
  },
  {
   "cell_type": "markdown",
   "metadata": {},
   "source": [
    "**Task 11\\*\\*.** Fix the above for the fact that 0 hours played is not listed, but only a purchase is recorded in such a case."
   ]
  },
  {
   "cell_type": "code",
   "execution_count": null,
   "metadata": {},
   "outputs": [],
   "source": [
    "# Write your code here"
   ]
  },
  {
   "cell_type": "markdown",
   "metadata": {},
   "source": [
    "**Task 12.** Apply the sigmoid function\n",
    "$$f(x) = \\frac{1}{1 + e^{-\\frac{1}{100}x}}$$\n",
    "to hours played and print the first 10 rows from the entire Steam dataset after this change."
   ]
  },
  {
   "cell_type": "code",
   "execution_count": 111,
   "metadata": {},
   "outputs": [
    {
     "data": {
      "text/html": [
       "<table border=\"1\" class=\"dataframe\">\n",
       "  <thead>\n",
       "    <tr style=\"text-align: right;\">\n",
       "      <th></th>\n",
       "      <th>user-id</th>\n",
       "      <th>game-title</th>\n",
       "      <th>value</th>\n",
       "    </tr>\n",
       "  </thead>\n",
       "  <tbody>\n",
       "    <tr>\n",
       "      <th>1</th>\n",
       "      <td>151603712</td>\n",
       "      <td>The Elder Scrolls V Skyrim</td>\n",
       "      <td>0.938774</td>\n",
       "    </tr>\n",
       "    <tr>\n",
       "      <th>3</th>\n",
       "      <td>151603712</td>\n",
       "      <td>Fallout 4</td>\n",
       "      <td>0.704746</td>\n",
       "    </tr>\n",
       "    <tr>\n",
       "      <th>5</th>\n",
       "      <td>151603712</td>\n",
       "      <td>Spore</td>\n",
       "      <td>0.537181</td>\n",
       "    </tr>\n",
       "    <tr>\n",
       "      <th>7</th>\n",
       "      <td>151603712</td>\n",
       "      <td>Fallout New Vegas</td>\n",
       "      <td>0.530213</td>\n",
       "    </tr>\n",
       "    <tr>\n",
       "      <th>9</th>\n",
       "      <td>151603712</td>\n",
       "      <td>Left 4 Dead 2</td>\n",
       "      <td>0.522235</td>\n",
       "    </tr>\n",
       "    <tr>\n",
       "      <th>11</th>\n",
       "      <td>151603712</td>\n",
       "      <td>HuniePop</td>\n",
       "      <td>0.521237</td>\n",
       "    </tr>\n",
       "    <tr>\n",
       "      <th>13</th>\n",
       "      <td>151603712</td>\n",
       "      <td>Path of Exile</td>\n",
       "      <td>0.520239</td>\n",
       "    </tr>\n",
       "    <tr>\n",
       "      <th>15</th>\n",
       "      <td>151603712</td>\n",
       "      <td>Poly Bridge</td>\n",
       "      <td>0.518741</td>\n",
       "    </tr>\n",
       "    <tr>\n",
       "      <th>17</th>\n",
       "      <td>151603712</td>\n",
       "      <td>Left 4 Dead</td>\n",
       "      <td>0.508249</td>\n",
       "    </tr>\n",
       "    <tr>\n",
       "      <th>19</th>\n",
       "      <td>151603712</td>\n",
       "      <td>Team Fortress 2</td>\n",
       "      <td>0.507000</td>\n",
       "    </tr>\n",
       "  </tbody>\n",
       "</table>"
      ],
      "text/plain": [
       "<IPython.core.display.HTML object>"
      ]
     },
     "metadata": {},
     "output_type": "display_data"
    }
   ],
   "source": [
    "steam_df_copy = steam_df.loc[steam_df['behavior-name'] == 'play', ['user-id','game-title', 'value']]\n",
    "steam_df_copy.loc[:, 'value'] = steam_df_copy[['value']].apply(lambda x: 1/(1 + np.exp(-x/100)), axis=0)\n",
    "display(HTML(steam_df_copy.head(10).to_html()))"
   ]
  },
  {
   "cell_type": "markdown",
   "metadata": {},
   "source": [
    "## Pandas tasks - MovieLens dataset"
   ]
  },
  {
   "cell_type": "markdown",
   "metadata": {},
   "source": [
    "**Task 13\\*.** Calculate popularity (by the number of users who watched a movie) of all genres."
   ]
  },
  {
   "cell_type": "code",
   "execution_count": 119,
   "metadata": {},
   "outputs": [
    {
     "data": {
      "text/html": [
       "<div>\n",
       "<style scoped>\n",
       "    .dataframe tbody tr th:only-of-type {\n",
       "        vertical-align: middle;\n",
       "    }\n",
       "\n",
       "    .dataframe tbody tr th {\n",
       "        vertical-align: top;\n",
       "    }\n",
       "\n",
       "    .dataframe thead th {\n",
       "        text-align: right;\n",
       "    }\n",
       "</style>\n",
       "<table border=\"1\" class=\"dataframe\">\n",
       "  <thead>\n",
       "    <tr style=\"text-align: right;\">\n",
       "      <th></th>\n",
       "      <th>genres</th>\n",
       "      <th>userId</th>\n",
       "      <th>movieId</th>\n",
       "      <th>rating</th>\n",
       "      <th>timestamp</th>\n",
       "      <th>title</th>\n",
       "    </tr>\n",
       "  </thead>\n",
       "  <tbody>\n",
       "    <tr>\n",
       "      <th>0</th>\n",
       "      <td>Comedy</td>\n",
       "      <td>7196</td>\n",
       "      <td>7196</td>\n",
       "      <td>7196</td>\n",
       "      <td>7196</td>\n",
       "      <td>7196</td>\n",
       "    </tr>\n",
       "    <tr>\n",
       "      <th>1</th>\n",
       "      <td>Drama</td>\n",
       "      <td>6291</td>\n",
       "      <td>6291</td>\n",
       "      <td>6291</td>\n",
       "      <td>6291</td>\n",
       "      <td>6291</td>\n",
       "    </tr>\n",
       "    <tr>\n",
       "      <th>2</th>\n",
       "      <td>Comedy|Romance</td>\n",
       "      <td>3967</td>\n",
       "      <td>3967</td>\n",
       "      <td>3967</td>\n",
       "      <td>3967</td>\n",
       "      <td>3967</td>\n",
       "    </tr>\n",
       "    <tr>\n",
       "      <th>3</th>\n",
       "      <td>Comedy|Drama|Romance</td>\n",
       "      <td>3000</td>\n",
       "      <td>3000</td>\n",
       "      <td>3000</td>\n",
       "      <td>3000</td>\n",
       "      <td>3000</td>\n",
       "    </tr>\n",
       "    <tr>\n",
       "      <th>4</th>\n",
       "      <td>Comedy|Drama</td>\n",
       "      <td>2851</td>\n",
       "      <td>2851</td>\n",
       "      <td>2851</td>\n",
       "      <td>2851</td>\n",
       "      <td>2851</td>\n",
       "    </tr>\n",
       "    <tr>\n",
       "      <th>5</th>\n",
       "      <td>Drama|Romance</td>\n",
       "      <td>2838</td>\n",
       "      <td>2838</td>\n",
       "      <td>2838</td>\n",
       "      <td>2838</td>\n",
       "      <td>2838</td>\n",
       "    </tr>\n",
       "    <tr>\n",
       "      <th>6</th>\n",
       "      <td>Action|Adventure|Sci-Fi</td>\n",
       "      <td>2361</td>\n",
       "      <td>2361</td>\n",
       "      <td>2361</td>\n",
       "      <td>2361</td>\n",
       "      <td>2361</td>\n",
       "    </tr>\n",
       "    <tr>\n",
       "      <th>7</th>\n",
       "      <td>Crime|Drama</td>\n",
       "      <td>2315</td>\n",
       "      <td>2315</td>\n",
       "      <td>2315</td>\n",
       "      <td>2315</td>\n",
       "      <td>2315</td>\n",
       "    </tr>\n",
       "    <tr>\n",
       "      <th>8</th>\n",
       "      <td>Action|Crime|Thriller</td>\n",
       "      <td>1554</td>\n",
       "      <td>1554</td>\n",
       "      <td>1554</td>\n",
       "      <td>1554</td>\n",
       "      <td>1554</td>\n",
       "    </tr>\n",
       "    <tr>\n",
       "      <th>9</th>\n",
       "      <td>Action|Adventure|Thriller</td>\n",
       "      <td>1455</td>\n",
       "      <td>1455</td>\n",
       "      <td>1455</td>\n",
       "      <td>1455</td>\n",
       "      <td>1455</td>\n",
       "    </tr>\n",
       "  </tbody>\n",
       "</table>\n",
       "</div>"
      ],
      "text/plain": [
       "                      genres  userId  movieId  rating  timestamp  title\n",
       "0                     Comedy    7196     7196    7196       7196   7196\n",
       "1                      Drama    6291     6291    6291       6291   6291\n",
       "2             Comedy|Romance    3967     3967    3967       3967   3967\n",
       "3       Comedy|Drama|Romance    3000     3000    3000       3000   3000\n",
       "4               Comedy|Drama    2851     2851    2851       2851   2851\n",
       "5              Drama|Romance    2838     2838    2838       2838   2838\n",
       "6    Action|Adventure|Sci-Fi    2361     2361    2361       2361   2361\n",
       "7                Crime|Drama    2315     2315    2315       2315   2315\n",
       "8      Action|Crime|Thriller    1554     1554    1554       1554   1554\n",
       "9  Action|Adventure|Thriller    1455     1455    1455       1455   1455"
      ]
     },
     "execution_count": 119,
     "metadata": {},
     "output_type": "execute_result"
    }
   ],
   "source": [
    "ml_df = pd.merge(ml_ratings_df, ml_movies_df, on='movieId')\n",
    "ml_df.tail(10)\n",
    "ml = ml_df.groupby('genres').count()\n",
    "ml = ml.sort_values(by='userId', ascending=False).reset_index()\n",
    "ml.head(10)"
   ]
  },
  {
   "cell_type": "markdown",
   "metadata": {},
   "source": [
    "**Task 14\\*.** Calculate average rating for all genres."
   ]
  },
  {
   "cell_type": "code",
   "execution_count": 41,
   "metadata": {},
   "outputs": [
    {
     "data": {
      "text/plain": [
       "genres\n",
       "Fantasy|Mystery|Western                                   5.000000\n",
       "Animation|Children|Mystery                                5.000000\n",
       "Comedy|Horror|Mystery                                     5.000000\n",
       "Animation|Drama|Fantasy|Mystery                           5.000000\n",
       "Drama|Horror|Romance                                      5.000000\n",
       "Comedy|Drama|Fantasy|Mystery|Romance                      5.000000\n",
       "Action|Horror|Mystery|Sci-Fi                              5.000000\n",
       "Adventure|Comedy|Fantasy|Musical                          5.000000\n",
       "Animation|Drama|Sci-Fi|IMAX                               5.000000\n",
       "Action|Crime|Drama|Sci-Fi                                 5.000000\n",
       "Drama|Fantasy|Musical|Mystery|Sci-Fi                      5.000000\n",
       "Comedy|Crime|Drama|Horror                                 5.000000\n",
       "Action|Comedy|Drama|Romance                               5.000000\n",
       "Animation|Crime|Drama                                     5.000000\n",
       "Comedy|Crime|Fantasy                                      5.000000\n",
       "Adventure|Drama|Fantasy|Horror|Sci-Fi                     5.000000\n",
       "Adventure|Romance|Sci-Fi                                  5.000000\n",
       "Animation|Romance                                         4.750000\n",
       "Children|Drama|Romance                                    4.750000\n",
       "Adventure|Comedy|Fantasy|Romance|IMAX                     4.750000\n",
       "Comedy|Crime|Drama|Horror|Mystery                         4.750000\n",
       "Animation|Comedy|Drama|Fantasy                            4.625000\n",
       "Action|Adventure|Animation|Crime|Fantasy                  4.625000\n",
       "Drama|Horror|War                                          4.500000\n",
       "Action|Adventure|Comedy|Drama|Romance|Thriller            4.500000\n",
       "Action|Adventure|Drama|Fantasy|Romance|Sci-Fi|Thriller    4.500000\n",
       "Animation|Drama|Romance|Sci-Fi                            4.500000\n",
       "Horror|Romance|Sci-Fi                                     4.500000\n",
       "Action|Adventure|Comedy|Drama|Fantasy|Thriller            4.500000\n",
       "Musical|Romance|Western                                   4.500000\n",
       "Action|Comedy|Crime|Fantasy|Thriller                      4.500000\n",
       "Drama|Fantasy|Thriller|War                                4.500000\n",
       "Horror|Thriller|IMAX                                      4.500000\n",
       "Action|Adventure|Comedy|Fantasy|Sci-Fi|Thriller           4.500000\n",
       "Crime|Documentary|War                                     4.500000\n",
       "Adventure|Animation|Children|Comedy|Drama|Romance         4.500000\n",
       "Comedy|Documentary|Romance                                4.500000\n",
       "Adventure|Comedy|Horror|Romance                           4.500000\n",
       "Adventure|Documentary|Western                             4.500000\n",
       "Drama|Mystery|War                                         4.400000\n",
       "Animation|Comedy|Romance                                  4.375000\n",
       "Action|Animation|Fantasy                                  4.333333\n",
       "Comedy|Fantasy|Horror|Musical|Thriller                    4.333333\n",
       "Comedy|Crime|Drama|Mystery                                4.333333\n",
       "Action|Animation|Drama|Fantasy|Sci-Fi                     4.300000\n",
       "Animation|Comedy|Fantasy|Sci-Fi                           4.277778\n",
       "Crime|Thriller|War                                        4.250000\n",
       "Comedy|Crime|Horror|Thriller                              4.250000\n",
       "Adventure|Animation|Comedy|Fantasy|Romance|Sci-Fi         4.250000\n",
       "Action|Fantasy|Horror|Romance                             4.250000\n",
       "Name: rating, dtype: float64"
      ]
     },
     "execution_count": 41,
     "metadata": {},
     "output_type": "execute_result"
    }
   ],
   "source": [
    "ml_df = pd.merge(ml_ratings_df, ml_movies_df, on='movieId')\n",
    "#ml_df = ml_df[ml_df['genres'] == 'Animation']\n",
    "ml = ml_df.groupby('genres')\n",
    "ml = ml['rating'].mean().sort_values(ascending = False)\n",
    "ml.head(50)"
   ]
  },
  {
   "cell_type": "markdown",
   "metadata": {},
   "source": [
    "**Task 15.** Calculate each movie rating bias (deviation from the mean of all movies average ratings). Print first 10 in the form: title, average rating, bias."
   ]
  },
  {
   "cell_type": "code",
   "execution_count": 19,
   "metadata": {},
   "outputs": [
    {
     "name": "stdout",
     "output_type": "stream",
     "text": [
      "0.919629269368687\n"
     ]
    }
   ],
   "source": [
    "ml_df = pd.merge(ml_ratings_df, ml_movies_df, on='movieId')\n",
    "#ml_df = ml_df[ml_df['title'] == 'Shrek (2001)']\n",
    "ml = ml_df.groupby('genres')\n",
    "ml = ml['rating'].mean().sort_values(ascending = False)\n",
    "\n",
    "mb = pd.merge(ml, ml_df, on='genres')\n",
    "mb = mb.rename(columns = {'rating_x': 'avg_rating', 'rating_y': 'rating'})\n",
    "#mb.loc[:, 'bias'] = mb[['avg_rating','rating']].apply(lambda x: np.std([x[0],x[1]]), axis=1)\n",
    "#mb = mb.groupby('title')\n",
    "\n",
    "mb = mb.loc[mb['title'] == 'Shrek (2001)', ['title', 'avg_rating', 'rating']]\n",
    "mb = mb['rating']\n",
    "res = np.std(mb)\n",
    "print(res)"
   ]
  },
  {
   "cell_type": "markdown",
   "metadata": {},
   "source": [
    "**Task 16.** Calculate each movie rating bias (deviation from the mean of all users average ratings). Print first 10 in the form: user_id, average rating, bias."
   ]
  },
  {
   "cell_type": "code",
   "execution_count": 161,
   "metadata": {},
   "outputs": [
    {
     "data": {
      "text/html": [
       "<div>\n",
       "<style scoped>\n",
       "    .dataframe tbody tr th:only-of-type {\n",
       "        vertical-align: middle;\n",
       "    }\n",
       "\n",
       "    .dataframe tbody tr th {\n",
       "        vertical-align: top;\n",
       "    }\n",
       "\n",
       "    .dataframe thead th {\n",
       "        text-align: right;\n",
       "    }\n",
       "</style>\n",
       "<table border=\"1\" class=\"dataframe\">\n",
       "  <thead>\n",
       "    <tr style=\"text-align: right;\">\n",
       "      <th></th>\n",
       "      <th>genres</th>\n",
       "      <th>avg_rating</th>\n",
       "      <th>userId</th>\n",
       "      <th>movieId</th>\n",
       "      <th>rating</th>\n",
       "      <th>timestamp</th>\n",
       "      <th>title</th>\n",
       "      <th>bias</th>\n",
       "    </tr>\n",
       "  </thead>\n",
       "  <tbody>\n",
       "    <tr>\n",
       "      <th>0</th>\n",
       "      <td>Fantasy|Mystery|Western</td>\n",
       "      <td>5.0</td>\n",
       "      <td>377</td>\n",
       "      <td>42556</td>\n",
       "      <td>5.0</td>\n",
       "      <td>1340342545</td>\n",
       "      <td>7 Faces of Dr. Lao (1964)</td>\n",
       "      <td>0.0</td>\n",
       "    </tr>\n",
       "    <tr>\n",
       "      <th>1</th>\n",
       "      <td>Animation|Children|Mystery</td>\n",
       "      <td>5.0</td>\n",
       "      <td>89</td>\n",
       "      <td>118894</td>\n",
       "      <td>5.0</td>\n",
       "      <td>1520409061</td>\n",
       "      <td>Scooby-Doo! Abracadabra-Doo (2010)</td>\n",
       "      <td>0.0</td>\n",
       "    </tr>\n",
       "    <tr>\n",
       "      <th>2</th>\n",
       "      <td>Comedy|Horror|Mystery</td>\n",
       "      <td>5.0</td>\n",
       "      <td>89</td>\n",
       "      <td>142444</td>\n",
       "      <td>5.0</td>\n",
       "      <td>1520409484</td>\n",
       "      <td>The Editor (2015)</td>\n",
       "      <td>0.0</td>\n",
       "    </tr>\n",
       "    <tr>\n",
       "      <th>3</th>\n",
       "      <td>Animation|Drama|Fantasy|Mystery</td>\n",
       "      <td>5.0</td>\n",
       "      <td>371</td>\n",
       "      <td>112512</td>\n",
       "      <td>5.0</td>\n",
       "      <td>1407692450</td>\n",
       "      <td>Colourful (Karafuru) (2010)</td>\n",
       "      <td>0.0</td>\n",
       "    </tr>\n",
       "    <tr>\n",
       "      <th>4</th>\n",
       "      <td>Drama|Horror|Romance</td>\n",
       "      <td>5.0</td>\n",
       "      <td>610</td>\n",
       "      <td>107771</td>\n",
       "      <td>5.0</td>\n",
       "      <td>1479544448</td>\n",
       "      <td>Only Lovers Left Alive (2013)</td>\n",
       "      <td>0.0</td>\n",
       "    </tr>\n",
       "    <tr>\n",
       "      <th>5</th>\n",
       "      <td>Comedy|Drama|Fantasy|Mystery|Romance</td>\n",
       "      <td>5.0</td>\n",
       "      <td>105</td>\n",
       "      <td>120138</td>\n",
       "      <td>5.0</td>\n",
       "      <td>1526207544</td>\n",
       "      <td>PK (2014)</td>\n",
       "      <td>0.0</td>\n",
       "    </tr>\n",
       "    <tr>\n",
       "      <th>6</th>\n",
       "      <td>Action|Horror|Mystery|Sci-Fi</td>\n",
       "      <td>5.0</td>\n",
       "      <td>3</td>\n",
       "      <td>5746</td>\n",
       "      <td>5.0</td>\n",
       "      <td>1306463708</td>\n",
       "      <td>Galaxy of Terror (Quest) (1981)</td>\n",
       "      <td>0.0</td>\n",
       "    </tr>\n",
       "    <tr>\n",
       "      <th>7</th>\n",
       "      <td>Adventure|Comedy|Fantasy|Musical</td>\n",
       "      <td>5.0</td>\n",
       "      <td>357</td>\n",
       "      <td>8580</td>\n",
       "      <td>5.0</td>\n",
       "      <td>1348610734</td>\n",
       "      <td>Into the Woods (1991)</td>\n",
       "      <td>0.0</td>\n",
       "    </tr>\n",
       "    <tr>\n",
       "      <th>8</th>\n",
       "      <td>Animation|Drama|Sci-Fi|IMAX</td>\n",
       "      <td>5.0</td>\n",
       "      <td>477</td>\n",
       "      <td>4454</td>\n",
       "      <td>5.0</td>\n",
       "      <td>1245030211</td>\n",
       "      <td>More (1998)</td>\n",
       "      <td>0.0</td>\n",
       "    </tr>\n",
       "    <tr>\n",
       "      <th>9</th>\n",
       "      <td>Action|Crime|Drama|Sci-Fi</td>\n",
       "      <td>5.0</td>\n",
       "      <td>610</td>\n",
       "      <td>138632</td>\n",
       "      <td>5.0</td>\n",
       "      <td>1479545420</td>\n",
       "      <td>Tokyo Tribe (2014)</td>\n",
       "      <td>0.0</td>\n",
       "    </tr>\n",
       "  </tbody>\n",
       "</table>\n",
       "</div>"
      ],
      "text/plain": [
       "                                 genres  avg_rating  userId  movieId  rating  \\\n",
       "0               Fantasy|Mystery|Western         5.0     377    42556     5.0   \n",
       "1            Animation|Children|Mystery         5.0      89   118894     5.0   \n",
       "2                 Comedy|Horror|Mystery         5.0      89   142444     5.0   \n",
       "3       Animation|Drama|Fantasy|Mystery         5.0     371   112512     5.0   \n",
       "4                  Drama|Horror|Romance         5.0     610   107771     5.0   \n",
       "5  Comedy|Drama|Fantasy|Mystery|Romance         5.0     105   120138     5.0   \n",
       "6          Action|Horror|Mystery|Sci-Fi         5.0       3     5746     5.0   \n",
       "7      Adventure|Comedy|Fantasy|Musical         5.0     357     8580     5.0   \n",
       "8           Animation|Drama|Sci-Fi|IMAX         5.0     477     4454     5.0   \n",
       "9             Action|Crime|Drama|Sci-Fi         5.0     610   138632     5.0   \n",
       "\n",
       "    timestamp                               title  bias  \n",
       "0  1340342545           7 Faces of Dr. Lao (1964)   0.0  \n",
       "1  1520409061  Scooby-Doo! Abracadabra-Doo (2010)   0.0  \n",
       "2  1520409484                   The Editor (2015)   0.0  \n",
       "3  1407692450         Colourful (Karafuru) (2010)   0.0  \n",
       "4  1479544448       Only Lovers Left Alive (2013)   0.0  \n",
       "5  1526207544                           PK (2014)   0.0  \n",
       "6  1306463708     Galaxy of Terror (Quest) (1981)   0.0  \n",
       "7  1348610734               Into the Woods (1991)   0.0  \n",
       "8  1245030211                         More (1998)   0.0  \n",
       "9  1479545420                  Tokyo Tribe (2014)   0.0  "
      ]
     },
     "execution_count": 161,
     "metadata": {},
     "output_type": "execute_result"
    }
   ],
   "source": [
    "ml_df = pd.merge(ml_ratings_df, ml_movies_df, on='movieId')\n",
    "#ml_df = ml_df[ml_df['genres'] == 'Animation']\n",
    "ml = ml_df.groupby('genres')\n",
    "ml = ml['rating'].mean().sort_values(ascending = False)\n",
    "\n",
    "mb = pd.merge(ml, ml_df, on='genres')\n",
    "mb = mb.rename(columns = {'rating_x': 'avg_rating', 'rating_y': 'rating'})\n",
    "mb.loc[:, 'bias'] = mb[['avg_rating','rating']].apply(lambda x: np.std([x[0],x[1]]), axis=1)\n",
    "mb.head(10)"
   ]
  },
  {
   "cell_type": "markdown",
   "metadata": {},
   "source": [
    "**Task 17.** Randomly choose 10 movies and 10 users and print their interaction matrix in the form of a DataFrame with user_id as index and movie titles as columns (use HTML Display for that). You can iterate over the DataFrame in this task."
   ]
  },
  {
   "cell_type": "code",
   "execution_count": 169,
   "metadata": {},
   "outputs": [
    {
     "data": {
      "text/html": [
       "<table border=\"1\" class=\"dataframe\">\n",
       "  <thead>\n",
       "    <tr style=\"text-align: right;\">\n",
       "      <th></th>\n",
       "      <th>userId</th>\n",
       "      <th>movieId</th>\n",
       "      <th>rating</th>\n",
       "      <th>timestamp</th>\n",
       "      <th>title</th>\n",
       "      <th>genres</th>\n",
       "    </tr>\n",
       "  </thead>\n",
       "  <tbody>\n",
       "    <tr>\n",
       "      <th>0</th>\n",
       "      <td>1</td>\n",
       "      <td>1</td>\n",
       "      <td>4.0</td>\n",
       "      <td>964982703</td>\n",
       "      <td>Toy Story (1995)</td>\n",
       "      <td>Adventure|Animation|Children|Comedy|Fantasy</td>\n",
       "    </tr>\n",
       "    <tr>\n",
       "      <th>1</th>\n",
       "      <td>5</td>\n",
       "      <td>1</td>\n",
       "      <td>4.0</td>\n",
       "      <td>847434962</td>\n",
       "      <td>Toy Story (1995)</td>\n",
       "      <td>Adventure|Animation|Children|Comedy|Fantasy</td>\n",
       "    </tr>\n",
       "    <tr>\n",
       "      <th>2</th>\n",
       "      <td>7</td>\n",
       "      <td>1</td>\n",
       "      <td>4.5</td>\n",
       "      <td>1106635946</td>\n",
       "      <td>Toy Story (1995)</td>\n",
       "      <td>Adventure|Animation|Children|Comedy|Fantasy</td>\n",
       "    </tr>\n",
       "    <tr>\n",
       "      <th>3</th>\n",
       "      <td>15</td>\n",
       "      <td>1</td>\n",
       "      <td>2.5</td>\n",
       "      <td>1510577970</td>\n",
       "      <td>Toy Story (1995)</td>\n",
       "      <td>Adventure|Animation|Children|Comedy|Fantasy</td>\n",
       "    </tr>\n",
       "    <tr>\n",
       "      <th>4</th>\n",
       "      <td>17</td>\n",
       "      <td>1</td>\n",
       "      <td>4.5</td>\n",
       "      <td>1305696483</td>\n",
       "      <td>Toy Story (1995)</td>\n",
       "      <td>Adventure|Animation|Children|Comedy|Fantasy</td>\n",
       "    </tr>\n",
       "    <tr>\n",
       "      <th>5</th>\n",
       "      <td>18</td>\n",
       "      <td>1</td>\n",
       "      <td>3.5</td>\n",
       "      <td>1455209816</td>\n",
       "      <td>Toy Story (1995)</td>\n",
       "      <td>Adventure|Animation|Children|Comedy|Fantasy</td>\n",
       "    </tr>\n",
       "    <tr>\n",
       "      <th>6</th>\n",
       "      <td>19</td>\n",
       "      <td>1</td>\n",
       "      <td>4.0</td>\n",
       "      <td>965705637</td>\n",
       "      <td>Toy Story (1995)</td>\n",
       "      <td>Adventure|Animation|Children|Comedy|Fantasy</td>\n",
       "    </tr>\n",
       "    <tr>\n",
       "      <th>7</th>\n",
       "      <td>21</td>\n",
       "      <td>1</td>\n",
       "      <td>3.5</td>\n",
       "      <td>1407618878</td>\n",
       "      <td>Toy Story (1995)</td>\n",
       "      <td>Adventure|Animation|Children|Comedy|Fantasy</td>\n",
       "    </tr>\n",
       "    <tr>\n",
       "      <th>8</th>\n",
       "      <td>27</td>\n",
       "      <td>1</td>\n",
       "      <td>3.0</td>\n",
       "      <td>962685262</td>\n",
       "      <td>Toy Story (1995)</td>\n",
       "      <td>Adventure|Animation|Children|Comedy|Fantasy</td>\n",
       "    </tr>\n",
       "    <tr>\n",
       "      <th>9</th>\n",
       "      <td>31</td>\n",
       "      <td>1</td>\n",
       "      <td>5.0</td>\n",
       "      <td>850466616</td>\n",
       "      <td>Toy Story (1995)</td>\n",
       "      <td>Adventure|Animation|Children|Comedy|Fantasy</td>\n",
       "    </tr>\n",
       "  </tbody>\n",
       "</table>"
      ],
      "text/plain": [
       "<IPython.core.display.HTML object>"
      ]
     },
     "metadata": {},
     "output_type": "display_data"
    }
   ],
   "source": [
    "ml_df = pd.merge(ml_ratings_df, ml_movies_df, on='movieId')\n",
    "shuffle = np.array(list(range(len(ml_df))))\n",
    "\n",
    "split_index = int(len(ml_df) * train_test_split)\n",
    "train_test_split = 0.8\n",
    "\n",
    "training_set = ml_df.iloc[shuffle[:split_index]]\n",
    "test_set = ml_df.iloc[shuffle[split_index:]]\n",
    "\n",
    "display(HTML(training_set.head(10).to_html()))"
   ]
  },
  {
   "cell_type": "markdown",
   "metadata": {},
   "source": [
    "## Pandas + numpy tasks"
   ]
  },
  {
   "cell_type": "markdown",
   "metadata": {},
   "source": [
    "**Task 18.** Create the entire interaction matrix for the MovieLens dataset."
   ]
  },
  {
   "cell_type": "code",
   "execution_count": 35,
   "metadata": {},
   "outputs": [
    {
     "name": "stdout",
     "output_type": "stream",
     "text": [
      "45\n"
     ]
    }
   ],
   "source": [
    "ml_df = pd.merge(ml_ratings_df, ml_movies_df, on='movieId')\n",
    "ml1 = ml_df[ml_df['userId'] == 1]\n",
    "ml4 = ml_df[ml_df['userId'] == 4]\n",
    "\n",
    "ml = pd.merge(ml1,ml4,on='movieId')\n",
    "\n",
    "print(len(ml))"
   ]
  },
  {
   "cell_type": "markdown",
   "metadata": {},
   "source": [
    "**Task 19.** Calculate the matrix of size (n_users, n_users) where at position (i, j) is the number of movies watched both by user i and user j. Print the submatrix of first 10 rows and 10 columns."
   ]
  },
  {
   "cell_type": "code",
   "execution_count": null,
   "metadata": {},
   "outputs": [],
   "source": [
    "ml_df = pd.merge(ml_ratings_df, ml_movies_df, on='movieId')\n",
    "ml1 = ml_df[ml_df['userId'] == 1]\n",
    "ml4 = ml_df[ml_df['userId'] == 4]\n",
    "\n",
    "ml = pd.merge(ml1,ml4,on='movieId')\n",
    "\n",
    "print(len(ml))"
   ]
  },
  {
   "cell_type": "markdown",
   "metadata": {},
   "source": [
    "**Task 20.** Calculate the matrix of size (n_items, n_items) where at position (i, j) is the number of users who watched both movie i and movie j. Print the submatrix of first 10 rows and 10 columns."
   ]
  },
  {
   "cell_type": "code",
   "execution_count": 36,
   "metadata": {},
   "outputs": [
    {
     "name": "stdout",
     "output_type": "stream",
     "text": [
      "26\n"
     ]
    }
   ],
   "source": [
    "ml_df = pd.merge(ml_ratings_df, ml_movies_df, on='movieId')\n",
    "ml2 = ml_df[ml_df['movieId'] == 2]\n",
    "ml3 = ml_df[ml_df['movieId'] == 3]\n",
    "\n",
    "ml = pd.merge(ml2,ml3,on='userId')\n",
    "\n",
    "print(len(ml))"
   ]
  },
  {
   "cell_type": "code",
   "execution_count": null,
   "metadata": {},
   "outputs": [],
   "source": []
  }
 ],
 "metadata": {
  "kernelspec": {
   "display_name": "Python 3",
   "language": "python",
   "name": "python3"
  },
  "language_info": {
   "codemirror_mode": {
    "name": "ipython",
    "version": 3
   },
   "file_extension": ".py",
   "mimetype": "text/x-python",
   "name": "python",
   "nbconvert_exporter": "python",
   "pygments_lexer": "ipython3",
   "version": "3.8.3"
  }
 },
 "nbformat": 4,
 "nbformat_minor": 5
}
