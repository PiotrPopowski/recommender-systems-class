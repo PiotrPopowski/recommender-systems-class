{
 "cells": [
  {
   "cell_type": "code",
   "execution_count": null,
   "id": "spread-happiness",
   "metadata": {},
   "outputs": [],
   "source": [
    "%matplotlib inline\n",
    "%load_ext autoreload\n",
    "%autoreload 2\n",
    "\n",
    "import numpy as np\n",
    "import pandas as pd\n",
    "import matplotlib.pyplot as plt\n",
    "import seaborn as sns\n",
    "from IPython.display import Markdown, display, HTML\n",
    "\n",
    "# Fix the dying kernel problem (only a problem in some installations - you can remove it, if it works without it)\n",
    "import os\n",
    "os.environ['KMP_DUPLICATE_LIB_OK'] = 'True'"
   ]
  },
  {
   "cell_type": "markdown",
   "id": "approximate-classic",
   "metadata": {},
   "source": [
    "# Numpy\n",
    "\n",
    "For a detailed reference check out: https://numpy.org/doc/stable/reference/arrays.indexing.html."
   ]
  },
  {
   "cell_type": "markdown",
   "id": "renewable-chase",
   "metadata": {},
   "source": [
    "## Creating numpy arrays"
   ]
  },
  {
   "cell_type": "markdown",
   "id": "afraid-consortium",
   "metadata": {},
   "source": [
    "### Directly"
   ]
  },
  {
   "cell_type": "code",
   "execution_count": null,
   "id": "textile-mainland",
   "metadata": {},
   "outputs": [],
   "source": [
    "a = np.array(\n",
    "    [[1.0, 2.0, 3.0], \n",
    "     [4.0, 5.0, 6.0], \n",
    "     [7.0, 8.0, 9.0]]\n",
    ")\n",
    "\n",
    "print(a)"
   ]
  },
  {
   "cell_type": "markdown",
   "id": "floating-junior",
   "metadata": {},
   "source": [
    "### From a list"
   ]
  },
  {
   "cell_type": "code",
   "execution_count": null,
   "id": "reasonable-mistress",
   "metadata": {},
   "outputs": [],
   "source": [
    "a = [[1.0, 2.0, 3.0], \n",
    "     [4.0, 5.0, 6.0], \n",
    "     [7.0, 8.0, 9.0]]\n",
    "\n",
    "print(a)\n",
    "print()\n",
    "\n",
    "a = np.array(a)\n",
    "\n",
    "print(a)"
   ]
  },
  {
   "cell_type": "markdown",
   "id": "incorrect-practitioner",
   "metadata": {},
   "source": [
    "### From a list comprehension"
   ]
  },
  {
   "cell_type": "code",
   "execution_count": null,
   "id": "straight-cooling",
   "metadata": {},
   "outputs": [],
   "source": [
    "a = [i**2 for i in range(10)]\n",
    "\n",
    "print(a)\n",
    "print()\n",
    "print(np.array(a))"
   ]
  },
  {
   "cell_type": "markdown",
   "id": "suffering-myanmar",
   "metadata": {},
   "source": [
    "### Ready-made functions in numpy"
   ]
  },
  {
   "cell_type": "code",
   "execution_count": null,
   "id": "expensive-bowling",
   "metadata": {},
   "outputs": [],
   "source": [
    "# All zeros\n",
    "a = np.zeros((3, 4))\n",
    "print(\"All zeros\")\n",
    "print(a)\n",
    "print()\n",
    "\n",
    "# All a chosen value\n",
    "a = np.full((3, 4), 7.0)\n",
    "print(\"All chosen value (variant 1)\")\n",
    "print(a)\n",
    "print()\n",
    "\n",
    "# or\n",
    "\n",
    "a = np.zeros((3, 4))\n",
    "a[:] = 7.0\n",
    "print(\"All chosen value (variant 2)\")\n",
    "print(a)\n",
    "print()\n",
    "\n",
    "# Random integers\n",
    "\n",
    "a = np.random.randint(low=0, high=10, size=(3, 2))\n",
    "print(\"Random integers\")\n",
    "print(a)\n",
    "print()\n",
    "\n",
    "# Random values from the normal distribution (Gaussian)\n",
    "\n",
    "print(\"Random values from the normal distribution\")\n",
    "a = np.random.normal(loc=0, scale=10, size=(3, 2))\n",
    "print(a)"
   ]
  },
  {
   "cell_type": "markdown",
   "id": "aggressive-titanium",
   "metadata": {},
   "source": [
    "## Slicing numpy arrays"
   ]
  },
  {
   "cell_type": "markdown",
   "id": "former-richardson",
   "metadata": {},
   "source": [
    "### Slicing in 1D\n",
    "\n",
    "To obtain only specific values from a numpy array one can use so called slicing. It has the form\n",
    "\n",
    "**arr[low:high:step]**\n",
    "\n",
    "where low is the lowest index to be retrieved, high is the lowest index not to be retrieved and step indicates that every step element will be taken."
   ]
  },
  {
   "cell_type": "code",
   "execution_count": null,
   "id": "desirable-documentary",
   "metadata": {},
   "outputs": [],
   "source": [
    "a = [i**2 for i in range(10)]\n",
    "\n",
    "print(\"Original: \", a)\n",
    "print(\"First 5 elements:\", a[:5])\n",
    "print(\"Elements from index 3 to index 5:\", a[3:6])\n",
    "print(\"Last 3 elements (negative indexing):\", a[-3:])\n",
    "print(\"Printed in reverse order:\", a[::-1])\n",
    "print(\"Every second element:\", a[::2])"
   ]
  },
  {
   "cell_type": "markdown",
   "id": "micro-explosion",
   "metadata": {},
   "source": [
    "### Slicing in 2D\n",
    "\n",
    "In two dimensions it works similarly, just the slicing is separate for every dimension."
   ]
  },
  {
   "cell_type": "code",
   "execution_count": null,
   "id": "disciplinary-think",
   "metadata": {},
   "outputs": [],
   "source": [
    "a = np.array([i for i in range(25)]).reshape(5, 5)\n",
    "\n",
    "print(\"Original: \")\n",
    "print(a)\n",
    "print()\n",
    "print(\"First 2 elements of the first 3 row:\")\n",
    "print(a[:3, :2])\n",
    "print()\n",
    "print(\"Middle 3 elements from the middle 3 rows:\")\n",
    "print(a[1:4, 1:4])\n",
    "print()\n",
    "print(\"Bottom-right 3 by 3 submatrix (negative indexing):\")\n",
    "print(a[-3:, -3:])\n",
    "print()\n",
    "print(\"Reversed columns:\")\n",
    "print(a[:, ::-1])\n",
    "print()"
   ]
  },
  {
   "cell_type": "markdown",
   "id": "removable-canyon",
   "metadata": {},
   "source": [
    "### Setting numpy array field values"
   ]
  },
  {
   "cell_type": "code",
   "execution_count": null,
   "id": "senior-serbia",
   "metadata": {},
   "outputs": [],
   "source": [
    "a = np.array([i for i in range(25)]).reshape(5, 5)\n",
    "\n",
    "print(\"Original: \")\n",
    "print(a)\n",
    "print()\n",
    "\n",
    "a[1:4, 1:4] = 5.0\n",
    "\n",
    "print(\"Middle values changed to 5\")\n",
    "print(a)\n",
    "print()\n",
    "\n",
    "b = np.array([i**2 - i for i in range(9)]).reshape(3, 3)\n",
    "\n",
    "print(\"Second matrix\")\n",
    "print(b)\n",
    "print()\n",
    "\n",
    "a[1:4, 1:4] = b\n",
    "\n",
    "print(\"Second matrix substituted into the middle of the first matrix\")\n",
    "print(a)"
   ]
  },
  {
   "cell_type": "markdown",
   "id": "federal-wayne",
   "metadata": {},
   "source": [
    "## Operations on numpy arrays\n",
    "\n",
    "It is important to remember that arithmetic operations on numpy arrays are always element-wise."
   ]
  },
  {
   "cell_type": "code",
   "execution_count": null,
   "id": "southwest-biotechnology",
   "metadata": {},
   "outputs": [],
   "source": [
    "a = np.array([i**2 for i in range(9)]).reshape((3, 3))\n",
    "print(a)\n",
    "print()\n",
    "\n",
    "b = np.array([i**0.5 for i in range(9)]).reshape((3, 3))\n",
    "print(b)\n",
    "print()"
   ]
  },
  {
   "cell_type": "markdown",
   "id": "intensive-gates",
   "metadata": {},
   "source": [
    "### Element-wise sum"
   ]
  },
  {
   "cell_type": "code",
   "execution_count": null,
   "id": "behavioral-safety",
   "metadata": {},
   "outputs": [],
   "source": [
    "print(a + b)"
   ]
  },
  {
   "cell_type": "markdown",
   "id": "occupied-trial",
   "metadata": {},
   "source": [
    "### Element-wise multiplication"
   ]
  },
  {
   "cell_type": "code",
   "execution_count": null,
   "id": "charming-pleasure",
   "metadata": {},
   "outputs": [],
   "source": [
    "print(a * b)"
   ]
  },
  {
   "cell_type": "markdown",
   "id": "efficient-league",
   "metadata": {},
   "source": [
    "### Matrix multiplication"
   ]
  },
  {
   "cell_type": "code",
   "execution_count": null,
   "id": "changing-community",
   "metadata": {},
   "outputs": [],
   "source": [
    "print(np.matmul(a, b))\n",
    "print()\n",
    "\n",
    "# Multiplication by the identity matrix (to check it works as expected)\n",
    "id_matrix = [[1.0, 0.0, 0.0], \n",
    "             [0.0, 1.0, 0.0], \n",
    "             [0.0, 0.0, 1.0]]\n",
    "\n",
    "print(np.matmul(id_matrix, a))"
   ]
  },
  {
   "cell_type": "markdown",
   "id": "assisted-communications",
   "metadata": {},
   "source": [
    "### Calculating the mean"
   ]
  },
  {
   "cell_type": "code",
   "execution_count": null,
   "id": "defensive-wrong",
   "metadata": {},
   "outputs": [],
   "source": [
    "a = np.random.randint(low=0, high=10, size=(5))\n",
    "\n",
    "print(a)\n",
    "print()\n",
    "\n",
    "print(\"Mean: \", np.sum(a) / len(a))"
   ]
  },
  {
   "cell_type": "markdown",
   "id": "complex-karma",
   "metadata": {},
   "source": [
    "### Calculating the mean of every row"
   ]
  },
  {
   "cell_type": "code",
   "execution_count": null,
   "id": "correct-dietary",
   "metadata": {},
   "outputs": [],
   "source": [
    "a = np.random.randint(low=0, high=10, size=(5, 3))\n",
    "\n",
    "print(a)\n",
    "print()\n",
    "\n",
    "print(\"Mean:\", np.sum(a, axis=1) / a.shape[1])\n",
    "\n",
    "print(\"Mean in the original matrix form:\")\n",
    "print((np.sum(a, axis=1) / a.shape[1]).reshape(-1, 1))  # -1 calculates the right size to use all elements"
   ]
  },
  {
   "cell_type": "markdown",
   "id": "indian-orlando",
   "metadata": {},
   "source": [
    "### More complex operations"
   ]
  },
  {
   "cell_type": "code",
   "execution_count": null,
   "id": "presidential-cologne",
   "metadata": {},
   "outputs": [],
   "source": [
    "a = [1.0, 2.0, 3.0]\n",
    "\n",
    "print(\"Vector to power 2 (element-wise)\")\n",
    "print(np.power(a, 2))\n",
    "print()\n",
    "print(\"Euler number to the power a (element-wise)\")\n",
    "print(np.exp(a))\n",
    "print()\n",
    "print(\"An even more complex expression\")\n",
    "print((np.power(a, 2) + np.exp(a)) / np.sum(a))"
   ]
  },
  {
   "cell_type": "markdown",
   "id": "hearing-street",
   "metadata": {},
   "source": [
    "## Numpy tasks"
   ]
  },
  {
   "cell_type": "markdown",
   "id": "regular-niger",
   "metadata": {},
   "source": [
    "**Task 1.** Calculate the sigmoid (logistic) function on every element of the following numpy array [0.3, 1.2, -1.4, 0.2, -0.1, 0.1, 0.8, -0.25] and print the last 5 elements. Use only vector operations."
   ]
  },
  {
   "cell_type": "code",
   "execution_count": null,
   "id": "agreed-single",
   "metadata": {},
   "outputs": [],
   "source": [
    "# Write your code here"
   ]
  },
  {
   "cell_type": "markdown",
   "id": "another-catch",
   "metadata": {},
   "source": [
    "**Task 2.** Calculate the dot product of the following two vectors:<br/>\n",
    "$x = [3, 1, 4, 2, 6, 1, 4, 8]$<br/>\n",
    "$y = [5, 2, 3, 12, 2, 4, 17, 11]$<br/>\n",
    "a) by using element-wise mutliplication and np.sum,<br/>\n",
    "b) by using np.dot,<br/>\n",
    "b) by using np.matmul and transposition (x.T)."
   ]
  },
  {
   "cell_type": "code",
   "execution_count": null,
   "id": "forbidden-journalism",
   "metadata": {},
   "outputs": [],
   "source": [
    "# Write your code here"
   ]
  },
  {
   "cell_type": "markdown",
   "id": "acute-amber",
   "metadata": {},
   "source": [
    "**Task 3.** Calculate the following expression<br/>\n",
    "$$\\frac{1}{1 + e^{-x_0 \\theta_0 - \\ldots - x_9 \\theta_9 - \\theta_{10}}}$$\n",
    "for<br/>\n",
    "$x = [1.2, 2.3, 3.4, -0.7, 4.2, 2.7, -0.5, -2.1, -3.3, 0.2]$<br/>\n",
    "$\\theta = [7.7, 0.33, -2.12, -1.73, 2.9, -5.8, -0.9, 12.11, 3.43, -0.5, 1.65]$<br/>\n",
    "and print the result. Use only vector operations."
   ]
  },
  {
   "cell_type": "code",
   "execution_count": null,
   "id": "falling-holder",
   "metadata": {},
   "outputs": [],
   "source": [
    "# Write your code here"
   ]
  },
  {
   "cell_type": "markdown",
   "id": "latter-vector",
   "metadata": {},
   "source": [
    "# Pandas"
   ]
  },
  {
   "cell_type": "markdown",
   "id": "contrary-vacuum",
   "metadata": {},
   "source": [
    "## Load datasets\n",
    "\n",
    "- Steam (https://www.kaggle.com/tamber/steam-video-games)\n",
    "\n",
    "- MovieLens (https://grouplens.org/datasets/movielens/)"
   ]
  },
  {
   "cell_type": "code",
   "execution_count": null,
   "id": "alert-friday",
   "metadata": {},
   "outputs": [],
   "source": [
    "steam_df = pd.read_csv(os.path.join(\"data\", \"steam\", \"steam-200k.csv\"), \n",
    "                       names=['user-id', 'game-title', 'behavior-name', 'value', 'zero'])\n",
    "\n",
    "ml_ratings_df = pd.read_csv(os.path.join(\"data\", \"movielens_small\", \"ratings.csv\"))\n",
    "ml_movies_df = pd.read_csv(os.path.join(\"data\", \"movielens_small\", \"movies.csv\"))"
   ]
  },
  {
   "cell_type": "markdown",
   "id": "personal-productivity",
   "metadata": {},
   "source": [
    "## Peek into the datasets"
   ]
  },
  {
   "cell_type": "code",
   "execution_count": null,
   "id": "musical-trust",
   "metadata": {},
   "outputs": [],
   "source": [
    "steam_df.head(10)"
   ]
  },
  {
   "cell_type": "code",
   "execution_count": null,
   "id": "electrical-floor",
   "metadata": {},
   "outputs": [],
   "source": [
    "ml_ratings_df.head(10)"
   ]
  },
  {
   "cell_type": "code",
   "execution_count": null,
   "id": "cordless-daniel",
   "metadata": {},
   "outputs": [],
   "source": [
    "ml_movies_df.head()"
   ]
  },
  {
   "cell_type": "markdown",
   "id": "alpha-portal",
   "metadata": {},
   "source": [
    "## Merge both MovieLens DataFrames into one"
   ]
  },
  {
   "cell_type": "code",
   "execution_count": null,
   "id": "affecting-disclosure",
   "metadata": {},
   "outputs": [],
   "source": [
    "ml_df = pd.merge(ml_ratings_df, ml_movies_df, on='movieId')\n",
    "ml_df.head(10)"
   ]
  },
  {
   "cell_type": "markdown",
   "id": "lightweight-constitution",
   "metadata": {},
   "source": [
    "## Choosing a row, a column or several columns"
   ]
  },
  {
   "cell_type": "code",
   "execution_count": null,
   "id": "excited-interface",
   "metadata": {},
   "outputs": [],
   "source": [
    "display(HTML(steam_df.head(10).to_html()))\n",
    "\n",
    "# Choosing rows by index\n",
    "chosen_df = steam_df[3:6]\n",
    "\n",
    "print(\"Choosing rows by index\")\n",
    "display(HTML(chosen_df.head(10).to_html()))\n",
    "\n",
    "# Choosing rows by position\n",
    "chosen_df = steam_df.iloc[3:6]\n",
    "\n",
    "print(\"Choosing rows by position\")\n",
    "display(HTML(chosen_df.head(10).to_html()))"
   ]
  },
  {
   "cell_type": "code",
   "execution_count": null,
   "id": "reflected-banner",
   "metadata": {},
   "outputs": [],
   "source": [
    "# Choosing a column\n",
    "chosen_df = steam_df[\"game-title\"]\n",
    "\n",
    "print(chosen_df.head(10))"
   ]
  },
  {
   "cell_type": "code",
   "execution_count": null,
   "id": "efficient-humidity",
   "metadata": {},
   "outputs": [],
   "source": [
    "# Choosing several columns\n",
    "chosen_df = steam_df[['user-id', 'game-title']]\n",
    "\n",
    "display(HTML(chosen_df.head(10).to_html()))"
   ]
  },
  {
   "cell_type": "markdown",
   "id": "popular-cause",
   "metadata": {},
   "source": [
    "### Splitting the dataset into training and test set"
   ]
  },
  {
   "cell_type": "code",
   "execution_count": null,
   "id": "continuous-cheat",
   "metadata": {},
   "outputs": [],
   "source": [
    "shuffle = np.array(list(range(len(steam_df))))\n",
    "\n",
    "# alternatively\n",
    "\n",
    "shuffle = np.arange(len(steam_df))\n",
    "\n",
    "np.random.shuffle(shuffle)\n",
    "shuffle = list(shuffle)\n",
    "print(\"Shuffled range of indices\")\n",
    "print(shuffle[:20])\n",
    "print()\n",
    "\n",
    "train_test_split = 0.8\n",
    "split_index = int(len(steam_df) * train_test_split)\n",
    "\n",
    "training_set = steam_df.iloc[shuffle[:split_index]]\n",
    "test_set = steam_df.iloc[shuffle[split_index:]]\n",
    "\n",
    "display(HTML(training_set.head(10).to_html()))\n",
    "\n",
    "display(HTML(test_set.head(10).to_html()))"
   ]
  },
  {
   "cell_type": "markdown",
   "id": "outside-twist",
   "metadata": {},
   "source": [
    "## Filtering"
   ]
  },
  {
   "cell_type": "markdown",
   "id": "otherwise-rachel",
   "metadata": {},
   "source": [
    "### Filtering columns"
   ]
  },
  {
   "cell_type": "code",
   "execution_count": null,
   "id": "numerical-pride",
   "metadata": {},
   "outputs": [],
   "source": [
    "chosen_df = steam_df.loc[:, ['user-id', 'game-title']]\n",
    "\n",
    "display(HTML(chosen_df.head(10).to_html()))"
   ]
  },
  {
   "cell_type": "markdown",
   "id": "interior-cleaner",
   "metadata": {},
   "source": [
    "### Filtering rows"
   ]
  },
  {
   "cell_type": "code",
   "execution_count": null,
   "id": "marine-growth",
   "metadata": {},
   "outputs": [],
   "source": [
    "condition = steam_df['game-title'] == 'Fallout 4'\n",
    "\n",
    "print(condition.head(10))\n",
    "\n",
    "chosen_df = steam_df.loc[condition]\n",
    "\n",
    "display(HTML(chosen_df.head(10).to_html()))"
   ]
  },
  {
   "cell_type": "markdown",
   "id": "functioning-condition",
   "metadata": {},
   "source": [
    "### Filtering rows and columns at once"
   ]
  },
  {
   "cell_type": "code",
   "execution_count": null,
   "id": "advanced-religion",
   "metadata": {},
   "outputs": [],
   "source": [
    "condition = (steam_df['game-title'] == 'Fallout 4') & (steam_df['behavior-name'] == 'play')\n",
    "\n",
    "chosen_df = steam_df.loc[condition, ['user-id', 'game-title', 'value']]\n",
    "\n",
    "display(HTML(chosen_df.head(10).to_html()))"
   ]
  },
  {
   "cell_type": "markdown",
   "id": "frequent-match",
   "metadata": {},
   "source": [
    "## Simple operations on columns"
   ]
  },
  {
   "cell_type": "markdown",
   "id": "described-sister",
   "metadata": {},
   "source": [
    "### Multiply a column by 2"
   ]
  },
  {
   "cell_type": "code",
   "execution_count": null,
   "id": "injured-sweet",
   "metadata": {},
   "outputs": [],
   "source": [
    "steam_df_copy = steam_df.copy()\n",
    "\n",
    "display(HTML(steam_df_copy.head(10).to_html()))\n",
    "\n",
    "steam_df_copy.loc[:, 'value'] = steam_df_copy['value'] * 2\n",
    "\n",
    "display(HTML(steam_df_copy.head(10).to_html()))"
   ]
  },
  {
   "cell_type": "markdown",
   "id": "executed-processor",
   "metadata": {},
   "source": [
    "### Choose the first n letters of a string"
   ]
  },
  {
   "cell_type": "code",
   "execution_count": null,
   "id": "forbidden-mining",
   "metadata": {},
   "outputs": [],
   "source": [
    "ml_movies_df_copy = ml_movies_df.copy()\n",
    "\n",
    "display(HTML(ml_movies_df_copy.head(10).to_html()))\n",
    "\n",
    "ml_movies_df_copy.loc[:, 'title'] = ml_movies_df_copy['title'].str[:6]\n",
    "\n",
    "display(HTML(ml_movies_df_copy.head(10).to_html()))"
   ]
  },
  {
   "cell_type": "markdown",
   "id": "incorporated-entrance",
   "metadata": {},
   "source": [
    "### Take the mean of a column"
   ]
  },
  {
   "cell_type": "code",
   "execution_count": null,
   "id": "selected-trial",
   "metadata": {},
   "outputs": [],
   "source": [
    "# Option 1\n",
    "print(steam_df['value'].mean())\n",
    "\n",
    "# Option 2\n",
    "print(np.mean(steam_df['value']))"
   ]
  },
  {
   "cell_type": "markdown",
   "id": "discrete-cheese",
   "metadata": {},
   "source": [
    "### Simple operation on filtered data"
   ]
  },
  {
   "cell_type": "code",
   "execution_count": null,
   "id": "bridal-greenhouse",
   "metadata": {},
   "outputs": [],
   "source": [
    "steam_df_copy = steam_df.loc[((steam_df['game-title'] == 'Fallout 4') | (steam_df['game-title'] == 'The Elder Scrolls V Skyrim')) \n",
    "                             & (steam_df['behavior-name'] == 'play')].copy()\n",
    "\n",
    "display(HTML(steam_df_copy.head(10).to_html()))\n",
    "\n",
    "condition = (steam_df_copy['game-title'] == 'Fallout 4') & (steam_df_copy['behavior-name'] == 'play')\n",
    "\n",
    "steam_df_copy.loc[condition, 'value'] = steam_df_copy.loc[condition, 'value'] * 2\n",
    "\n",
    "display(HTML(steam_df_copy.head(10).to_html()))"
   ]
  },
  {
   "cell_type": "markdown",
   "id": "relevant-strap",
   "metadata": {},
   "source": [
    "## Advanced operations on columns"
   ]
  },
  {
   "cell_type": "code",
   "execution_count": null,
   "id": "female-french",
   "metadata": {},
   "outputs": [],
   "source": [
    "def reduce_outliers(x):\n",
    "    return min(np.log(1 + x), 4)\n",
    "\n",
    "steam_df_copy = steam_df.loc[steam_df['behavior-name'] == 'play'].copy()\n",
    "\n",
    "display(HTML(steam_df_copy.head(10).to_html()))\n",
    "\n",
    "steam_df_copy.loc[:, 'value'] = steam_df_copy['value'].apply(reduce_outliers)\n",
    "\n",
    "display(HTML(steam_df_copy.head(10).to_html()))"
   ]
  },
  {
   "cell_type": "markdown",
   "id": "supported-graphic",
   "metadata": {},
   "source": [
    "### The same apply operation can be achieved with the use of a lambda function"
   ]
  },
  {
   "cell_type": "code",
   "execution_count": null,
   "id": "objective-survey",
   "metadata": {},
   "outputs": [],
   "source": [
    "steam_df_copy = steam_df.loc[steam_df['behavior-name'] == 'play'].copy()\n",
    "\n",
    "display(HTML(steam_df_copy.head(10).to_html()))\n",
    "\n",
    "steam_df_copy.loc[:, 'value'] = steam_df_copy['value'].apply(lambda x: min(np.log(1 + x), 4))\n",
    "\n",
    "display(HTML(steam_df_copy.head(10).to_html()))"
   ]
  },
  {
   "cell_type": "markdown",
   "id": "guilty-single",
   "metadata": {},
   "source": [
    "### Apply on two columns at once"
   ]
  },
  {
   "cell_type": "code",
   "execution_count": null,
   "id": "thrown-geneva",
   "metadata": {},
   "outputs": [],
   "source": [
    "steam_df_copy = steam_df.loc[steam_df['behavior-name'] == 'play'].copy()\n",
    "\n",
    "display(HTML(steam_df_copy.head(10).to_html()))\n",
    "\n",
    "steam_df_copy.loc[:, 'value_2'] = steam_df_copy['value'].apply(lambda x: min(np.log(1 + x), 4))\n",
    "\n",
    "display(HTML(steam_df_copy.head(10).to_html()))\n",
    "\n",
    "steam_df_copy.loc[:, 'value'] = steam_df_copy[['value', 'value_2']].apply(lambda x: x[0] * x[1], axis=1)\n",
    "\n",
    "display(HTML(steam_df_copy.head(10).to_html()))"
   ]
  },
  {
   "cell_type": "code",
   "execution_count": null,
   "id": "governing-alexandria",
   "metadata": {},
   "outputs": [],
   "source": [
    "ml_movies_df_copy = ml_movies_df.copy()\n",
    "\n",
    "display(HTML(ml_movies_df_copy.head(10).to_html()))\n",
    "\n",
    "ml_movies_df_copy.loc[:, 'title|genres'] = ml_movies_df_copy[['title', 'genres']].apply(lambda x: x[0] + \"|\" + x[1], axis=1)\n",
    "\n",
    "display(HTML(ml_movies_df_copy.head(10).to_html()))"
   ]
  },
  {
   "cell_type": "markdown",
   "id": "critical-fields",
   "metadata": {},
   "source": [
    "## Grouping and aggregating"
   ]
  },
  {
   "cell_type": "markdown",
   "id": "biological-light",
   "metadata": {},
   "source": [
    "### Find the most popular games (in terms of purchases)"
   ]
  },
  {
   "cell_type": "code",
   "execution_count": null,
   "id": "greenhouse-scout",
   "metadata": {},
   "outputs": [],
   "source": [
    "steam_grouped = steam_df.loc[steam_df['behavior-name'] == 'purchase', ['game-title', 'value']]\n",
    "steam_grouped = steam_grouped.groupby('game-title').sum()\n",
    "steam_grouped = steam_grouped.sort_values(by='value', ascending=False).reset_index()\n",
    "\n",
    "display(HTML(steam_grouped.head(10).to_html()))"
   ]
  },
  {
   "cell_type": "markdown",
   "id": "indie-calcium",
   "metadata": {},
   "source": [
    "## Iterating over a DataFrame (if possible, use column operations instead)"
   ]
  },
  {
   "cell_type": "code",
   "execution_count": null,
   "id": "laden-intersection",
   "metadata": {},
   "outputs": [],
   "source": [
    "i = 0\n",
    "for idx, row in steam_df.iterrows():\n",
    "    print(\"[{}, {}, {}]\".format(row['user-id'], row['game-title'], row['behavior-name']))\n",
    "    i += 1\n",
    "    if i == 10:\n",
    "        break"
   ]
  },
  {
   "cell_type": "markdown",
   "id": "objective-associate",
   "metadata": {},
   "source": [
    "## Pandas tasks - Steam dataset"
   ]
  },
  {
   "cell_type": "markdown",
   "id": "floppy-american",
   "metadata": {},
   "source": [
    "**Task 4.** How many people made a purchase in the Steam dataset? Remember that a person could by many games, but you need to count every person once."
   ]
  },
  {
   "cell_type": "code",
   "execution_count": null,
   "id": "decimal-grass",
   "metadata": {},
   "outputs": [],
   "source": [
    "# Write your code here"
   ]
  },
  {
   "cell_type": "markdown",
   "id": "protected-glossary",
   "metadata": {},
   "source": [
    "**Task 5.** How many people made a purchase of \"The Elder Scrolls V Skyrim\"?"
   ]
  },
  {
   "cell_type": "code",
   "execution_count": null,
   "id": "distant-overview",
   "metadata": {},
   "outputs": [],
   "source": [
    "# Write your code here"
   ]
  },
  {
   "cell_type": "markdown",
   "id": "vocational-weekly",
   "metadata": {},
   "source": [
    "**Task 6.** How many purchases people made on average?"
   ]
  },
  {
   "cell_type": "code",
   "execution_count": null,
   "id": "reflected-cathedral",
   "metadata": {},
   "outputs": [],
   "source": [
    "# Write your code here"
   ]
  },
  {
   "cell_type": "markdown",
   "id": "signed-transaction",
   "metadata": {},
   "source": [
    "**Task 7.** Who bought the most games?"
   ]
  },
  {
   "cell_type": "code",
   "execution_count": null,
   "id": "handmade-revolution",
   "metadata": {},
   "outputs": [],
   "source": [
    "# Write your code here"
   ]
  },
  {
   "cell_type": "markdown",
   "id": "piano-bobby",
   "metadata": {},
   "source": [
    "**Task 8.** How many hours on average people played in \"The Elder Scrolls V Skyrim\"?"
   ]
  },
  {
   "cell_type": "code",
   "execution_count": null,
   "id": "hydraulic-observation",
   "metadata": {},
   "outputs": [],
   "source": [
    "# Write your code here"
   ]
  },
  {
   "cell_type": "markdown",
   "id": "stuffed-creativity",
   "metadata": {},
   "source": [
    "**Task 9.** Which games were played the most (in terms of the number of hours played)? Print the first 10 titles and respective numbers of hours."
   ]
  },
  {
   "cell_type": "code",
   "execution_count": null,
   "id": "challenging-truck",
   "metadata": {},
   "outputs": [],
   "source": [
    "# Write your code here"
   ]
  },
  {
   "cell_type": "markdown",
   "id": "crude-petroleum",
   "metadata": {},
   "source": [
    "**Task 10.** Which games are the most consistently played (in terms of the average number of hours played)? Print the first 10 titles and respective numbers of hours."
   ]
  },
  {
   "cell_type": "code",
   "execution_count": null,
   "id": "surgical-lawsuit",
   "metadata": {},
   "outputs": [],
   "source": [
    "# Write your code here"
   ]
  },
  {
   "cell_type": "markdown",
   "id": "monetary-toyota",
   "metadata": {},
   "source": [
    "**Task 11\\*\\*.** Fix the above for the fact that 0 hours played is not listed, but only a purchase is recorded in such a case."
   ]
  },
  {
   "cell_type": "code",
   "execution_count": null,
   "id": "protective-report",
   "metadata": {},
   "outputs": [],
   "source": [
    "# Write your code here"
   ]
  },
  {
   "cell_type": "markdown",
   "id": "ceramic-awareness",
   "metadata": {},
   "source": [
    "**Task 12.** Apply the sigmoid function\n",
    "$$f(x) = \\frac{1}{1 + e^{-\\frac{1}{100}x}}$$\n",
    "to hours played and print the first 10 rows from the entire Steam dataset after this change."
   ]
  },
  {
   "cell_type": "code",
   "execution_count": null,
   "id": "optical-announcement",
   "metadata": {},
   "outputs": [],
   "source": [
    "# Write your code here"
   ]
  },
  {
   "cell_type": "markdown",
   "id": "actual-spotlight",
   "metadata": {},
   "source": [
    "## Pandas tasks - MovieLens dataset"
   ]
  },
  {
   "cell_type": "markdown",
   "id": "inclusive-crash",
   "metadata": {},
   "source": [
    "**Task 13\\*.** Calculate popularity (by the number of users who watched a movie) of all genres."
   ]
  },
  {
   "cell_type": "code",
   "execution_count": null,
   "id": "developmental-seven",
   "metadata": {},
   "outputs": [],
   "source": [
    "# Write your code here"
   ]
  },
  {
   "cell_type": "markdown",
   "id": "personalized-finland",
   "metadata": {},
   "source": [
    "**Task 14\\*.** Calculate average rating for all genres."
   ]
  },
  {
   "cell_type": "code",
   "execution_count": null,
   "id": "inside-personal",
   "metadata": {},
   "outputs": [],
   "source": [
    "# Write your code here"
   ]
  },
  {
   "cell_type": "markdown",
   "id": "vertical-stick",
   "metadata": {},
   "source": [
    "**Task 15.** Calculate each movie rating bias (deviation from the mean of all movies average ratings). Print first 10 in the form: title, average rating, bias."
   ]
  },
  {
   "cell_type": "code",
   "execution_count": null,
   "id": "greatest-screen",
   "metadata": {},
   "outputs": [],
   "source": [
    "# Write your code here"
   ]
  },
  {
   "cell_type": "markdown",
   "id": "hawaiian-haiti",
   "metadata": {},
   "source": [
    "**Task 16.** Calculate each movie rating bias (deviation from the mean of all users average ratings). Print first 10 in the form: user_id, average rating, bias."
   ]
  },
  {
   "cell_type": "code",
   "execution_count": null,
   "id": "charitable-guyana",
   "metadata": {},
   "outputs": [],
   "source": [
    "# Write your code here"
   ]
  },
  {
   "cell_type": "markdown",
   "id": "intimate-porcelain",
   "metadata": {},
   "source": [
    "**Task 17.** Randomly choose 10 movies and 10 users and print their interaction matrix in the form of a DataFrame with user_id as index and movie titles as columns (use HTML Display for that). You can iterate over the DataFrame in this task."
   ]
  },
  {
   "cell_type": "code",
   "execution_count": null,
   "id": "brazilian-frost",
   "metadata": {},
   "outputs": [],
   "source": [
    "# Write your code here"
   ]
  },
  {
   "cell_type": "markdown",
   "id": "boolean-modem",
   "metadata": {},
   "source": [
    "## Pandas + numpy tasks"
   ]
  },
  {
   "cell_type": "markdown",
   "id": "worldwide-disclaimer",
   "metadata": {},
   "source": [
    "**Task 18.** Create the entire interaction matrix for the MovieLens dataset."
   ]
  },
  {
   "cell_type": "code",
   "execution_count": null,
   "id": "marine-initial",
   "metadata": {},
   "outputs": [],
   "source": [
    "# Write your code here"
   ]
  },
  {
   "cell_type": "markdown",
   "id": "micro-vision",
   "metadata": {},
   "source": [
    "**Task 19.** Calculate the matrix of size (n_users, n_users) where at position (i, j) is the number of movies watched both by user i and user j. Print the submatrix of first 10 rows and 10 columns."
   ]
  },
  {
   "cell_type": "code",
   "execution_count": null,
   "id": "swedish-lambda",
   "metadata": {},
   "outputs": [],
   "source": [
    "# Write your code here"
   ]
  },
  {
   "cell_type": "markdown",
   "id": "shaped-advance",
   "metadata": {},
   "source": [
    "**Task 20.** Calculate the matrix of size (n_items, n_items) where at position (i, j) is the number of users who watched both movie i and movie j. Print the submatrix of first 10 rows and 10 columns."
   ]
  },
  {
   "cell_type": "code",
   "execution_count": null,
   "id": "quality-bubble",
   "metadata": {},
   "outputs": [],
   "source": [
    "# Write your code here"
   ]
  }
 ],
 "metadata": {
  "kernelspec": {
   "display_name": "Python 3",
   "language": "python",
   "name": "python3"
  },
  "language_info": {
   "codemirror_mode": {
    "name": "ipython",
    "version": 3
   },
   "file_extension": ".py",
   "mimetype": "text/x-python",
   "name": "python",
   "nbconvert_exporter": "python",
   "pygments_lexer": "ipython3",
   "version": "3.6.9"
  }
 },
 "nbformat": 4,
 "nbformat_minor": 5
}
